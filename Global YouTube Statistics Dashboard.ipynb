{
 "cells": [
  {
   "cell_type": "code",
   "execution_count": 1,
   "id": "0ae755cc",
   "metadata": {},
   "outputs": [
    {
     "name": "stdout",
     "output_type": "stream",
     "text": [
      "Requirement already satisfied: dash in c:\\users\\prince jha\\anaconda3\\lib\\site-packages (2.13.0)\n",
      "Requirement already satisfied: setuptools in c:\\users\\prince jha\\anaconda3\\lib\\site-packages (from dash) (65.6.3)\n",
      "Requirement already satisfied: dash-html-components==2.0.0 in c:\\users\\prince jha\\anaconda3\\lib\\site-packages (from dash) (2.0.0)\n",
      "Requirement already satisfied: requests in c:\\users\\prince jha\\anaconda3\\lib\\site-packages (from dash) (2.28.1)\n",
      "Requirement already satisfied: ansi2html in c:\\users\\prince jha\\anaconda3\\lib\\site-packages (from dash) (1.8.0)\n",
      "Requirement already satisfied: dash-table==5.0.0 in c:\\users\\prince jha\\anaconda3\\lib\\site-packages (from dash) (5.0.0)\n",
      "Requirement already satisfied: typing-extensions>=4.1.1 in c:\\users\\prince jha\\anaconda3\\lib\\site-packages (from dash) (4.4.0)\n",
      "Requirement already satisfied: Werkzeug<2.3.0 in c:\\users\\prince jha\\anaconda3\\lib\\site-packages (from dash) (2.2.2)\n",
      "Requirement already satisfied: retrying in c:\\users\\prince jha\\anaconda3\\lib\\site-packages (from dash) (1.3.4)\n",
      "Requirement already satisfied: dash-core-components==2.0.0 in c:\\users\\prince jha\\anaconda3\\lib\\site-packages (from dash) (2.0.0)\n",
      "Requirement already satisfied: plotly>=5.0.0 in c:\\users\\prince jha\\anaconda3\\lib\\site-packages (from dash) (5.9.0)\n",
      "Requirement already satisfied: nest-asyncio in c:\\users\\prince jha\\anaconda3\\lib\\site-packages (from dash) (1.5.6)\n",
      "Requirement already satisfied: Flask<2.3.0,>=1.0.4 in c:\\users\\prince jha\\anaconda3\\lib\\site-packages (from dash) (2.2.2)\n",
      "Requirement already satisfied: itsdangerous>=2.0 in c:\\users\\prince jha\\anaconda3\\lib\\site-packages (from Flask<2.3.0,>=1.0.4->dash) (2.0.1)\n",
      "Requirement already satisfied: click>=8.0 in c:\\users\\prince jha\\anaconda3\\lib\\site-packages (from Flask<2.3.0,>=1.0.4->dash) (8.0.4)\n",
      "Requirement already satisfied: Jinja2>=3.0 in c:\\users\\prince jha\\anaconda3\\lib\\site-packages (from Flask<2.3.0,>=1.0.4->dash) (3.1.2)\n",
      "Requirement already satisfied: tenacity>=6.2.0 in c:\\users\\prince jha\\anaconda3\\lib\\site-packages (from plotly>=5.0.0->dash) (8.0.1)\n",
      "Requirement already satisfied: MarkupSafe>=2.1.1 in c:\\users\\prince jha\\anaconda3\\lib\\site-packages (from Werkzeug<2.3.0->dash) (2.1.1)\n",
      "Requirement already satisfied: urllib3<1.27,>=1.21.1 in c:\\users\\prince jha\\anaconda3\\lib\\site-packages (from requests->dash) (1.26.14)\n",
      "Requirement already satisfied: idna<4,>=2.5 in c:\\users\\prince jha\\anaconda3\\lib\\site-packages (from requests->dash) (3.4)\n",
      "Requirement already satisfied: charset-normalizer<3,>=2 in c:\\users\\prince jha\\anaconda3\\lib\\site-packages (from requests->dash) (2.0.4)\n",
      "Requirement already satisfied: certifi>=2017.4.17 in c:\\users\\prince jha\\anaconda3\\lib\\site-packages (from requests->dash) (2022.12.7)\n",
      "Requirement already satisfied: six>=1.7.0 in c:\\users\\prince jha\\anaconda3\\lib\\site-packages (from retrying->dash) (1.16.0)\n",
      "Requirement already satisfied: colorama in c:\\users\\prince jha\\anaconda3\\lib\\site-packages (from click>=8.0->Flask<2.3.0,>=1.0.4->dash) (0.4.6)\n"
     ]
    }
   ],
   "source": [
    "!pip install dash"
   ]
  },
  {
   "cell_type": "code",
   "execution_count": 3,
   "id": "3554cc43",
   "metadata": {},
   "outputs": [],
   "source": [
    "import dash\n",
    "from dash import Dash, dcc, html\n",
    "from dash.dependencies import Input, Output\n",
    "import pandas as pd\n",
    "import plotly.express as px\n",
    "import seaborn as sns\n",
    "\n",
    "# Load the CSV data\n",
    "url = 'Global.xlsx'\n",
    "df = pd.read_excel(url)"
   ]
  },
  {
   "cell_type": "code",
   "execution_count": 62,
   "id": "ee65c5e4",
   "metadata": {},
   "outputs": [
    {
     "data": {
      "text/html": [
       "<div>\n",
       "<style scoped>\n",
       "    .dataframe tbody tr th:only-of-type {\n",
       "        vertical-align: middle;\n",
       "    }\n",
       "\n",
       "    .dataframe tbody tr th {\n",
       "        vertical-align: top;\n",
       "    }\n",
       "\n",
       "    .dataframe thead th {\n",
       "        text-align: right;\n",
       "    }\n",
       "</style>\n",
       "<table border=\"1\" class=\"dataframe\">\n",
       "  <thead>\n",
       "    <tr style=\"text-align: right;\">\n",
       "      <th></th>\n",
       "      <th>rank</th>\n",
       "      <th>Youtuber</th>\n",
       "      <th>subscribers</th>\n",
       "      <th>video views</th>\n",
       "      <th>category</th>\n",
       "      <th>Title</th>\n",
       "      <th>uploads</th>\n",
       "      <th>Country</th>\n",
       "      <th>Abbreviation</th>\n",
       "      <th>channel_type</th>\n",
       "      <th>...</th>\n",
       "      <th>highest_yearly_earnings</th>\n",
       "      <th>subscribers_for_last_30_days</th>\n",
       "      <th>created_year</th>\n",
       "      <th>created_month</th>\n",
       "      <th>created_date</th>\n",
       "      <th>Population</th>\n",
       "      <th>Unemployment rate</th>\n",
       "      <th>Urban_population</th>\n",
       "      <th>Latitude</th>\n",
       "      <th>Longitude</th>\n",
       "    </tr>\n",
       "  </thead>\n",
       "  <tbody>\n",
       "    <tr>\n",
       "      <th>0</th>\n",
       "      <td>1</td>\n",
       "      <td>T-Series</td>\n",
       "      <td>245000000</td>\n",
       "      <td>228000000000</td>\n",
       "      <td>Music</td>\n",
       "      <td>T-Series</td>\n",
       "      <td>20082</td>\n",
       "      <td>India</td>\n",
       "      <td>IN</td>\n",
       "      <td>Music</td>\n",
       "      <td>...</td>\n",
       "      <td>1.084000e+08</td>\n",
       "      <td>2000000</td>\n",
       "      <td>2006</td>\n",
       "      <td>Mar</td>\n",
       "      <td>13</td>\n",
       "      <td>1366417754</td>\n",
       "      <td>5.36</td>\n",
       "      <td>471031528</td>\n",
       "      <td>20.593684</td>\n",
       "      <td>78.962880</td>\n",
       "    </tr>\n",
       "    <tr>\n",
       "      <th>1</th>\n",
       "      <td>2</td>\n",
       "      <td>YouTube Movies</td>\n",
       "      <td>170000000</td>\n",
       "      <td>0</td>\n",
       "      <td>Film &amp; Animation</td>\n",
       "      <td>youtubemovies</td>\n",
       "      <td>1</td>\n",
       "      <td>United States</td>\n",
       "      <td>US</td>\n",
       "      <td>Games</td>\n",
       "      <td>...</td>\n",
       "      <td>5.800000e-01</td>\n",
       "      <td>0</td>\n",
       "      <td>2006</td>\n",
       "      <td>Mar</td>\n",
       "      <td>5</td>\n",
       "      <td>328239523</td>\n",
       "      <td>14.70</td>\n",
       "      <td>270663028</td>\n",
       "      <td>37.090240</td>\n",
       "      <td>-95.712891</td>\n",
       "    </tr>\n",
       "    <tr>\n",
       "      <th>2</th>\n",
       "      <td>3</td>\n",
       "      <td>MrBeast</td>\n",
       "      <td>166000000</td>\n",
       "      <td>28368841870</td>\n",
       "      <td>Entertainment</td>\n",
       "      <td>MrBeast</td>\n",
       "      <td>741</td>\n",
       "      <td>United States</td>\n",
       "      <td>US</td>\n",
       "      <td>Entertainment</td>\n",
       "      <td>...</td>\n",
       "      <td>6.470000e+07</td>\n",
       "      <td>8000000</td>\n",
       "      <td>2012</td>\n",
       "      <td>Feb</td>\n",
       "      <td>20</td>\n",
       "      <td>328239523</td>\n",
       "      <td>14.70</td>\n",
       "      <td>270663028</td>\n",
       "      <td>37.090240</td>\n",
       "      <td>-95.712891</td>\n",
       "    </tr>\n",
       "    <tr>\n",
       "      <th>3</th>\n",
       "      <td>4</td>\n",
       "      <td>Cocomelon - Nursery Rhymes</td>\n",
       "      <td>162000000</td>\n",
       "      <td>164000000000</td>\n",
       "      <td>Education</td>\n",
       "      <td>Cocomelon - Nursery Rhymes</td>\n",
       "      <td>966</td>\n",
       "      <td>United States</td>\n",
       "      <td>US</td>\n",
       "      <td>Education</td>\n",
       "      <td>...</td>\n",
       "      <td>9.480000e+07</td>\n",
       "      <td>1000000</td>\n",
       "      <td>2006</td>\n",
       "      <td>Sep</td>\n",
       "      <td>1</td>\n",
       "      <td>328239523</td>\n",
       "      <td>14.70</td>\n",
       "      <td>270663028</td>\n",
       "      <td>37.090240</td>\n",
       "      <td>-95.712891</td>\n",
       "    </tr>\n",
       "    <tr>\n",
       "      <th>4</th>\n",
       "      <td>5</td>\n",
       "      <td>SET India</td>\n",
       "      <td>159000000</td>\n",
       "      <td>148000000000</td>\n",
       "      <td>Shows</td>\n",
       "      <td>SET India</td>\n",
       "      <td>116536</td>\n",
       "      <td>India</td>\n",
       "      <td>IN</td>\n",
       "      <td>Entertainment</td>\n",
       "      <td>...</td>\n",
       "      <td>8.750000e+07</td>\n",
       "      <td>1000000</td>\n",
       "      <td>2006</td>\n",
       "      <td>Sep</td>\n",
       "      <td>20</td>\n",
       "      <td>1366417754</td>\n",
       "      <td>5.36</td>\n",
       "      <td>471031528</td>\n",
       "      <td>20.593684</td>\n",
       "      <td>78.962880</td>\n",
       "    </tr>\n",
       "  </tbody>\n",
       "</table>\n",
       "<p>5 rows × 27 columns</p>\n",
       "</div>"
      ],
      "text/plain": [
       "   rank                    Youtuber  subscribers   video views  \\\n",
       "0     1                    T-Series    245000000  228000000000   \n",
       "1     2              YouTube Movies    170000000             0   \n",
       "2     3                     MrBeast    166000000   28368841870   \n",
       "3     4  Cocomelon - Nursery Rhymes    162000000  164000000000   \n",
       "4     5                   SET India    159000000  148000000000   \n",
       "\n",
       "           category                       Title  uploads        Country  \\\n",
       "0             Music                    T-Series    20082          India   \n",
       "1  Film & Animation               youtubemovies        1  United States   \n",
       "2     Entertainment                     MrBeast      741  United States   \n",
       "3         Education  Cocomelon - Nursery Rhymes      966  United States   \n",
       "4             Shows                   SET India   116536          India   \n",
       "\n",
       "  Abbreviation   channel_type  ...  highest_yearly_earnings  \\\n",
       "0           IN          Music  ...             1.084000e+08   \n",
       "1           US          Games  ...             5.800000e-01   \n",
       "2           US  Entertainment  ...             6.470000e+07   \n",
       "3           US      Education  ...             9.480000e+07   \n",
       "4           IN  Entertainment  ...             8.750000e+07   \n",
       "\n",
       "   subscribers_for_last_30_days  created_year  created_month  created_date  \\\n",
       "0                       2000000          2006            Mar            13   \n",
       "1                             0          2006            Mar             5   \n",
       "2                       8000000          2012            Feb            20   \n",
       "3                       1000000          2006            Sep             1   \n",
       "4                       1000000          2006            Sep            20   \n",
       "\n",
       "   Population  Unemployment rate  Urban_population   Latitude  Longitude  \n",
       "0  1366417754               5.36         471031528  20.593684  78.962880  \n",
       "1   328239523              14.70         270663028  37.090240 -95.712891  \n",
       "2   328239523              14.70         270663028  37.090240 -95.712891  \n",
       "3   328239523              14.70         270663028  37.090240 -95.712891  \n",
       "4  1366417754               5.36         471031528  20.593684  78.962880  \n",
       "\n",
       "[5 rows x 27 columns]"
      ]
     },
     "execution_count": 62,
     "metadata": {},
     "output_type": "execute_result"
    }
   ],
   "source": [
    "df.head(5)"
   ]
  },
  {
   "cell_type": "code",
   "execution_count": 63,
   "id": "17a7ab5f",
   "metadata": {},
   "outputs": [
    {
     "data": {
      "text/html": [
       "<div>\n",
       "<style scoped>\n",
       "    .dataframe tbody tr th:only-of-type {\n",
       "        vertical-align: middle;\n",
       "    }\n",
       "\n",
       "    .dataframe tbody tr th {\n",
       "        vertical-align: top;\n",
       "    }\n",
       "\n",
       "    .dataframe thead th {\n",
       "        text-align: right;\n",
       "    }\n",
       "</style>\n",
       "<table border=\"1\" class=\"dataframe\">\n",
       "  <thead>\n",
       "    <tr style=\"text-align: right;\">\n",
       "      <th></th>\n",
       "      <th>rank</th>\n",
       "      <th>Youtuber</th>\n",
       "      <th>subscribers</th>\n",
       "      <th>video views</th>\n",
       "      <th>category</th>\n",
       "      <th>Title</th>\n",
       "      <th>uploads</th>\n",
       "      <th>Country</th>\n",
       "      <th>Abbreviation</th>\n",
       "      <th>channel_type</th>\n",
       "      <th>...</th>\n",
       "      <th>highest_yearly_earnings</th>\n",
       "      <th>subscribers_for_last_30_days</th>\n",
       "      <th>created_year</th>\n",
       "      <th>created_month</th>\n",
       "      <th>created_date</th>\n",
       "      <th>Population</th>\n",
       "      <th>Unemployment rate</th>\n",
       "      <th>Urban_population</th>\n",
       "      <th>Latitude</th>\n",
       "      <th>Longitude</th>\n",
       "    </tr>\n",
       "  </thead>\n",
       "  <tbody>\n",
       "    <tr>\n",
       "      <th>864</th>\n",
       "      <td>991</td>\n",
       "      <td>Natan por Aï¿</td>\n",
       "      <td>12300000</td>\n",
       "      <td>9029609749</td>\n",
       "      <td>Sports</td>\n",
       "      <td>Natan por Aï¿</td>\n",
       "      <td>1200</td>\n",
       "      <td>Brazil</td>\n",
       "      <td>BR</td>\n",
       "      <td>Entertainment</td>\n",
       "      <td>...</td>\n",
       "      <td>26500000.0</td>\n",
       "      <td>700000</td>\n",
       "      <td>2017</td>\n",
       "      <td>Feb</td>\n",
       "      <td>12</td>\n",
       "      <td>212559417</td>\n",
       "      <td>12.08</td>\n",
       "      <td>183241641</td>\n",
       "      <td>-14.235004</td>\n",
       "      <td>-51.925280</td>\n",
       "    </tr>\n",
       "    <tr>\n",
       "      <th>865</th>\n",
       "      <td>992</td>\n",
       "      <td>Free Fire India Official</td>\n",
       "      <td>12300000</td>\n",
       "      <td>1674409945</td>\n",
       "      <td>People &amp; Blogs</td>\n",
       "      <td>Free Fire India Official</td>\n",
       "      <td>1500</td>\n",
       "      <td>India</td>\n",
       "      <td>IN</td>\n",
       "      <td>Games</td>\n",
       "      <td>...</td>\n",
       "      <td>3100000.0</td>\n",
       "      <td>300000</td>\n",
       "      <td>2018</td>\n",
       "      <td>Sep</td>\n",
       "      <td>14</td>\n",
       "      <td>1366417754</td>\n",
       "      <td>5.36</td>\n",
       "      <td>471031528</td>\n",
       "      <td>20.593684</td>\n",
       "      <td>78.962880</td>\n",
       "    </tr>\n",
       "    <tr>\n",
       "      <th>866</th>\n",
       "      <td>993</td>\n",
       "      <td>Panda</td>\n",
       "      <td>12300000</td>\n",
       "      <td>2214684303</td>\n",
       "      <td>other</td>\n",
       "      <td>HybridPanda</td>\n",
       "      <td>2452</td>\n",
       "      <td>United Kingdom</td>\n",
       "      <td>GB</td>\n",
       "      <td>Games</td>\n",
       "      <td>...</td>\n",
       "      <td>3200.0</td>\n",
       "      <td>1000</td>\n",
       "      <td>2006</td>\n",
       "      <td>Sep</td>\n",
       "      <td>11</td>\n",
       "      <td>66834405</td>\n",
       "      <td>3.85</td>\n",
       "      <td>55908316</td>\n",
       "      <td>55.378051</td>\n",
       "      <td>-3.435973</td>\n",
       "    </tr>\n",
       "    <tr>\n",
       "      <th>867</th>\n",
       "      <td>994</td>\n",
       "      <td>RobTopGames</td>\n",
       "      <td>12300000</td>\n",
       "      <td>374123483</td>\n",
       "      <td>Gaming</td>\n",
       "      <td>RobTopGames</td>\n",
       "      <td>39</td>\n",
       "      <td>Sweden</td>\n",
       "      <td>SE</td>\n",
       "      <td>Games</td>\n",
       "      <td>...</td>\n",
       "      <td>185800.0</td>\n",
       "      <td>100000</td>\n",
       "      <td>2012</td>\n",
       "      <td>May</td>\n",
       "      <td>9</td>\n",
       "      <td>10285453</td>\n",
       "      <td>6.48</td>\n",
       "      <td>9021165</td>\n",
       "      <td>60.128161</td>\n",
       "      <td>18.643501</td>\n",
       "    </tr>\n",
       "    <tr>\n",
       "      <th>868</th>\n",
       "      <td>995</td>\n",
       "      <td>Make Joke Of</td>\n",
       "      <td>12300000</td>\n",
       "      <td>2129773714</td>\n",
       "      <td>Comedy</td>\n",
       "      <td>Make Joke Of</td>\n",
       "      <td>62</td>\n",
       "      <td>India</td>\n",
       "      <td>IN</td>\n",
       "      <td>Comedy</td>\n",
       "      <td>...</td>\n",
       "      <td>1200000.0</td>\n",
       "      <td>100000</td>\n",
       "      <td>2017</td>\n",
       "      <td>Aug</td>\n",
       "      <td>1</td>\n",
       "      <td>1366417754</td>\n",
       "      <td>5.36</td>\n",
       "      <td>471031528</td>\n",
       "      <td>20.593684</td>\n",
       "      <td>78.962880</td>\n",
       "    </tr>\n",
       "  </tbody>\n",
       "</table>\n",
       "<p>5 rows × 27 columns</p>\n",
       "</div>"
      ],
      "text/plain": [
       "     rank                  Youtuber  subscribers  video views        category  \\\n",
       "864   991             Natan por Aï¿     12300000   9029609749          Sports   \n",
       "865   992  Free Fire India Official     12300000   1674409945  People & Blogs   \n",
       "866   993                     Panda     12300000   2214684303           other   \n",
       "867   994               RobTopGames     12300000    374123483          Gaming   \n",
       "868   995              Make Joke Of     12300000   2129773714          Comedy   \n",
       "\n",
       "                        Title  uploads         Country Abbreviation  \\\n",
       "864             Natan por Aï¿     1200          Brazil           BR   \n",
       "865  Free Fire India Official     1500           India           IN   \n",
       "866               HybridPanda     2452  United Kingdom           GB   \n",
       "867               RobTopGames       39          Sweden           SE   \n",
       "868              Make Joke Of       62           India           IN   \n",
       "\n",
       "      channel_type  ...  highest_yearly_earnings  \\\n",
       "864  Entertainment  ...               26500000.0   \n",
       "865          Games  ...                3100000.0   \n",
       "866          Games  ...                   3200.0   \n",
       "867          Games  ...                 185800.0   \n",
       "868         Comedy  ...                1200000.0   \n",
       "\n",
       "     subscribers_for_last_30_days  created_year  created_month  created_date  \\\n",
       "864                        700000          2017            Feb            12   \n",
       "865                        300000          2018            Sep            14   \n",
       "866                          1000          2006            Sep            11   \n",
       "867                        100000          2012            May             9   \n",
       "868                        100000          2017            Aug             1   \n",
       "\n",
       "     Population  Unemployment rate  Urban_population   Latitude  Longitude  \n",
       "864   212559417              12.08         183241641 -14.235004 -51.925280  \n",
       "865  1366417754               5.36         471031528  20.593684  78.962880  \n",
       "866    66834405               3.85          55908316  55.378051  -3.435973  \n",
       "867    10285453               6.48           9021165  60.128161  18.643501  \n",
       "868  1366417754               5.36         471031528  20.593684  78.962880  \n",
       "\n",
       "[5 rows x 27 columns]"
      ]
     },
     "execution_count": 63,
     "metadata": {},
     "output_type": "execute_result"
    }
   ],
   "source": [
    "df.tail(5)"
   ]
  },
  {
   "cell_type": "code",
   "execution_count": 64,
   "id": "ccedf1cd",
   "metadata": {},
   "outputs": [
    {
     "data": {
      "text/html": [
       "<div>\n",
       "<style scoped>\n",
       "    .dataframe tbody tr th:only-of-type {\n",
       "        vertical-align: middle;\n",
       "    }\n",
       "\n",
       "    .dataframe tbody tr th {\n",
       "        vertical-align: top;\n",
       "    }\n",
       "\n",
       "    .dataframe thead th {\n",
       "        text-align: right;\n",
       "    }\n",
       "</style>\n",
       "<table border=\"1\" class=\"dataframe\">\n",
       "  <thead>\n",
       "    <tr style=\"text-align: right;\">\n",
       "      <th></th>\n",
       "      <th>rank</th>\n",
       "      <th>subscribers</th>\n",
       "      <th>video views</th>\n",
       "      <th>uploads</th>\n",
       "      <th>video_views_rank</th>\n",
       "      <th>country_rank</th>\n",
       "      <th>channel_type_rank</th>\n",
       "      <th>video_views_for_the_last_30_days</th>\n",
       "      <th>lowest_monthly_earnings</th>\n",
       "      <th>highest_monthly_earnings</th>\n",
       "      <th>lowest_yearly_earnings</th>\n",
       "      <th>highest_yearly_earnings</th>\n",
       "      <th>subscribers_for_last_30_days</th>\n",
       "      <th>created_year</th>\n",
       "      <th>created_date</th>\n",
       "      <th>Population</th>\n",
       "      <th>Unemployment rate</th>\n",
       "      <th>Urban_population</th>\n",
       "      <th>Latitude</th>\n",
       "      <th>Longitude</th>\n",
       "    </tr>\n",
       "  </thead>\n",
       "  <tbody>\n",
       "    <tr>\n",
       "      <th>count</th>\n",
       "      <td>869.000000</td>\n",
       "      <td>8.690000e+02</td>\n",
       "      <td>8.690000e+02</td>\n",
       "      <td>869.000000</td>\n",
       "      <td>8.690000e+02</td>\n",
       "      <td>869.000000</td>\n",
       "      <td>869.000000</td>\n",
       "      <td>8.690000e+02</td>\n",
       "      <td>869.000000</td>\n",
       "      <td>8.690000e+02</td>\n",
       "      <td>8.690000e+02</td>\n",
       "      <td>8.690000e+02</td>\n",
       "      <td>8.690000e+02</td>\n",
       "      <td>869.000000</td>\n",
       "      <td>869.000000</td>\n",
       "      <td>8.690000e+02</td>\n",
       "      <td>869.000000</td>\n",
       "      <td>8.690000e+02</td>\n",
       "      <td>869.000000</td>\n",
       "      <td>869.000000</td>\n",
       "    </tr>\n",
       "    <tr>\n",
       "      <th>mean</th>\n",
       "      <td>504.672037</td>\n",
       "      <td>2.288113e+07</td>\n",
       "      <td>1.125996e+10</td>\n",
       "      <td>10443.836594</td>\n",
       "      <td>2.662885e+05</td>\n",
       "      <td>370.363636</td>\n",
       "      <td>421.570771</td>\n",
       "      <td>1.783182e+08</td>\n",
       "      <td>39377.646893</td>\n",
       "      <td>6.295787e+05</td>\n",
       "      <td>4.721822e+05</td>\n",
       "      <td>7.560478e+06</td>\n",
       "      <td>2.417647e+05</td>\n",
       "      <td>2012.475259</td>\n",
       "      <td>15.531646</td>\n",
       "      <td>4.312211e+08</td>\n",
       "      <td>9.274430</td>\n",
       "      <td>2.244416e+08</td>\n",
       "      <td>26.727510</td>\n",
       "      <td>-14.160967</td>\n",
       "    </tr>\n",
       "    <tr>\n",
       "      <th>std</th>\n",
       "      <td>287.598614</td>\n",
       "      <td>1.787333e+07</td>\n",
       "      <td>1.481442e+10</td>\n",
       "      <td>36372.044973</td>\n",
       "      <td>9.629245e+05</td>\n",
       "      <td>1194.886918</td>\n",
       "      <td>1381.395436</td>\n",
       "      <td>4.236603e+08</td>\n",
       "      <td>73031.734684</td>\n",
       "      <td>1.167474e+06</td>\n",
       "      <td>8.753266e+05</td>\n",
       "      <td>1.402204e+07</td>\n",
       "      <td>5.326672e+05</td>\n",
       "      <td>4.418843</td>\n",
       "      <td>8.878233</td>\n",
       "      <td>4.733407e+08</td>\n",
       "      <td>4.890517</td>\n",
       "      <td>1.547877e+08</td>\n",
       "      <td>20.470304</td>\n",
       "      <td>84.703650</td>\n",
       "    </tr>\n",
       "    <tr>\n",
       "      <th>min</th>\n",
       "      <td>1.000000</td>\n",
       "      <td>1.230000e+07</td>\n",
       "      <td>0.000000e+00</td>\n",
       "      <td>0.000000</td>\n",
       "      <td>1.000000e+00</td>\n",
       "      <td>1.000000</td>\n",
       "      <td>0.000000</td>\n",
       "      <td>0.000000e+00</td>\n",
       "      <td>0.000000</td>\n",
       "      <td>0.000000e+00</td>\n",
       "      <td>0.000000e+00</td>\n",
       "      <td>0.000000e+00</td>\n",
       "      <td>0.000000e+00</td>\n",
       "      <td>1970.000000</td>\n",
       "      <td>1.000000</td>\n",
       "      <td>2.025060e+05</td>\n",
       "      <td>0.750000</td>\n",
       "      <td>3.558800e+04</td>\n",
       "      <td>-38.416097</td>\n",
       "      <td>-172.104629</td>\n",
       "    </tr>\n",
       "    <tr>\n",
       "      <th>25%</th>\n",
       "      <td>260.000000</td>\n",
       "      <td>1.450000e+07</td>\n",
       "      <td>4.266957e+09</td>\n",
       "      <td>296.000000</td>\n",
       "      <td>2.870000e+02</td>\n",
       "      <td>11.000000</td>\n",
       "      <td>25.000000</td>\n",
       "      <td>2.320600e+07</td>\n",
       "      <td>5100.000000</td>\n",
       "      <td>8.110000e+04</td>\n",
       "      <td>6.080000e+04</td>\n",
       "      <td>9.726000e+05</td>\n",
       "      <td>0.000000e+00</td>\n",
       "      <td>2009.000000</td>\n",
       "      <td>8.000000</td>\n",
       "      <td>8.342962e+07</td>\n",
       "      <td>5.270000</td>\n",
       "      <td>5.590832e+07</td>\n",
       "      <td>20.593684</td>\n",
       "      <td>-95.712891</td>\n",
       "    </tr>\n",
       "    <tr>\n",
       "      <th>50%</th>\n",
       "      <td>511.000000</td>\n",
       "      <td>1.760000e+07</td>\n",
       "      <td>7.739048e+09</td>\n",
       "      <td>887.000000</td>\n",
       "      <td>8.050000e+02</td>\n",
       "      <td>51.000000</td>\n",
       "      <td>60.000000</td>\n",
       "      <td>6.638800e+07</td>\n",
       "      <td>15800.000000</td>\n",
       "      <td>2.532000e+05</td>\n",
       "      <td>1.899000e+05</td>\n",
       "      <td>3.000000e+06</td>\n",
       "      <td>1.000000e+05</td>\n",
       "      <td>2013.000000</td>\n",
       "      <td>15.000000</td>\n",
       "      <td>3.282395e+08</td>\n",
       "      <td>9.020000</td>\n",
       "      <td>2.706630e+08</td>\n",
       "      <td>37.090240</td>\n",
       "      <td>-51.925280</td>\n",
       "    </tr>\n",
       "    <tr>\n",
       "      <th>75%</th>\n",
       "      <td>752.000000</td>\n",
       "      <td>2.410000e+07</td>\n",
       "      <td>1.356285e+10</td>\n",
       "      <td>3254.000000</td>\n",
       "      <td>2.313000e+03</td>\n",
       "      <td>123.000000</td>\n",
       "      <td>132.000000</td>\n",
       "      <td>1.690560e+08</td>\n",
       "      <td>40800.000000</td>\n",
       "      <td>6.525000e+05</td>\n",
       "      <td>4.894000e+05</td>\n",
       "      <td>7.800000e+06</td>\n",
       "      <td>3.000000e+05</td>\n",
       "      <td>2016.000000</td>\n",
       "      <td>23.000000</td>\n",
       "      <td>3.282395e+08</td>\n",
       "      <td>14.700000</td>\n",
       "      <td>2.706630e+08</td>\n",
       "      <td>37.090240</td>\n",
       "      <td>78.962880</td>\n",
       "    </tr>\n",
       "    <tr>\n",
       "      <th>max</th>\n",
       "      <td>995.000000</td>\n",
       "      <td>2.450000e+08</td>\n",
       "      <td>2.280000e+11</td>\n",
       "      <td>301308.000000</td>\n",
       "      <td>4.057944e+06</td>\n",
       "      <td>7741.000000</td>\n",
       "      <td>7670.000000</td>\n",
       "      <td>6.589000e+09</td>\n",
       "      <td>850900.000000</td>\n",
       "      <td>1.360000e+07</td>\n",
       "      <td>1.020000e+07</td>\n",
       "      <td>1.634000e+08</td>\n",
       "      <td>8.000000e+06</td>\n",
       "      <td>2022.000000</td>\n",
       "      <td>31.000000</td>\n",
       "      <td>1.397715e+09</td>\n",
       "      <td>14.720000</td>\n",
       "      <td>8.429340e+08</td>\n",
       "      <td>61.924110</td>\n",
       "      <td>138.252924</td>\n",
       "    </tr>\n",
       "  </tbody>\n",
       "</table>\n",
       "</div>"
      ],
      "text/plain": [
       "             rank   subscribers   video views        uploads  \\\n",
       "count  869.000000  8.690000e+02  8.690000e+02     869.000000   \n",
       "mean   504.672037  2.288113e+07  1.125996e+10   10443.836594   \n",
       "std    287.598614  1.787333e+07  1.481442e+10   36372.044973   \n",
       "min      1.000000  1.230000e+07  0.000000e+00       0.000000   \n",
       "25%    260.000000  1.450000e+07  4.266957e+09     296.000000   \n",
       "50%    511.000000  1.760000e+07  7.739048e+09     887.000000   \n",
       "75%    752.000000  2.410000e+07  1.356285e+10    3254.000000   \n",
       "max    995.000000  2.450000e+08  2.280000e+11  301308.000000   \n",
       "\n",
       "       video_views_rank  country_rank  channel_type_rank  \\\n",
       "count      8.690000e+02    869.000000         869.000000   \n",
       "mean       2.662885e+05    370.363636         421.570771   \n",
       "std        9.629245e+05   1194.886918        1381.395436   \n",
       "min        1.000000e+00      1.000000           0.000000   \n",
       "25%        2.870000e+02     11.000000          25.000000   \n",
       "50%        8.050000e+02     51.000000          60.000000   \n",
       "75%        2.313000e+03    123.000000         132.000000   \n",
       "max        4.057944e+06   7741.000000        7670.000000   \n",
       "\n",
       "       video_views_for_the_last_30_days  lowest_monthly_earnings  \\\n",
       "count                      8.690000e+02               869.000000   \n",
       "mean                       1.783182e+08             39377.646893   \n",
       "std                        4.236603e+08             73031.734684   \n",
       "min                        0.000000e+00                 0.000000   \n",
       "25%                        2.320600e+07              5100.000000   \n",
       "50%                        6.638800e+07             15800.000000   \n",
       "75%                        1.690560e+08             40800.000000   \n",
       "max                        6.589000e+09            850900.000000   \n",
       "\n",
       "       highest_monthly_earnings  lowest_yearly_earnings  \\\n",
       "count              8.690000e+02            8.690000e+02   \n",
       "mean               6.295787e+05            4.721822e+05   \n",
       "std                1.167474e+06            8.753266e+05   \n",
       "min                0.000000e+00            0.000000e+00   \n",
       "25%                8.110000e+04            6.080000e+04   \n",
       "50%                2.532000e+05            1.899000e+05   \n",
       "75%                6.525000e+05            4.894000e+05   \n",
       "max                1.360000e+07            1.020000e+07   \n",
       "\n",
       "       highest_yearly_earnings  subscribers_for_last_30_days  created_year  \\\n",
       "count             8.690000e+02                  8.690000e+02    869.000000   \n",
       "mean              7.560478e+06                  2.417647e+05   2012.475259   \n",
       "std               1.402204e+07                  5.326672e+05      4.418843   \n",
       "min               0.000000e+00                  0.000000e+00   1970.000000   \n",
       "25%               9.726000e+05                  0.000000e+00   2009.000000   \n",
       "50%               3.000000e+06                  1.000000e+05   2013.000000   \n",
       "75%               7.800000e+06                  3.000000e+05   2016.000000   \n",
       "max               1.634000e+08                  8.000000e+06   2022.000000   \n",
       "\n",
       "       created_date    Population  Unemployment rate  Urban_population  \\\n",
       "count    869.000000  8.690000e+02         869.000000      8.690000e+02   \n",
       "mean      15.531646  4.312211e+08           9.274430      2.244416e+08   \n",
       "std        8.878233  4.733407e+08           4.890517      1.547877e+08   \n",
       "min        1.000000  2.025060e+05           0.750000      3.558800e+04   \n",
       "25%        8.000000  8.342962e+07           5.270000      5.590832e+07   \n",
       "50%       15.000000  3.282395e+08           9.020000      2.706630e+08   \n",
       "75%       23.000000  3.282395e+08          14.700000      2.706630e+08   \n",
       "max       31.000000  1.397715e+09          14.720000      8.429340e+08   \n",
       "\n",
       "         Latitude   Longitude  \n",
       "count  869.000000  869.000000  \n",
       "mean    26.727510  -14.160967  \n",
       "std     20.470304   84.703650  \n",
       "min    -38.416097 -172.104629  \n",
       "25%     20.593684  -95.712891  \n",
       "50%     37.090240  -51.925280  \n",
       "75%     37.090240   78.962880  \n",
       "max     61.924110  138.252924  "
      ]
     },
     "execution_count": 64,
     "metadata": {},
     "output_type": "execute_result"
    }
   ],
   "source": [
    "df.describe()"
   ]
  },
  {
   "cell_type": "code",
   "execution_count": 65,
   "id": "83bc5ccf",
   "metadata": {},
   "outputs": [
    {
     "name": "stdout",
     "output_type": "stream",
     "text": [
      "<class 'pandas.core.frame.DataFrame'>\n",
      "RangeIndex: 869 entries, 0 to 868\n",
      "Data columns (total 27 columns):\n",
      " #   Column                            Non-Null Count  Dtype  \n",
      "---  ------                            --------------  -----  \n",
      " 0   rank                              869 non-null    int64  \n",
      " 1   Youtuber                          869 non-null    object \n",
      " 2   subscribers                       869 non-null    int64  \n",
      " 3   video views                       869 non-null    int64  \n",
      " 4   category                          869 non-null    object \n",
      " 5   Title                             869 non-null    object \n",
      " 6   uploads                           869 non-null    int64  \n",
      " 7   Country                           869 non-null    object \n",
      " 8   Abbreviation                      869 non-null    object \n",
      " 9   channel_type                      869 non-null    object \n",
      " 10  video_views_rank                  869 non-null    int64  \n",
      " 11  country_rank                      869 non-null    int64  \n",
      " 12  channel_type_rank                 869 non-null    int64  \n",
      " 13  video_views_for_the_last_30_days  869 non-null    int64  \n",
      " 14  lowest_monthly_earnings           869 non-null    float64\n",
      " 15  highest_monthly_earnings          869 non-null    float64\n",
      " 16  lowest_yearly_earnings            869 non-null    float64\n",
      " 17  highest_yearly_earnings           869 non-null    float64\n",
      " 18  subscribers_for_last_30_days      869 non-null    int64  \n",
      " 19  created_year                      869 non-null    int64  \n",
      " 20  created_month                     869 non-null    object \n",
      " 21  created_date                      869 non-null    int64  \n",
      " 22  Population                        869 non-null    int64  \n",
      " 23  Unemployment rate                 869 non-null    float64\n",
      " 24  Urban_population                  869 non-null    int64  \n",
      " 25  Latitude                          869 non-null    float64\n",
      " 26  Longitude                         869 non-null    float64\n",
      "dtypes: float64(7), int64(13), object(7)\n",
      "memory usage: 183.4+ KB\n"
     ]
    }
   ],
   "source": [
    "df.info()"
   ]
  },
  {
   "cell_type": "code",
   "execution_count": 8,
   "id": "f1e4ec30",
   "metadata": {},
   "outputs": [
    {
     "name": "stdout",
     "output_type": "stream",
     "text": [
      "Axes(0.125,0.11;0.775x0.77)\n"
     ]
    },
    {
     "data": {
      "image/png": "[encoded data removed]",
      "text/plain": [
       "<Figure size 640x480 with 1 Axes>"
      ]
     },
     "metadata": {},
     "output_type": "display_data"
    }
   ],
   "source": [
    "# checking for the outlier\n",
    "print(sns.boxplot(df[\"created_year\"]))"
   ]
  },
  {
   "cell_type": "code",
   "execution_count": 4,
   "id": "1e373934",
   "metadata": {},
   "outputs": [
    {
     "data": {
      "text/html": [
       "<div>\n",
       "<style scoped>\n",
       "    .dataframe tbody tr th:only-of-type {\n",
       "        vertical-align: middle;\n",
       "    }\n",
       "\n",
       "    .dataframe tbody tr th {\n",
       "        vertical-align: top;\n",
       "    }\n",
       "\n",
       "    .dataframe thead th {\n",
       "        text-align: right;\n",
       "    }\n",
       "</style>\n",
       "<table border=\"1\" class=\"dataframe\">\n",
       "  <thead>\n",
       "    <tr style=\"text-align: right;\">\n",
       "      <th></th>\n",
       "      <th>rank</th>\n",
       "      <th>Youtuber</th>\n",
       "      <th>subscribers</th>\n",
       "      <th>video views</th>\n",
       "      <th>category</th>\n",
       "      <th>Title</th>\n",
       "      <th>uploads</th>\n",
       "      <th>Country</th>\n",
       "      <th>Abbreviation</th>\n",
       "      <th>channel_type</th>\n",
       "      <th>...</th>\n",
       "      <th>highest_yearly_earnings</th>\n",
       "      <th>subscribers_for_last_30_days</th>\n",
       "      <th>created_year</th>\n",
       "      <th>created_month</th>\n",
       "      <th>created_date</th>\n",
       "      <th>Population</th>\n",
       "      <th>Unemployment rate</th>\n",
       "      <th>Urban_population</th>\n",
       "      <th>Latitude</th>\n",
       "      <th>Longitude</th>\n",
       "    </tr>\n",
       "  </thead>\n",
       "  <tbody>\n",
       "    <tr>\n",
       "      <th>0</th>\n",
       "      <td>1</td>\n",
       "      <td>T-Series</td>\n",
       "      <td>245000000</td>\n",
       "      <td>228000000000</td>\n",
       "      <td>Music</td>\n",
       "      <td>T-Series</td>\n",
       "      <td>20082</td>\n",
       "      <td>India</td>\n",
       "      <td>IN</td>\n",
       "      <td>Music</td>\n",
       "      <td>...</td>\n",
       "      <td>1.084000e+08</td>\n",
       "      <td>2000000</td>\n",
       "      <td>2006</td>\n",
       "      <td>Mar</td>\n",
       "      <td>13</td>\n",
       "      <td>1366417754</td>\n",
       "      <td>5.36</td>\n",
       "      <td>471031528</td>\n",
       "      <td>20.593684</td>\n",
       "      <td>78.962880</td>\n",
       "    </tr>\n",
       "    <tr>\n",
       "      <th>1</th>\n",
       "      <td>2</td>\n",
       "      <td>YouTube Movies</td>\n",
       "      <td>170000000</td>\n",
       "      <td>0</td>\n",
       "      <td>Film &amp; Animation</td>\n",
       "      <td>youtubemovies</td>\n",
       "      <td>1</td>\n",
       "      <td>United States</td>\n",
       "      <td>US</td>\n",
       "      <td>Games</td>\n",
       "      <td>...</td>\n",
       "      <td>5.800000e-01</td>\n",
       "      <td>0</td>\n",
       "      <td>2006</td>\n",
       "      <td>Mar</td>\n",
       "      <td>5</td>\n",
       "      <td>328239523</td>\n",
       "      <td>14.70</td>\n",
       "      <td>270663028</td>\n",
       "      <td>37.090240</td>\n",
       "      <td>-95.712891</td>\n",
       "    </tr>\n",
       "    <tr>\n",
       "      <th>2</th>\n",
       "      <td>3</td>\n",
       "      <td>MrBeast</td>\n",
       "      <td>166000000</td>\n",
       "      <td>28368841870</td>\n",
       "      <td>Entertainment</td>\n",
       "      <td>MrBeast</td>\n",
       "      <td>741</td>\n",
       "      <td>United States</td>\n",
       "      <td>US</td>\n",
       "      <td>Entertainment</td>\n",
       "      <td>...</td>\n",
       "      <td>6.470000e+07</td>\n",
       "      <td>8000000</td>\n",
       "      <td>2012</td>\n",
       "      <td>Feb</td>\n",
       "      <td>20</td>\n",
       "      <td>328239523</td>\n",
       "      <td>14.70</td>\n",
       "      <td>270663028</td>\n",
       "      <td>37.090240</td>\n",
       "      <td>-95.712891</td>\n",
       "    </tr>\n",
       "    <tr>\n",
       "      <th>3</th>\n",
       "      <td>4</td>\n",
       "      <td>Cocomelon - Nursery Rhymes</td>\n",
       "      <td>162000000</td>\n",
       "      <td>164000000000</td>\n",
       "      <td>Education</td>\n",
       "      <td>Cocomelon - Nursery Rhymes</td>\n",
       "      <td>966</td>\n",
       "      <td>United States</td>\n",
       "      <td>US</td>\n",
       "      <td>Education</td>\n",
       "      <td>...</td>\n",
       "      <td>9.480000e+07</td>\n",
       "      <td>1000000</td>\n",
       "      <td>2006</td>\n",
       "      <td>Sep</td>\n",
       "      <td>1</td>\n",
       "      <td>328239523</td>\n",
       "      <td>14.70</td>\n",
       "      <td>270663028</td>\n",
       "      <td>37.090240</td>\n",
       "      <td>-95.712891</td>\n",
       "    </tr>\n",
       "    <tr>\n",
       "      <th>4</th>\n",
       "      <td>5</td>\n",
       "      <td>SET India</td>\n",
       "      <td>159000000</td>\n",
       "      <td>148000000000</td>\n",
       "      <td>Shows</td>\n",
       "      <td>SET India</td>\n",
       "      <td>116536</td>\n",
       "      <td>India</td>\n",
       "      <td>IN</td>\n",
       "      <td>Entertainment</td>\n",
       "      <td>...</td>\n",
       "      <td>8.750000e+07</td>\n",
       "      <td>1000000</td>\n",
       "      <td>2006</td>\n",
       "      <td>Sep</td>\n",
       "      <td>20</td>\n",
       "      <td>1366417754</td>\n",
       "      <td>5.36</td>\n",
       "      <td>471031528</td>\n",
       "      <td>20.593684</td>\n",
       "      <td>78.962880</td>\n",
       "    </tr>\n",
       "    <tr>\n",
       "      <th>...</th>\n",
       "      <td>...</td>\n",
       "      <td>...</td>\n",
       "      <td>...</td>\n",
       "      <td>...</td>\n",
       "      <td>...</td>\n",
       "      <td>...</td>\n",
       "      <td>...</td>\n",
       "      <td>...</td>\n",
       "      <td>...</td>\n",
       "      <td>...</td>\n",
       "      <td>...</td>\n",
       "      <td>...</td>\n",
       "      <td>...</td>\n",
       "      <td>...</td>\n",
       "      <td>...</td>\n",
       "      <td>...</td>\n",
       "      <td>...</td>\n",
       "      <td>...</td>\n",
       "      <td>...</td>\n",
       "      <td>...</td>\n",
       "      <td>...</td>\n",
       "    </tr>\n",
       "    <tr>\n",
       "      <th>864</th>\n",
       "      <td>991</td>\n",
       "      <td>Natan por Aï¿</td>\n",
       "      <td>12300000</td>\n",
       "      <td>9029609749</td>\n",
       "      <td>Sports</td>\n",
       "      <td>Natan por Aï¿</td>\n",
       "      <td>1200</td>\n",
       "      <td>Brazil</td>\n",
       "      <td>BR</td>\n",
       "      <td>Entertainment</td>\n",
       "      <td>...</td>\n",
       "      <td>2.650000e+07</td>\n",
       "      <td>700000</td>\n",
       "      <td>2017</td>\n",
       "      <td>Feb</td>\n",
       "      <td>12</td>\n",
       "      <td>212559417</td>\n",
       "      <td>12.08</td>\n",
       "      <td>183241641</td>\n",
       "      <td>-14.235004</td>\n",
       "      <td>-51.925280</td>\n",
       "    </tr>\n",
       "    <tr>\n",
       "      <th>865</th>\n",
       "      <td>992</td>\n",
       "      <td>Free Fire India Official</td>\n",
       "      <td>12300000</td>\n",
       "      <td>1674409945</td>\n",
       "      <td>People &amp; Blogs</td>\n",
       "      <td>Free Fire India Official</td>\n",
       "      <td>1500</td>\n",
       "      <td>India</td>\n",
       "      <td>IN</td>\n",
       "      <td>Games</td>\n",
       "      <td>...</td>\n",
       "      <td>3.100000e+06</td>\n",
       "      <td>300000</td>\n",
       "      <td>2018</td>\n",
       "      <td>Sep</td>\n",
       "      <td>14</td>\n",
       "      <td>1366417754</td>\n",
       "      <td>5.36</td>\n",
       "      <td>471031528</td>\n",
       "      <td>20.593684</td>\n",
       "      <td>78.962880</td>\n",
       "    </tr>\n",
       "    <tr>\n",
       "      <th>866</th>\n",
       "      <td>993</td>\n",
       "      <td>Panda</td>\n",
       "      <td>12300000</td>\n",
       "      <td>2214684303</td>\n",
       "      <td>other</td>\n",
       "      <td>HybridPanda</td>\n",
       "      <td>2452</td>\n",
       "      <td>United Kingdom</td>\n",
       "      <td>GB</td>\n",
       "      <td>Games</td>\n",
       "      <td>...</td>\n",
       "      <td>3.200000e+03</td>\n",
       "      <td>1000</td>\n",
       "      <td>2006</td>\n",
       "      <td>Sep</td>\n",
       "      <td>11</td>\n",
       "      <td>66834405</td>\n",
       "      <td>3.85</td>\n",
       "      <td>55908316</td>\n",
       "      <td>55.378051</td>\n",
       "      <td>-3.435973</td>\n",
       "    </tr>\n",
       "    <tr>\n",
       "      <th>867</th>\n",
       "      <td>994</td>\n",
       "      <td>RobTopGames</td>\n",
       "      <td>12300000</td>\n",
       "      <td>374123483</td>\n",
       "      <td>Gaming</td>\n",
       "      <td>RobTopGames</td>\n",
       "      <td>39</td>\n",
       "      <td>Sweden</td>\n",
       "      <td>SE</td>\n",
       "      <td>Games</td>\n",
       "      <td>...</td>\n",
       "      <td>1.858000e+05</td>\n",
       "      <td>100000</td>\n",
       "      <td>2012</td>\n",
       "      <td>May</td>\n",
       "      <td>9</td>\n",
       "      <td>10285453</td>\n",
       "      <td>6.48</td>\n",
       "      <td>9021165</td>\n",
       "      <td>60.128161</td>\n",
       "      <td>18.643501</td>\n",
       "    </tr>\n",
       "    <tr>\n",
       "      <th>868</th>\n",
       "      <td>995</td>\n",
       "      <td>Make Joke Of</td>\n",
       "      <td>12300000</td>\n",
       "      <td>2129773714</td>\n",
       "      <td>Comedy</td>\n",
       "      <td>Make Joke Of</td>\n",
       "      <td>62</td>\n",
       "      <td>India</td>\n",
       "      <td>IN</td>\n",
       "      <td>Comedy</td>\n",
       "      <td>...</td>\n",
       "      <td>1.200000e+06</td>\n",
       "      <td>100000</td>\n",
       "      <td>2017</td>\n",
       "      <td>Aug</td>\n",
       "      <td>1</td>\n",
       "      <td>1366417754</td>\n",
       "      <td>5.36</td>\n",
       "      <td>471031528</td>\n",
       "      <td>20.593684</td>\n",
       "      <td>78.962880</td>\n",
       "    </tr>\n",
       "  </tbody>\n",
       "</table>\n",
       "<p>868 rows × 27 columns</p>\n",
       "</div>"
      ],
      "text/plain": [
       "     rank                    Youtuber  subscribers   video views  \\\n",
       "0       1                    T-Series    245000000  228000000000   \n",
       "1       2              YouTube Movies    170000000             0   \n",
       "2       3                     MrBeast    166000000   28368841870   \n",
       "3       4  Cocomelon - Nursery Rhymes    162000000  164000000000   \n",
       "4       5                   SET India    159000000  148000000000   \n",
       "..    ...                         ...          ...           ...   \n",
       "864   991               Natan por Aï¿     12300000    9029609749   \n",
       "865   992    Free Fire India Official     12300000    1674409945   \n",
       "866   993                       Panda     12300000    2214684303   \n",
       "867   994                 RobTopGames     12300000     374123483   \n",
       "868   995                Make Joke Of     12300000    2129773714   \n",
       "\n",
       "             category                       Title  uploads         Country  \\\n",
       "0               Music                    T-Series    20082           India   \n",
       "1    Film & Animation               youtubemovies        1   United States   \n",
       "2       Entertainment                     MrBeast      741   United States   \n",
       "3           Education  Cocomelon - Nursery Rhymes      966   United States   \n",
       "4               Shows                   SET India   116536           India   \n",
       "..                ...                         ...      ...             ...   \n",
       "864            Sports               Natan por Aï¿     1200          Brazil   \n",
       "865    People & Blogs    Free Fire India Official     1500           India   \n",
       "866             other                 HybridPanda     2452  United Kingdom   \n",
       "867            Gaming                 RobTopGames       39          Sweden   \n",
       "868            Comedy                Make Joke Of       62           India   \n",
       "\n",
       "    Abbreviation   channel_type  ...  highest_yearly_earnings  \\\n",
       "0             IN          Music  ...             1.084000e+08   \n",
       "1             US          Games  ...             5.800000e-01   \n",
       "2             US  Entertainment  ...             6.470000e+07   \n",
       "3             US      Education  ...             9.480000e+07   \n",
       "4             IN  Entertainment  ...             8.750000e+07   \n",
       "..           ...            ...  ...                      ...   \n",
       "864           BR  Entertainment  ...             2.650000e+07   \n",
       "865           IN          Games  ...             3.100000e+06   \n",
       "866           GB          Games  ...             3.200000e+03   \n",
       "867           SE          Games  ...             1.858000e+05   \n",
       "868           IN         Comedy  ...             1.200000e+06   \n",
       "\n",
       "     subscribers_for_last_30_days  created_year  created_month  created_date  \\\n",
       "0                         2000000          2006            Mar            13   \n",
       "1                               0          2006            Mar             5   \n",
       "2                         8000000          2012            Feb            20   \n",
       "3                         1000000          2006            Sep             1   \n",
       "4                         1000000          2006            Sep            20   \n",
       "..                            ...           ...            ...           ...   \n",
       "864                        700000          2017            Feb            12   \n",
       "865                        300000          2018            Sep            14   \n",
       "866                          1000          2006            Sep            11   \n",
       "867                        100000          2012            May             9   \n",
       "868                        100000          2017            Aug             1   \n",
       "\n",
       "     Population  Unemployment rate  Urban_population   Latitude  Longitude  \n",
       "0    1366417754               5.36         471031528  20.593684  78.962880  \n",
       "1     328239523              14.70         270663028  37.090240 -95.712891  \n",
       "2     328239523              14.70         270663028  37.090240 -95.712891  \n",
       "3     328239523              14.70         270663028  37.090240 -95.712891  \n",
       "4    1366417754               5.36         471031528  20.593684  78.962880  \n",
       "..          ...                ...               ...        ...        ...  \n",
       "864   212559417              12.08         183241641 -14.235004 -51.925280  \n",
       "865  1366417754               5.36         471031528  20.593684  78.962880  \n",
       "866    66834405               3.85          55908316  55.378051  -3.435973  \n",
       "867    10285453               6.48           9021165  60.128161  18.643501  \n",
       "868  1366417754               5.36         471031528  20.593684  78.962880  \n",
       "\n",
       "[868 rows x 27 columns]"
      ]
     },
     "execution_count": 4,
     "metadata": {},
     "output_type": "execute_result"
    }
   ],
   "source": [
    "# Filter rows where 'created_year' is greater than or equal to 2005\n",
    "df1 = df[df['created_year'] >= 2005]\n",
    "df1"
   ]
  },
  {
   "cell_type": "code",
   "execution_count": 9,
   "id": "f0ef5c19",
   "metadata": {},
   "outputs": [
    {
     "data": {
      "text/plain": [
       "<Axes: >"
      ]
     },
     "execution_count": 9,
     "metadata": {},
     "output_type": "execute_result"
    },
    {
     "data": {
      "image/png": "[encoded data removed]",
      "text/plain": [
       "<Figure size 640x480 with 1 Axes>"
      ]
     },
     "metadata": {},
     "output_type": "display_data"
    }
   ],
   "source": [
    "sns.boxplot(df1[\"created_year\"])"
   ]
  },
  {
   "cell_type": "code",
   "execution_count": 11,
   "id": "5a8cee5b",
   "metadata": {
    "scrolled": true
   },
   "outputs": [
    {
     "name": "stdout",
     "output_type": "stream",
     "text": [
      "<class 'pandas.core.frame.DataFrame'>\n",
      "Int64Index: 868 entries, 0 to 868\n",
      "Data columns (total 27 columns):\n",
      " #   Column                            Non-Null Count  Dtype  \n",
      "---  ------                            --------------  -----  \n",
      " 0   rank                              868 non-null    int64  \n",
      " 1   Youtuber                          868 non-null    object \n",
      " 2   subscribers                       868 non-null    int64  \n",
      " 3   video views                       868 non-null    int64  \n",
      " 4   category                          868 non-null    object \n",
      " 5   Title                             868 non-null    object \n",
      " 6   uploads                           868 non-null    int64  \n",
      " 7   Country                           868 non-null    object \n",
      " 8   Abbreviation                      868 non-null    object \n",
      " 9   channel_type                      868 non-null    object \n",
      " 10  video_views_rank                  868 non-null    int64  \n",
      " 11  country_rank                      868 non-null    int64  \n",
      " 12  channel_type_rank                 868 non-null    int64  \n",
      " 13  video_views_for_the_last_30_days  868 non-null    int64  \n",
      " 14  lowest_monthly_earnings           868 non-null    float64\n",
      " 15  highest_monthly_earnings          868 non-null    float64\n",
      " 16  lowest_yearly_earnings            868 non-null    float64\n",
      " 17  highest_yearly_earnings           868 non-null    float64\n",
      " 18  subscribers_for_last_30_days      868 non-null    int64  \n",
      " 19  created_year                      868 non-null    int64  \n",
      " 20  created_month                     868 non-null    object \n",
      " 21  created_date                      868 non-null    int64  \n",
      " 22  Population                        868 non-null    int64  \n",
      " 23  Unemployment rate                 868 non-null    float64\n",
      " 24  Urban_population                  868 non-null    int64  \n",
      " 25  Latitude                          868 non-null    float64\n",
      " 26  Longitude                         868 non-null    float64\n",
      "dtypes: float64(7), int64(13), object(7)\n",
      "memory usage: 222.2+ KB\n"
     ]
    }
   ],
   "source": [
    "df1.info()"
   ]
  },
  {
   "cell_type": "markdown",
   "id": "653be688",
   "metadata": {},
   "source": [
    "# Top 10 YouTubers by Subscribers"
   ]
  },
  {
   "cell_type": "code",
   "execution_count": 15,
   "id": "6d01865c",
   "metadata": {},
   "outputs": [
    {
     "data": {
      "application/vnd.plotly.v1+json": {
       "config": {
        "plotlyServerURL": "https://plot.ly"
       },
       "data": [
        {
         "alignmentgroup": "True",
         "hovertemplate": "Youtuber=%{x}<br>subscribers=%{y}<extra></extra>",
         "legendgroup": "",
         "marker": {
          "color": "#636efa",
          "pattern": {
           "shape": ""
          }
         },
         "name": "",
         "offsetgroup": "",
         "orientation": "v",
         "showlegend": false,
         "textposition": "auto",
         "type": "bar",
         "x": [
          "T-Series",
          "YouTube Movies",
          "MrBeast",
          "Cocomelon - Nursery Rhymes",
          "SET India",
          "ýýý Kids Diana Show",
          "PewDiePie",
          "Like Nastya",
          "Vlad and Niki",
          "Zee Music Company"
         ],
         "xaxis": "x",
         "y": [
          245000000,
          170000000,
          166000000,
          162000000,
          159000000,
          112000000,
          111000000,
          106000000,
          98900000,
          96700000
         ],
         "yaxis": "y"
        }
       ],
       "layout": {
        "barmode": "relative",
        "legend": {
         "tracegroupgap": 0
        },
        "template": {
         "data": {
          "bar": [
           {
            "error_x": {
             "color": "#2a3f5f"
            },
            "error_y": {
             "color": "#2a3f5f"
            },
            "marker": {
             "line": {
              "color": "#E5ECF6",
              "width": 0.5
             },
             "pattern": {
              "fillmode": "overlay",
              "size": 10,
              "solidity": 0.2
             }
            },
            "type": "bar"
           }
          ],
          "barpolar": [
           {
            "marker": {
             "line": {
              "color": "#E5ECF6",
              "width": 0.5
             },
             "pattern": {
              "fillmode": "overlay",
              "size": 10,
              "solidity": 0.2
             }
            },
            "type": "barpolar"
           }
          ],
          "carpet": [
           {
            "aaxis": {
             "endlinecolor": "#2a3f5f",
             "gridcolor": "white",
             "linecolor": "white",
             "minorgridcolor": "white",
             "startlinecolor": "#2a3f5f"
            },
            "baxis": {
             "endlinecolor": "#2a3f5f",
             "gridcolor": "white",
             "linecolor": "white",
             "minorgridcolor": "white",
             "startlinecolor": "#2a3f5f"
            },
            "type": "carpet"
           }
          ],
          "choropleth": [
           {
            "colorbar": {
             "outlinewidth": 0,
             "ticks": ""
            },
            "type": "choropleth"
           }
          ],
          "contour": [
           {
            "colorbar": {
             "outlinewidth": 0,
             "ticks": ""
            },
            "colorscale": [
             [
              0,
              "#0d0887"
             ],
             [
              0.1111111111111111,
              "#46039f"
             ],
             [
              0.2222222222222222,
              "#7201a8"
             ],
             [
              0.3333333333333333,
              "#9c179e"
             ],
             [
              0.4444444444444444,
              "#bd3786"
             ],
             [
              0.5555555555555556,
              "#d8576b"
             ],
             [
              0.6666666666666666,
              "#ed7953"
             ],
             [
              0.7777777777777778,
              "#fb9f3a"
             ],
             [
              0.8888888888888888,
              "#fdca26"
             ],
             [
              1,
              "#f0f921"
             ]
            ],
            "type": "contour"
           }
          ],
          "contourcarpet": [
           {
            "colorbar": {
             "outlinewidth": 0,
             "ticks": ""
            },
            "type": "contourcarpet"
           }
          ],
          "heatmap": [
           {
            "colorbar": {
             "outlinewidth": 0,
             "ticks": ""
            },
            "colorscale": [
             [
              0,
              "#0d0887"
             ],
             [
              0.1111111111111111,
              "#46039f"
             ],
             [
              0.2222222222222222,
              "#7201a8"
             ],
             [
              0.3333333333333333,
              "#9c179e"
             ],
             [
              0.4444444444444444,
              "#bd3786"
             ],
             [
              0.5555555555555556,
              "#d8576b"
             ],
             [
              0.6666666666666666,
              "#ed7953"
             ],
             [
              0.7777777777777778,
              "#fb9f3a"
             ],
             [
              0.8888888888888888,
              "#fdca26"
             ],
             [
              1,
              "#f0f921"
             ]
            ],
            "type": "heatmap"
           }
          ],
          "heatmapgl": [
           {
            "colorbar": {
             "outlinewidth": 0,
             "ticks": ""
            },
            "colorscale": [
             [
              0,
              "#0d0887"
             ],
             [
              0.1111111111111111,
              "#46039f"
             ],
             [
              0.2222222222222222,
              "#7201a8"
             ],
             [
              0.3333333333333333,
              "#9c179e"
             ],
             [
              0.4444444444444444,
              "#bd3786"
             ],
             [
              0.5555555555555556,
              "#d8576b"
             ],
             [
              0.6666666666666666,
              "#ed7953"
             ],
             [
              0.7777777777777778,
              "#fb9f3a"
             ],
             [
              0.8888888888888888,
              "#fdca26"
             ],
             [
              1,
              "#f0f921"
             ]
            ],
            "type": "heatmapgl"
           }
          ],
          "histogram": [
           {
            "marker": {
             "pattern": {
              "fillmode": "overlay",
              "size": 10,
              "solidity": 0.2
             }
            },
            "type": "histogram"
           }
          ],
          "histogram2d": [
           {
            "colorbar": {
             "outlinewidth": 0,
             "ticks": ""
            },
            "colorscale": [
             [
              0,
              "#0d0887"
             ],
             [
              0.1111111111111111,
              "#46039f"
             ],
             [
              0.2222222222222222,
              "#7201a8"
             ],
             [
              0.3333333333333333,
              "#9c179e"
             ],
             [
              0.4444444444444444,
              "#bd3786"
             ],
             [
              0.5555555555555556,
              "#d8576b"
             ],
             [
              0.6666666666666666,
              "#ed7953"
             ],
             [
              0.7777777777777778,
              "#fb9f3a"
             ],
             [
              0.8888888888888888,
              "#fdca26"
             ],
             [
              1,
              "#f0f921"
             ]
            ],
            "type": "histogram2d"
           }
          ],
          "histogram2dcontour": [
           {
            "colorbar": {
             "outlinewidth": 0,
             "ticks": ""
            },
            "colorscale": [
             [
              0,
              "#0d0887"
             ],
             [
              0.1111111111111111,
              "#46039f"
             ],
             [
              0.2222222222222222,
              "#7201a8"
             ],
             [
              0.3333333333333333,
              "#9c179e"
             ],
             [
              0.4444444444444444,
              "#bd3786"
             ],
             [
              0.5555555555555556,
              "#d8576b"
             ],
             [
              0.6666666666666666,
              "#ed7953"
             ],
             [
              0.7777777777777778,
              "#fb9f3a"
             ],
             [
              0.8888888888888888,
              "#fdca26"
             ],
             [
              1,
              "#f0f921"
             ]
            ],
            "type": "histogram2dcontour"
           }
          ],
          "mesh3d": [
           {
            "colorbar": {
             "outlinewidth": 0,
             "ticks": ""
            },
            "type": "mesh3d"
           }
          ],
          "parcoords": [
           {
            "line": {
             "colorbar": {
              "outlinewidth": 0,
              "ticks": ""
             }
            },
            "type": "parcoords"
           }
          ],
          "pie": [
           {
            "automargin": true,
            "type": "pie"
           }
          ],
          "scatter": [
           {
            "fillpattern": {
             "fillmode": "overlay",
             "size": 10,
             "solidity": 0.2
            },
            "type": "scatter"
           }
          ],
          "scatter3d": [
           {
            "line": {
             "colorbar": {
              "outlinewidth": 0,
              "ticks": ""
             }
            },
            "marker": {
             "colorbar": {
              "outlinewidth": 0,
              "ticks": ""
             }
            },
            "type": "scatter3d"
           }
          ],
          "scattercarpet": [
           {
            "marker": {
             "colorbar": {
              "outlinewidth": 0,
              "ticks": ""
             }
            },
            "type": "scattercarpet"
           }
          ],
          "scattergeo": [
           {
            "marker": {
             "colorbar": {
              "outlinewidth": 0,
              "ticks": ""
             }
            },
            "type": "scattergeo"
           }
          ],
          "scattergl": [
           {
            "marker": {
             "colorbar": {
              "outlinewidth": 0,
              "ticks": ""
             }
            },
            "type": "scattergl"
           }
          ],
          "scattermapbox": [
           {
            "marker": {
             "colorbar": {
              "outlinewidth": 0,
              "ticks": ""
             }
            },
            "type": "scattermapbox"
           }
          ],
          "scatterpolar": [
           {
            "marker": {
             "colorbar": {
              "outlinewidth": 0,
              "ticks": ""
             }
            },
            "type": "scatterpolar"
           }
          ],
          "scatterpolargl": [
           {
            "marker": {
             "colorbar": {
              "outlinewidth": 0,
              "ticks": ""
             }
            },
            "type": "scatterpolargl"
           }
          ],
          "scatterternary": [
           {
            "marker": {
             "colorbar": {
              "outlinewidth": 0,
              "ticks": ""
             }
            },
            "type": "scatterternary"
           }
          ],
          "surface": [
           {
            "colorbar": {
             "outlinewidth": 0,
             "ticks": ""
            },
            "colorscale": [
             [
              0,
              "#0d0887"
             ],
             [
              0.1111111111111111,
              "#46039f"
             ],
             [
              0.2222222222222222,
              "#7201a8"
             ],
             [
              0.3333333333333333,
              "#9c179e"
             ],
             [
              0.4444444444444444,
              "#bd3786"
             ],
             [
              0.5555555555555556,
              "#d8576b"
             ],
             [
              0.6666666666666666,
              "#ed7953"
             ],
             [
              0.7777777777777778,
              "#fb9f3a"
             ],
             [
              0.8888888888888888,
              "#fdca26"
             ],
             [
              1,
              "#f0f921"
             ]
            ],
            "type": "surface"
           }
          ],
          "table": [
           {
            "cells": {
             "fill": {
              "color": "#EBF0F8"
             },
             "line": {
              "color": "white"
             }
            },
            "header": {
             "fill": {
              "color": "#C8D4E3"
             },
             "line": {
              "color": "white"
             }
            },
            "type": "table"
           }
          ]
         },
         "layout": {
          "annotationdefaults": {
           "arrowcolor": "#2a3f5f",
           "arrowhead": 0,
           "arrowwidth": 1
          },
          "autotypenumbers": "strict",
          "coloraxis": {
           "colorbar": {
            "outlinewidth": 0,
            "ticks": ""
           }
          },
          "colorscale": {
           "diverging": [
            [
             0,
             "#8e0152"
            ],
            [
             0.1,
             "#c51b7d"
            ],
            [
             0.2,
             "#de77ae"
            ],
            [
             0.3,
             "#f1b6da"
            ],
            [
             0.4,
             "#fde0ef"
            ],
            [
             0.5,
             "#f7f7f7"
            ],
            [
             0.6,
             "#e6f5d0"
            ],
            [
             0.7,
             "#b8e186"
            ],
            [
             0.8,
             "#7fbc41"
            ],
            [
             0.9,
             "#4d9221"
            ],
            [
             1,
             "#276419"
            ]
           ],
           "sequential": [
            [
             0,
             "#0d0887"
            ],
            [
             0.1111111111111111,
             "#46039f"
            ],
            [
             0.2222222222222222,
             "#7201a8"
            ],
            [
             0.3333333333333333,
             "#9c179e"
            ],
            [
             0.4444444444444444,
             "#bd3786"
            ],
            [
             0.5555555555555556,
             "#d8576b"
            ],
            [
             0.6666666666666666,
             "#ed7953"
            ],
            [
             0.7777777777777778,
             "#fb9f3a"
            ],
            [
             0.8888888888888888,
             "#fdca26"
            ],
            [
             1,
             "#f0f921"
            ]
           ],
           "sequentialminus": [
            [
             0,
             "#0d0887"
            ],
            [
             0.1111111111111111,
             "#46039f"
            ],
            [
             0.2222222222222222,
             "#7201a8"
            ],
            [
             0.3333333333333333,
             "#9c179e"
            ],
            [
             0.4444444444444444,
             "#bd3786"
            ],
            [
             0.5555555555555556,
             "#d8576b"
            ],
            [
             0.6666666666666666,
             "#ed7953"
            ],
            [
             0.7777777777777778,
             "#fb9f3a"
            ],
            [
             0.8888888888888888,
             "#fdca26"
            ],
            [
             1,
             "#f0f921"
            ]
           ]
          },
          "colorway": [
           "#636efa",
           "#EF553B",
           "#00cc96",
           "#ab63fa",
           "#FFA15A",
           "#19d3f3",
           "#FF6692",
           "#B6E880",
           "#FF97FF",
           "#FECB52"
          ],
          "font": {
           "color": "#2a3f5f"
          },
          "geo": {
           "bgcolor": "white",
           "lakecolor": "white",
           "landcolor": "#E5ECF6",
           "showlakes": true,
           "showland": true,
           "subunitcolor": "white"
          },
          "hoverlabel": {
           "align": "left"
          },
          "hovermode": "closest",
          "mapbox": {
           "style": "light"
          },
          "paper_bgcolor": "white",
          "plot_bgcolor": "#E5ECF6",
          "polar": {
           "angularaxis": {
            "gridcolor": "white",
            "linecolor": "white",
            "ticks": ""
           },
           "bgcolor": "#E5ECF6",
           "radialaxis": {
            "gridcolor": "white",
            "linecolor": "white",
            "ticks": ""
           }
          },
          "scene": {
           "xaxis": {
            "backgroundcolor": "#E5ECF6",
            "gridcolor": "white",
            "gridwidth": 2,
            "linecolor": "white",
            "showbackground": true,
            "ticks": "",
            "zerolinecolor": "white"
           },
           "yaxis": {
            "backgroundcolor": "#E5ECF6",
            "gridcolor": "white",
            "gridwidth": 2,
            "linecolor": "white",
            "showbackground": true,
            "ticks": "",
            "zerolinecolor": "white"
           },
           "zaxis": {
            "backgroundcolor": "#E5ECF6",
            "gridcolor": "white",
            "gridwidth": 2,
            "linecolor": "white",
            "showbackground": true,
            "ticks": "",
            "zerolinecolor": "white"
           }
          },
          "shapedefaults": {
           "line": {
            "color": "#2a3f5f"
           }
          },
          "ternary": {
           "aaxis": {
            "gridcolor": "white",
            "linecolor": "white",
            "ticks": ""
           },
           "baxis": {
            "gridcolor": "white",
            "linecolor": "white",
            "ticks": ""
           },
           "bgcolor": "#E5ECF6",
           "caxis": {
            "gridcolor": "white",
            "linecolor": "white",
            "ticks": ""
           }
          },
          "title": {
           "x": 0.05
          },
          "xaxis": {
           "automargin": true,
           "gridcolor": "white",
           "linecolor": "white",
           "ticks": "",
           "title": {
            "standoff": 15
           },
           "zerolinecolor": "white",
           "zerolinewidth": 2
          },
          "yaxis": {
           "automargin": true,
           "gridcolor": "white",
           "linecolor": "white",
           "ticks": "",
           "title": {
            "standoff": 15
           },
           "zerolinecolor": "white",
           "zerolinewidth": 2
          }
         }
        },
        "title": {
         "text": "Top 10 YouTubers by Subscribers"
        },
        "xaxis": {
         "anchor": "y",
         "domain": [
          0,
          1
         ],
         "title": {
          "text": "Youtuber"
         }
        },
        "yaxis": {
         "anchor": "x",
         "domain": [
          0,
          1
         ],
         "title": {
          "text": "subscribers"
         }
        }
       }
      },
      "text/html": [
       "<div>                            <div id=\"306435f3-1734-43c6-ad8b-dc09b70a15c3\" class=\"plotly-graph-div\" style=\"height:525px; width:100%;\"></div>            <script type=\"text/javascript\">                require([\"plotly\"], function(Plotly) {                    window.PLOTLYENV=window.PLOTLYENV || {};                                    if (document.getElementById(\"306435f3-1734-43c6-ad8b-dc09b70a15c3\")) {                    Plotly.newPlot(                        \"306435f3-1734-43c6-ad8b-dc09b70a15c3\",                        [{\"alignmentgroup\":\"True\",\"hovertemplate\":\"Youtuber=%{x}<br>subscribers=%{y}<extra></extra>\",\"legendgroup\":\"\",\"marker\":{\"color\":\"#636efa\",\"pattern\":{\"shape\":\"\"}},\"name\":\"\",\"offsetgroup\":\"\",\"orientation\":\"v\",\"showlegend\":false,\"textposition\":\"auto\",\"x\":[\"T-Series\",\"YouTube Movies\",\"MrBeast\",\"Cocomelon - Nursery Rhymes\",\"SET India\",\"\\u00fd\\u00fd\\u00fd Kids Diana Show\",\"PewDiePie\",\"Like Nastya\",\"Vlad and Niki\",\"Zee Music Company\"],\"xaxis\":\"x\",\"y\":[245000000,170000000,166000000,162000000,159000000,112000000,111000000,106000000,98900000,96700000],\"yaxis\":\"y\",\"type\":\"bar\"}],                        {\"template\":{\"data\":{\"histogram2dcontour\":[{\"type\":\"histogram2dcontour\",\"colorbar\":{\"outlinewidth\":0,\"ticks\":\"\"},\"colorscale\":[[0.0,\"#0d0887\"],[0.1111111111111111,\"#46039f\"],[0.2222222222222222,\"#7201a8\"],[0.3333333333333333,\"#9c179e\"],[0.4444444444444444,\"#bd3786\"],[0.5555555555555556,\"#d8576b\"],[0.6666666666666666,\"#ed7953\"],[0.7777777777777778,\"#fb9f3a\"],[0.8888888888888888,\"#fdca26\"],[1.0,\"#f0f921\"]]}],\"choropleth\":[{\"type\":\"choropleth\",\"colorbar\":{\"outlinewidth\":0,\"ticks\":\"\"}}],\"histogram2d\":[{\"type\":\"histogram2d\",\"colorbar\":{\"outlinewidth\":0,\"ticks\":\"\"},\"colorscale\":[[0.0,\"#0d0887\"],[0.1111111111111111,\"#46039f\"],[0.2222222222222222,\"#7201a8\"],[0.3333333333333333,\"#9c179e\"],[0.4444444444444444,\"#bd3786\"],[0.5555555555555556,\"#d8576b\"],[0.6666666666666666,\"#ed7953\"],[0.7777777777777778,\"#fb9f3a\"],[0.8888888888888888,\"#fdca26\"],[1.0,\"#f0f921\"]]}],\"heatmap\":[{\"type\":\"heatmap\",\"colorbar\":{\"outlinewidth\":0,\"ticks\":\"\"},\"colorscale\":[[0.0,\"#0d0887\"],[0.1111111111111111,\"#46039f\"],[0.2222222222222222,\"#7201a8\"],[0.3333333333333333,\"#9c179e\"],[0.4444444444444444,\"#bd3786\"],[0.5555555555555556,\"#d8576b\"],[0.6666666666666666,\"#ed7953\"],[0.7777777777777778,\"#fb9f3a\"],[0.8888888888888888,\"#fdca26\"],[1.0,\"#f0f921\"]]}],\"heatmapgl\":[{\"type\":\"heatmapgl\",\"colorbar\":{\"outlinewidth\":0,\"ticks\":\"\"},\"colorscale\":[[0.0,\"#0d0887\"],[0.1111111111111111,\"#46039f\"],[0.2222222222222222,\"#7201a8\"],[0.3333333333333333,\"#9c179e\"],[0.4444444444444444,\"#bd3786\"],[0.5555555555555556,\"#d8576b\"],[0.6666666666666666,\"#ed7953\"],[0.7777777777777778,\"#fb9f3a\"],[0.8888888888888888,\"#fdca26\"],[1.0,\"#f0f921\"]]}],\"contourcarpet\":[{\"type\":\"contourcarpet\",\"colorbar\":{\"outlinewidth\":0,\"ticks\":\"\"}}],\"contour\":[{\"type\":\"contour\",\"colorbar\":{\"outlinewidth\":0,\"ticks\":\"\"},\"colorscale\":[[0.0,\"#0d0887\"],[0.1111111111111111,\"#46039f\"],[0.2222222222222222,\"#7201a8\"],[0.3333333333333333,\"#9c179e\"],[0.4444444444444444,\"#bd3786\"],[0.5555555555555556,\"#d8576b\"],[0.6666666666666666,\"#ed7953\"],[0.7777777777777778,\"#fb9f3a\"],[0.8888888888888888,\"#fdca26\"],[1.0,\"#f0f921\"]]}],\"surface\":[{\"type\":\"surface\",\"colorbar\":{\"outlinewidth\":0,\"ticks\":\"\"},\"colorscale\":[[0.0,\"#0d0887\"],[0.1111111111111111,\"#46039f\"],[0.2222222222222222,\"#7201a8\"],[0.3333333333333333,\"#9c179e\"],[0.4444444444444444,\"#bd3786\"],[0.5555555555555556,\"#d8576b\"],[0.6666666666666666,\"#ed7953\"],[0.7777777777777778,\"#fb9f3a\"],[0.8888888888888888,\"#fdca26\"],[1.0,\"#f0f921\"]]}],\"mesh3d\":[{\"type\":\"mesh3d\",\"colorbar\":{\"outlinewidth\":0,\"ticks\":\"\"}}],\"scatter\":[{\"fillpattern\":{\"fillmode\":\"overlay\",\"size\":10,\"solidity\":0.2},\"type\":\"scatter\"}],\"parcoords\":[{\"type\":\"parcoords\",\"line\":{\"colorbar\":{\"outlinewidth\":0,\"ticks\":\"\"}}}],\"scatterpolargl\":[{\"type\":\"scatterpolargl\",\"marker\":{\"colorbar\":{\"outlinewidth\":0,\"ticks\":\"\"}}}],\"bar\":[{\"error_x\":{\"color\":\"#2a3f5f\"},\"error_y\":{\"color\":\"#2a3f5f\"},\"marker\":{\"line\":{\"color\":\"#E5ECF6\",\"width\":0.5},\"pattern\":{\"fillmode\":\"overlay\",\"size\":10,\"solidity\":0.2}},\"type\":\"bar\"}],\"scattergeo\":[{\"type\":\"scattergeo\",\"marker\":{\"colorbar\":{\"outlinewidth\":0,\"ticks\":\"\"}}}],\"scatterpolar\":[{\"type\":\"scatterpolar\",\"marker\":{\"colorbar\":{\"outlinewidth\":0,\"ticks\":\"\"}}}],\"histogram\":[{\"marker\":{\"pattern\":{\"fillmode\":\"overlay\",\"size\":10,\"solidity\":0.2}},\"type\":\"histogram\"}],\"scattergl\":[{\"type\":\"scattergl\",\"marker\":{\"colorbar\":{\"outlinewidth\":0,\"ticks\":\"\"}}}],\"scatter3d\":[{\"type\":\"scatter3d\",\"line\":{\"colorbar\":{\"outlinewidth\":0,\"ticks\":\"\"}},\"marker\":{\"colorbar\":{\"outlinewidth\":0,\"ticks\":\"\"}}}],\"scattermapbox\":[{\"type\":\"scattermapbox\",\"marker\":{\"colorbar\":{\"outlinewidth\":0,\"ticks\":\"\"}}}],\"scatterternary\":[{\"type\":\"scatterternary\",\"marker\":{\"colorbar\":{\"outlinewidth\":0,\"ticks\":\"\"}}}],\"scattercarpet\":[{\"type\":\"scattercarpet\",\"marker\":{\"colorbar\":{\"outlinewidth\":0,\"ticks\":\"\"}}}],\"carpet\":[{\"aaxis\":{\"endlinecolor\":\"#2a3f5f\",\"gridcolor\":\"white\",\"linecolor\":\"white\",\"minorgridcolor\":\"white\",\"startlinecolor\":\"#2a3f5f\"},\"baxis\":{\"endlinecolor\":\"#2a3f5f\",\"gridcolor\":\"white\",\"linecolor\":\"white\",\"minorgridcolor\":\"white\",\"startlinecolor\":\"#2a3f5f\"},\"type\":\"carpet\"}],\"table\":[{\"cells\":{\"fill\":{\"color\":\"#EBF0F8\"},\"line\":{\"color\":\"white\"}},\"header\":{\"fill\":{\"color\":\"#C8D4E3\"},\"line\":{\"color\":\"white\"}},\"type\":\"table\"}],\"barpolar\":[{\"marker\":{\"line\":{\"color\":\"#E5ECF6\",\"width\":0.5},\"pattern\":{\"fillmode\":\"overlay\",\"size\":10,\"solidity\":0.2}},\"type\":\"barpolar\"}],\"pie\":[{\"automargin\":true,\"type\":\"pie\"}]},\"layout\":{\"autotypenumbers\":\"strict\",\"colorway\":[\"#636efa\",\"#EF553B\",\"#00cc96\",\"#ab63fa\",\"#FFA15A\",\"#19d3f3\",\"#FF6692\",\"#B6E880\",\"#FF97FF\",\"#FECB52\"],\"font\":{\"color\":\"#2a3f5f\"},\"hovermode\":\"closest\",\"hoverlabel\":{\"align\":\"left\"},\"paper_bgcolor\":\"white\",\"plot_bgcolor\":\"#E5ECF6\",\"polar\":{\"bgcolor\":\"#E5ECF6\",\"angularaxis\":{\"gridcolor\":\"white\",\"linecolor\":\"white\",\"ticks\":\"\"},\"radialaxis\":{\"gridcolor\":\"white\",\"linecolor\":\"white\",\"ticks\":\"\"}},\"ternary\":{\"bgcolor\":\"#E5ECF6\",\"aaxis\":{\"gridcolor\":\"white\",\"linecolor\":\"white\",\"ticks\":\"\"},\"baxis\":{\"gridcolor\":\"white\",\"linecolor\":\"white\",\"ticks\":\"\"},\"caxis\":{\"gridcolor\":\"white\",\"linecolor\":\"white\",\"ticks\":\"\"}},\"coloraxis\":{\"colorbar\":{\"outlinewidth\":0,\"ticks\":\"\"}},\"colorscale\":{\"sequential\":[[0.0,\"#0d0887\"],[0.1111111111111111,\"#46039f\"],[0.2222222222222222,\"#7201a8\"],[0.3333333333333333,\"#9c179e\"],[0.4444444444444444,\"#bd3786\"],[0.5555555555555556,\"#d8576b\"],[0.6666666666666666,\"#ed7953\"],[0.7777777777777778,\"#fb9f3a\"],[0.8888888888888888,\"#fdca26\"],[1.0,\"#f0f921\"]],\"sequentialminus\":[[0.0,\"#0d0887\"],[0.1111111111111111,\"#46039f\"],[0.2222222222222222,\"#7201a8\"],[0.3333333333333333,\"#9c179e\"],[0.4444444444444444,\"#bd3786\"],[0.5555555555555556,\"#d8576b\"],[0.6666666666666666,\"#ed7953\"],[0.7777777777777778,\"#fb9f3a\"],[0.8888888888888888,\"#fdca26\"],[1.0,\"#f0f921\"]],\"diverging\":[[0,\"#8e0152\"],[0.1,\"#c51b7d\"],[0.2,\"#de77ae\"],[0.3,\"#f1b6da\"],[0.4,\"#fde0ef\"],[0.5,\"#f7f7f7\"],[0.6,\"#e6f5d0\"],[0.7,\"#b8e186\"],[0.8,\"#7fbc41\"],[0.9,\"#4d9221\"],[1,\"#276419\"]]},\"xaxis\":{\"gridcolor\":\"white\",\"linecolor\":\"white\",\"ticks\":\"\",\"title\":{\"standoff\":15},\"zerolinecolor\":\"white\",\"automargin\":true,\"zerolinewidth\":2},\"yaxis\":{\"gridcolor\":\"white\",\"linecolor\":\"white\",\"ticks\":\"\",\"title\":{\"standoff\":15},\"zerolinecolor\":\"white\",\"automargin\":true,\"zerolinewidth\":2},\"scene\":{\"xaxis\":{\"backgroundcolor\":\"#E5ECF6\",\"gridcolor\":\"white\",\"linecolor\":\"white\",\"showbackground\":true,\"ticks\":\"\",\"zerolinecolor\":\"white\",\"gridwidth\":2},\"yaxis\":{\"backgroundcolor\":\"#E5ECF6\",\"gridcolor\":\"white\",\"linecolor\":\"white\",\"showbackground\":true,\"ticks\":\"\",\"zerolinecolor\":\"white\",\"gridwidth\":2},\"zaxis\":{\"backgroundcolor\":\"#E5ECF6\",\"gridcolor\":\"white\",\"linecolor\":\"white\",\"showbackground\":true,\"ticks\":\"\",\"zerolinecolor\":\"white\",\"gridwidth\":2}},\"shapedefaults\":{\"line\":{\"color\":\"#2a3f5f\"}},\"annotationdefaults\":{\"arrowcolor\":\"#2a3f5f\",\"arrowhead\":0,\"arrowwidth\":1},\"geo\":{\"bgcolor\":\"white\",\"landcolor\":\"#E5ECF6\",\"subunitcolor\":\"white\",\"showland\":true,\"showlakes\":true,\"lakecolor\":\"white\"},\"title\":{\"x\":0.05},\"mapbox\":{\"style\":\"light\"}}},\"xaxis\":{\"anchor\":\"y\",\"domain\":[0.0,1.0],\"title\":{\"text\":\"Youtuber\"}},\"yaxis\":{\"anchor\":\"x\",\"domain\":[0.0,1.0],\"title\":{\"text\":\"subscribers\"}},\"legend\":{\"tracegroupgap\":0},\"title\":{\"text\":\"Top 10 YouTubers by Subscribers\"},\"barmode\":\"relative\"},                        {\"responsive\": true}                    ).then(function(){\n",
       "                            \n",
       "var gd = document.getElementById('306435f3-1734-43c6-ad8b-dc09b70a15c3');\n",
       "var x = new MutationObserver(function (mutations, observer) {{\n",
       "        var display = window.getComputedStyle(gd).display;\n",
       "        if (!display || display === 'none') {{\n",
       "            console.log([gd, 'removed!']);\n",
       "            Plotly.purge(gd);\n",
       "            observer.disconnect();\n",
       "        }}\n",
       "}});\n",
       "\n",
       "// Listen for the removal of the full notebook cells\n",
       "var notebookContainer = gd.closest('#notebook-container');\n",
       "if (notebookContainer) {{\n",
       "    x.observe(notebookContainer, {childList: true});\n",
       "}}\n",
       "\n",
       "// Listen for the clearing of the current output cell\n",
       "var outputEl = gd.closest('.output');\n",
       "if (outputEl) {{\n",
       "    x.observe(outputEl, {childList: true});\n",
       "}}\n",
       "\n",
       "                        })                };                });            </script>        </div>"
      ]
     },
     "metadata": {},
     "output_type": "display_data"
    }
   ],
   "source": [
    "fig1 = px.bar(df1.head(10), x='Youtuber', y='subscribers', title='Top 10 YouTubers by Subscribers')\n",
    "fig1.show()"
   ]
  },
  {
   "cell_type": "markdown",
   "id": "34e68ebb",
   "metadata": {},
   "source": [
    "# Geographic Distribution of Viewers"
   ]
  },
  {
   "cell_type": "code",
   "execution_count": 66,
   "id": "b0111497",
   "metadata": {
    "scrolled": true
   },
   "outputs": [
    {
     "data": {
      "application/vnd.plotly.v1+json": {
       "config": {
        "plotlyServerURL": "https://plot.ly"
       },
       "data": [
        {
         "geo": "geo",
         "hovertemplate": "category=Music<br>video views=%{marker.size}<br>Latitude=%{lat}<br>Longitude=%{lon}<extra></extra>",
         "lat": [
          20.593684,
          20.593684,
          35.907757,
          56.130366,
          35.907757,
          -14.235004,
          20.593684,
          20.593684,
          20.593684,
          -38.416097,
          20.593684,
          20.593684,
          37.09024,
          55.378051,
          37.09024,
          37.09024,
          37.09024,
          37.09024,
          37.09024,
          15.870032,
          20.593684,
          37.09024,
          -14.235004,
          20.593684,
          37.09024,
          37.09024,
          37.09024,
          37.09024,
          -38.416097,
          20.593684,
          20.593684,
          4.570868,
          20.593684,
          55.378051,
          37.09024,
          56.130366,
          4.570868,
          20.593684,
          37.09024,
          37.09024,
          37.09024,
          55.378051,
          52.132633,
          56.130366,
          37.09024,
          -38.416097,
          37.09024,
          -25.274398,
          4.570868,
          37.09024,
          35.907757,
          37.09024,
          37.09024,
          -0.789275,
          37.09024,
          37.09024,
          37.09024,
          37.09024,
          55.378051,
          37.09024,
          56.130366,
          4.570868,
          37.09024,
          37.09024,
          35.907757,
          38.963745,
          37.09024,
          37.09024,
          20.593684,
          15.870032,
          20.593684,
          30.585164,
          37.09024,
          37.09024,
          -38.416097,
          37.09024,
          55.378051,
          55.378051,
          20.593684,
          37.09024,
          37.09024,
          60.128161,
          33.93911,
          20.593684,
          37.09024,
          37.09024,
          37.09024,
          56.130366,
          -14.235004,
          55.378051,
          37.09024,
          15.870032,
          -14.235004,
          15.870032,
          37.09024,
          35.907757,
          37.09024,
          37.09024,
          37.09024,
          37.09024,
          35.907757,
          33.223191,
          -14.235004,
          55.378051,
          37.09024,
          20.593684,
          37.09024,
          20.593684,
          37.09024,
          37.09024,
          55.378051,
          55.378051,
          37.09024,
          37.09024,
          14.058324,
          46.227638,
          37.09024,
          -14.235004,
          4.570868,
          20.593684,
          20.593684,
          20.593684,
          23.885942,
          -14.235004,
          15.870032,
          37.09024,
          20.593684,
          35.907757,
          55.378051,
          20.593684,
          -14.235004,
          37.09024,
          37.09024,
          37.09024,
          37.09024,
          -14.235004,
          -14.235004,
          37.09024,
          -14.235004,
          37.09024,
          20.593684,
          37.09024,
          31.791702,
          37.09024,
          37.09024,
          12.879721,
          20.593684,
          -25.274398,
          37.09024,
          37.09024,
          40.463667,
          23.634501,
          37.09024,
          20.593684,
          -14.235004,
          37.09024,
          55.378051,
          37.09024,
          4.570868,
          4.570868,
          20.593684,
          -14.235004,
          37.09024,
          -13.759029,
          46.227638,
          -14.235004,
          37.09024,
          37.09024,
          40.463667,
          37.09024,
          40.463667,
          37.09024,
          37.09024,
          55.378051,
          23.634501,
          -14.235004,
          20.593684,
          55.378051,
          37.09024,
          37.09024
         ],
         "legendgroup": "",
         "lon": [
          78.96288,
          78.96288,
          127.766922,
          -106.346771,
          127.766922,
          -51.92528,
          78.96288,
          78.96288,
          78.96288,
          -63.616672,
          78.96288,
          78.96288,
          -95.712891,
          -3.435973,
          -95.712891,
          -95.712891,
          -95.712891,
          -95.712891,
          -95.712891,
          100.992541,
          78.96288,
          -95.712891,
          -51.92528,
          78.96288,
          -95.712891,
          -95.712891,
          -95.712891,
          -95.712891,
          -63.616672,
          78.96288,
          78.96288,
          -74.297333,
          78.96288,
          -3.435973,
          -95.712891,
          -106.346771,
          -74.297333,
          78.96288,
          -95.712891,
          -95.712891,
          -95.712891,
          -3.435973,
          5.291266,
          -106.346771,
          -95.712891,
          -63.616672,
          -95.712891,
          133.775136,
          -74.297333,
          -95.712891,
          127.766922,
          -95.712891,
          -95.712891,
          113.921327,
          -95.712891,
          -95.712891,
          -95.712891,
          -95.712891,
          -3.435973,
          -95.712891,
          -106.346771,
          -74.297333,
          -95.712891,
          -95.712891,
          127.766922,
          35.243322,
          -95.712891,
          -95.712891,
          78.96288,
          100.992541,
          78.96288,
          36.238414,
          -95.712891,
          -95.712891,
          -63.616672,
          -95.712891,
          -3.435973,
          -3.435973,
          78.96288,
          -95.712891,
          -95.712891,
          18.643501,
          67.709953,
          78.96288,
          -95.712891,
          -95.712891,
          -95.712891,
          -106.346771,
          -51.92528,
          -3.435973,
          -95.712891,
          100.992541,
          -51.92528,
          100.992541,
          -95.712891,
          127.766922,
          -95.712891,
          -95.712891,
          -95.712891,
          -95.712891,
          127.766922,
          43.679291,
          -51.92528,
          -3.435973,
          -95.712891,
          78.96288,
          -95.712891,
          78.96288,
          -95.712891,
          -95.712891,
          -3.435973,
          -3.435973,
          -95.712891,
          -95.712891,
          108.277199,
          2.213749,
          -95.712891,
          -51.92528,
          -74.297333,
          78.96288,
          78.96288,
          78.96288,
          45.079162,
          -51.92528,
          100.992541,
          -95.712891,
          78.96288,
          127.766922,
          -3.435973,
          78.96288,
          -51.92528,
          -95.712891,
          -95.712891,
          -95.712891,
          -95.712891,
          -51.92528,
          -51.92528,
          -95.712891,
          -51.92528,
          -95.712891,
          78.96288,
          -95.712891,
          -7.09262,
          -95.712891,
          -95.712891,
          121.774017,
          78.96288,
          133.775136,
          -95.712891,
          -95.712891,
          -3.74922,
          -102.552784,
          -95.712891,
          78.96288,
          -51.92528,
          -95.712891,
          -3.435973,
          -95.712891,
          -74.297333,
          -74.297333,
          78.96288,
          -51.92528,
          -95.712891,
          -172.104629,
          2.213749,
          -51.92528,
          -95.712891,
          -95.712891,
          -3.74922,
          -95.712891,
          -3.74922,
          -95.712891,
          -95.712891,
          -3.435973,
          -102.552784,
          -51.92528,
          78.96288,
          -3.435973,
          -95.712891,
          -95.712891
         ],
         "marker": {
          "color": "#636efa",
          "size": [
           228000000000,
           57856289381,
           20826993957,
           30608119724,
           28634566938,
           36775585925,
           28648024439,
           29533230328,
           33431802698,
           57271630846,
           40602020243,
           28837144516,
           27073872856,
           30367676736,
           29884657286,
           24004842608,
           13626331061,
           27286058807,
           25458952022,
           12884264778,
           26820902622,
           10507474316,
           25154232306,
           16718192386,
           13598903820,
           22731415608,
           19378155425,
           22553923546,
           27118354077,
           22637783517,
           12746535822,
           23005313609,
           14864294792,
           10530729078,
           28516250629,
           23379969006,
           18699145555,
           16476978876,
           26583873105,
           16793072362,
           14037426379,
           14199108016,
           19607009165,
           12831200855,
           17208027242,
           21226945136,
           14412474625,
           21037851468,
           15777682516,
           13379395501,
           19883150017,
           20358117330,
           17308961985,
           11372071889,
           17793809548,
           10242981063,
           25592378292,
           14401218086,
           17331663193,
           19458807708,
           16357064198,
           14827085149,
           20531704527,
           23755792542,
           23962070944,
           56106087508,
           8425505919,
           17688774915,
           12889240875,
           25579831081,
           9299371231,
           16298342829,
           14231943358,
           13405849040,
           8040036209,
           9924807127,
           11288359365,
           12140232004,
           6264261757,
           10644857969,
           17324976752,
           10292874715,
           13397000296,
           3579555124,
           6618524158,
           14816075927,
           559765455,
           6033295543,
           13917423958,
           16014044618,
           9573641299,
           20196704276,
           2908120896,
           11544297793,
           25367126292,
           10703830496,
           17921124985,
           6888074944,
           9887116267,
           20115544708,
           3802280098,
           11144195464,
           7337212581,
           10847948832,
           14543594822,
           8684010451,
           7979736581,
           11946217860,
           6578828147,
           6613422635,
           7520242626,
           10170264839,
           12475714382,
           10227242833,
           9763592867,
           7126210721,
           9962188084,
           9198986881,
           6802382479,
           5914071870,
           6626563508,
           5558051295,
           6386271870,
           14619523361,
           14564170905,
           4909687948,
           6391679636,
           7857371770,
           12413869881,
           9978734160,
           11506702632,
           10069000444,
           4395184343,
           13356517783,
           3587576784,
           9076642765,
           4684983333,
           6017932195,
           11182302317,
           7952268926,
           6290721701,
           20042571499,
           4315486422,
           4035738731,
           11423792969,
           6048517979,
           2131548711,
           5129529846,
           6884215292,
           19013942981,
           8623705301,
           9660950823,
           12513842343,
           11039343563,
           8134379376,
           3764608356,
           5545936485,
           2750993392,
           11789678655,
           20743586601,
           4712624489,
           4608751851,
           5264039679,
           6637820731,
           1698279553,
           4349562794,
           6300933122,
           15446707595,
           6662288136,
           14185611472,
           4579773883,
           9927699419,
           8831179714,
           6969178081,
           7489455451,
           16690788752,
           5146004207,
           12607488647,
           6202090191,
           6993406259
          ],
          "sizemode": "area",
          "sizeref": 570000000,
          "symbol": "circle"
         },
         "mode": "markers",
         "name": "",
         "showlegend": false,
         "type": "scattergeo"
        }
       ],
       "frames": [
        {
         "data": [
          {
           "geo": "geo",
           "hovertemplate": "category=Music<br>video views=%{marker.size}<br>Latitude=%{lat}<br>Longitude=%{lon}<extra></extra>",
           "lat": [
            20.593684,
            20.593684,
            35.907757,
            56.130366,
            35.907757,
            -14.235004,
            20.593684,
            20.593684,
            20.593684,
            -38.416097,
            20.593684,
            20.593684,
            37.09024,
            55.378051,
            37.09024,
            37.09024,
            37.09024,
            37.09024,
            37.09024,
            15.870032,
            20.593684,
            37.09024,
            -14.235004,
            20.593684,
            37.09024,
            37.09024,
            37.09024,
            37.09024,
            -38.416097,
            20.593684,
            20.593684,
            4.570868,
            20.593684,
            55.378051,
            37.09024,
            56.130366,
            4.570868,
            20.593684,
            37.09024,
            37.09024,
            37.09024,
            55.378051,
            52.132633,
            56.130366,
            37.09024,
            -38.416097,
            37.09024,
            -25.274398,
            4.570868,
            37.09024,
            35.907757,
            37.09024,
            37.09024,
            -0.789275,
            37.09024,
            37.09024,
            37.09024,
            37.09024,
            55.378051,
            37.09024,
            56.130366,
            4.570868,
            37.09024,
            37.09024,
            35.907757,
            38.963745,
            37.09024,
            37.09024,
            20.593684,
            15.870032,
            20.593684,
            30.585164,
            37.09024,
            37.09024,
            -38.416097,
            37.09024,
            55.378051,
            55.378051,
            20.593684,
            37.09024,
            37.09024,
            60.128161,
            33.93911,
            20.593684,
            37.09024,
            37.09024,
            37.09024,
            56.130366,
            -14.235004,
            55.378051,
            37.09024,
            15.870032,
            -14.235004,
            15.870032,
            37.09024,
            35.907757,
            37.09024,
            37.09024,
            37.09024,
            37.09024,
            35.907757,
            33.223191,
            -14.235004,
            55.378051,
            37.09024,
            20.593684,
            37.09024,
            20.593684,
            37.09024,
            37.09024,
            55.378051,
            55.378051,
            37.09024,
            37.09024,
            14.058324,
            46.227638,
            37.09024,
            -14.235004,
            4.570868,
            20.593684,
            20.593684,
            20.593684,
            23.885942,
            -14.235004,
            15.870032,
            37.09024,
            20.593684,
            35.907757,
            55.378051,
            20.593684,
            -14.235004,
            37.09024,
            37.09024,
            37.09024,
            37.09024,
            -14.235004,
            -14.235004,
            37.09024,
            -14.235004,
            37.09024,
            20.593684,
            37.09024,
            31.791702,
            37.09024,
            37.09024,
            12.879721,
            20.593684,
            -25.274398,
            37.09024,
            37.09024,
            40.463667,
            23.634501,
            37.09024,
            20.593684,
            -14.235004,
            37.09024,
            55.378051,
            37.09024,
            4.570868,
            4.570868,
            20.593684,
            -14.235004,
            37.09024,
            -13.759029,
            46.227638,
            -14.235004,
            37.09024,
            37.09024,
            40.463667,
            37.09024,
            40.463667,
            37.09024,
            37.09024,
            55.378051,
            23.634501,
            -14.235004,
            20.593684,
            55.378051,
            37.09024,
            37.09024
           ],
           "legendgroup": "",
           "lon": [
            78.96288,
            78.96288,
            127.766922,
            -106.346771,
            127.766922,
            -51.92528,
            78.96288,
            78.96288,
            78.96288,
            -63.616672,
            78.96288,
            78.96288,
            -95.712891,
            -3.435973,
            -95.712891,
            -95.712891,
            -95.712891,
            -95.712891,
            -95.712891,
            100.992541,
            78.96288,
            -95.712891,
            -51.92528,
            78.96288,
            -95.712891,
            -95.712891,
            -95.712891,
            -95.712891,
            -63.616672,
            78.96288,
            78.96288,
            -74.297333,
            78.96288,
            -3.435973,
            -95.712891,
            -106.346771,
            -74.297333,
            78.96288,
            -95.712891,
            -95.712891,
            -95.712891,
            -3.435973,
            5.291266,
            -106.346771,
            -95.712891,
            -63.616672,
            -95.712891,
            133.775136,
            -74.297333,
            -95.712891,
            127.766922,
            -95.712891,
            -95.712891,
            113.921327,
            -95.712891,
            -95.712891,
            -95.712891,
            -95.712891,
            -3.435973,
            -95.712891,
            -106.346771,
            -74.297333,
            -95.712891,
            -95.712891,
            127.766922,
            35.243322,
            -95.712891,
            -95.712891,
            78.96288,
            100.992541,
            78.96288,
            36.238414,
            -95.712891,
            -95.712891,
            -63.616672,
            -95.712891,
            -3.435973,
            -3.435973,
            78.96288,
            -95.712891,
            -95.712891,
            18.643501,
            67.709953,
            78.96288,
            -95.712891,
            -95.712891,
            -95.712891,
            -106.346771,
            -51.92528,
            -3.435973,
            -95.712891,
            100.992541,
            -51.92528,
            100.992541,
            -95.712891,
            127.766922,
            -95.712891,
            -95.712891,
            -95.712891,
            -95.712891,
            127.766922,
            43.679291,
            -51.92528,
            -3.435973,
            -95.712891,
            78.96288,
            -95.712891,
            78.96288,
            -95.712891,
            -95.712891,
            -3.435973,
            -3.435973,
            -95.712891,
            -95.712891,
            108.277199,
            2.213749,
            -95.712891,
            -51.92528,
            -74.297333,
            78.96288,
            78.96288,
            78.96288,
            45.079162,
            -51.92528,
            100.992541,
            -95.712891,
            78.96288,
            127.766922,
            -3.435973,
            78.96288,
            -51.92528,
            -95.712891,
            -95.712891,
            -95.712891,
            -95.712891,
            -51.92528,
            -51.92528,
            -95.712891,
            -51.92528,
            -95.712891,
            78.96288,
            -95.712891,
            -7.09262,
            -95.712891,
            -95.712891,
            121.774017,
            78.96288,
            133.775136,
            -95.712891,
            -95.712891,
            -3.74922,
            -102.552784,
            -95.712891,
            78.96288,
            -51.92528,
            -95.712891,
            -3.435973,
            -95.712891,
            -74.297333,
            -74.297333,
            78.96288,
            -51.92528,
            -95.712891,
            -172.104629,
            2.213749,
            -51.92528,
            -95.712891,
            -95.712891,
            -3.74922,
            -95.712891,
            -3.74922,
            -95.712891,
            -95.712891,
            -3.435973,
            -102.552784,
            -51.92528,
            78.96288,
            -3.435973,
            -95.712891,
            -95.712891
           ],
           "marker": {
            "color": "#636efa",
            "size": [
             228000000000,
             57856289381,
             20826993957,
             30608119724,
             28634566938,
             36775585925,
             28648024439,
             29533230328,
             33431802698,
             57271630846,
             40602020243,
             28837144516,
             27073872856,
             30367676736,
             29884657286,
             24004842608,
             13626331061,
             27286058807,
             25458952022,
             12884264778,
             26820902622,
             10507474316,
             25154232306,
             16718192386,
             13598903820,
             22731415608,
             19378155425,
             22553923546,
             27118354077,
             22637783517,
             12746535822,
             23005313609,
             14864294792,
             10530729078,
             28516250629,
             23379969006,
             18699145555,
             16476978876,
             26583873105,
             16793072362,
             14037426379,
             14199108016,
             19607009165,
             12831200855,
             17208027242,
             21226945136,
             14412474625,
             21037851468,
             15777682516,
             13379395501,
             19883150017,
             20358117330,
             17308961985,
             11372071889,
             17793809548,
             10242981063,
             25592378292,
             14401218086,
             17331663193,
             19458807708,
             16357064198,
             14827085149,
             20531704527,
             23755792542,
             23962070944,
             56106087508,
             8425505919,
             17688774915,
             12889240875,
             25579831081,
             9299371231,
             16298342829,
             14231943358,
             13405849040,
             8040036209,
             9924807127,
             11288359365,
             12140232004,
             6264261757,
             10644857969,
             17324976752,
             10292874715,
             13397000296,
             3579555124,
             6618524158,
             14816075927,
             559765455,
             6033295543,
             13917423958,
             16014044618,
             9573641299,
             20196704276,
             2908120896,
             11544297793,
             25367126292,
             10703830496,
             17921124985,
             6888074944,
             9887116267,
             20115544708,
             3802280098,
             11144195464,
             7337212581,
             10847948832,
             14543594822,
             8684010451,
             7979736581,
             11946217860,
             6578828147,
             6613422635,
             7520242626,
             10170264839,
             12475714382,
             10227242833,
             9763592867,
             7126210721,
             9962188084,
             9198986881,
             6802382479,
             5914071870,
             6626563508,
             5558051295,
             6386271870,
             14619523361,
             14564170905,
             4909687948,
             6391679636,
             7857371770,
             12413869881,
             9978734160,
             11506702632,
             10069000444,
             4395184343,
             13356517783,
             3587576784,
             9076642765,
             4684983333,
             6017932195,
             11182302317,
             7952268926,
             6290721701,
             20042571499,
             4315486422,
             4035738731,
             11423792969,
             6048517979,
             2131548711,
             5129529846,
             6884215292,
             19013942981,
             8623705301,
             9660950823,
             12513842343,
             11039343563,
             8134379376,
             3764608356,
             5545936485,
             2750993392,
             11789678655,
             20743586601,
             4712624489,
             4608751851,
             5264039679,
             6637820731,
             1698279553,
             4349562794,
             6300933122,
             15446707595,
             6662288136,
             14185611472,
             4579773883,
             9927699419,
             8831179714,
             6969178081,
             7489455451,
             16690788752,
             5146004207,
             12607488647,
             6202090191,
             6993406259
            ],
            "sizemode": "area",
            "sizeref": 570000000,
            "symbol": "circle"
           },
           "mode": "markers",
           "name": "",
           "showlegend": false,
           "type": "scattergeo"
          }
         ],
         "name": "Music"
        },
        {
         "data": [
          {
           "geo": "geo",
           "hovertemplate": "category=Film & Animation<br>video views=%{marker.size}<br>Latitude=%{lat}<br>Longitude=%{lon}<extra></extra>",
           "lat": [
            37.09024,
            37.09024,
            20.593684,
            61.52401,
            20.593684,
            -14.235004,
            37.09024,
            55.378051,
            37.09024,
            20.593684,
            20.593684,
            55.378051,
            20.593684,
            -14.235004,
            37.09024,
            20.593684,
            37.09024,
            -14.235004,
            37.09024,
            20.593684,
            37.09024,
            37.09024,
            20.593684,
            -14.235004,
            37.09024,
            4.210484,
            -38.416097,
            20.593684,
            -14.235004,
            23.634501,
            37.09024,
            20.593684,
            -14.235004,
            37.09024,
            -14.235004,
            20.593684
           ],
           "legendgroup": "",
           "lon": [
            -95.712891,
            -95.712891,
            78.96288,
            105.318756,
            78.96288,
            -51.92528,
            -95.712891,
            -3.435973,
            -95.712891,
            78.96288,
            78.96288,
            -3.435973,
            78.96288,
            -51.92528,
            -95.712891,
            78.96288,
            -95.712891,
            -51.92528,
            -95.712891,
            78.96288,
            -95.712891,
            -95.712891,
            78.96288,
            -51.92528,
            -95.712891,
            101.975766,
            -63.616672,
            78.96288,
            -51.92528,
            -102.552784,
            -95.712891,
            78.96288,
            -51.92528,
            -95.712891,
            -51.92528,
            78.96288
           ],
           "marker": {
            "color": "#636efa",
            "size": [
             0,
             59316472754,
             35302243691,
             36458726976,
             11351015824,
             27274550757,
             13013567335,
             22919271731,
             22440611155,
             8595760553,
             6608773195,
             7920637200,
             9465863821,
             7926899136,
             5380073627,
             2431154438,
             4454917643,
             1796227417,
             11317309935,
             9715291883,
             10955619815,
             7906181776,
             8281724393,
             13824277846,
             8588704539,
             9059696049,
             17247584185,
             902225615,
             3693798804,
             5997599089,
             13116313599,
             9787697838,
             4040297006,
             2244318380,
             4214172991,
             7683670251
            ],
            "sizemode": "area",
            "sizeref": 570000000,
            "symbol": "circle"
           },
           "mode": "markers",
           "name": "",
           "showlegend": false,
           "type": "scattergeo"
          }
         ],
         "name": "Film & Animation"
        },
        {
         "data": [
          {
           "geo": "geo",
           "hovertemplate": "category=Entertainment<br>video views=%{marker.size}<br>Latitude=%{lat}<br>Longitude=%{lon}<extra></extra>",
           "lat": [
            37.09024,
            37.09024,
            20.593684,
            37.09024,
            61.52401,
            20.593684,
            20.593684,
            -14.235004,
            -14.235004,
            30.375321,
            30.375321,
            37.09024,
            13.193887,
            15.870032,
            37.09024,
            37.09024,
            15.870032,
            20.593684,
            37.09024,
            -0.789275,
            15.870032,
            20.593684,
            20.593684,
            12.879721,
            37.09024,
            37.09024,
            -38.416097,
            -0.789275,
            37.09024,
            30.585164,
            37.09024,
            37.09024,
            30.375321,
            20.593684,
            20.593684,
            20.593684,
            -14.235004,
            37.09024,
            41.87194,
            20.593684,
            36.204824,
            23.885942,
            -0.789275,
            55.378051,
            37.09024,
            37.09024,
            23.634501,
            55.378051,
            37.09024,
            37.09024,
            23.634501,
            37.09024,
            37.09024,
            37.09024,
            51.165691,
            -38.416097,
            20.593684,
            37.09024,
            36.204824,
            23.634501,
            37.09024,
            37.09024,
            20.593684,
            20.593684,
            12.879721,
            37.09024,
            -14.235004,
            37.09024,
            -14.235004,
            37.09024,
            -0.789275,
            35.907757,
            37.09024,
            20.593684,
            48.379433,
            55.378051,
            4.570868,
            37.09024,
            37.09024,
            37.09024,
            55.378051,
            55.378051,
            55.378051,
            38.963745,
            20.593684,
            20.593684,
            20.593684,
            37.09024,
            35.907757,
            55.378051,
            48.379433,
            40.463667,
            20.593684,
            37.09024,
            37.09024,
            37.09024,
            -0.789275,
            37.09024,
            -38.416097,
            14.058324,
            -14.235004,
            20.593684,
            20.593684,
            15.870032,
            20.593684,
            -0.789275,
            37.09024,
            37.09024,
            -0.789275,
            37.09024,
            23.634501,
            20.593684,
            51.165691,
            37.09024,
            37.09024,
            37.09024,
            15.870032,
            15.870032,
            37.09024,
            20.593684,
            37.09024,
            1.352083,
            40.463667,
            -0.789275,
            37.09024,
            37.09024,
            23.634501,
            37.09024,
            23.634501,
            -14.235004,
            20.593684,
            37.09024,
            20.593684,
            12.879721,
            20.593684,
            20.593684,
            38.963745,
            61.52401,
            -14.235004,
            23.634501,
            20.593684,
            37.09024,
            20.593684,
            -0.789275,
            37.09024,
            40.463667,
            15.870032,
            36.204824,
            23.885942,
            37.09024,
            40.463667,
            37.09024,
            20.593684,
            -1.831239,
            37.09024,
            37.09024,
            37.09024,
            37.09024,
            15.870032,
            35.907757,
            -9.189967,
            23.885942,
            20.593684,
            20.593684,
            48.379433,
            20.593684,
            37.09024,
            -0.789275,
            15.870032,
            20.593684,
            -14.235004,
            30.585164,
            20.593684,
            37.09024,
            37.09024,
            20.593684,
            -14.235004,
            37.09024,
            55.378051,
            48.379433,
            20.593684,
            20.593684,
            20.593684,
            37.09024,
            37.09024,
            37.09024,
            48.379433,
            37.09024,
            61.52401,
            20.593684,
            -14.235004,
            37.09024,
            -14.235004,
            41.87194,
            -0.789275,
            20.593684,
            37.09024,
            23.634501,
            -14.235004,
            35.907757,
            37.09024,
            55.378051,
            56.130366,
            37.09024,
            55.378051,
            37.09024,
            -14.235004,
            20.593684,
            20.593684,
            20.593684,
            20.593684,
            -0.789275,
            56.130366
           ],
           "legendgroup": "",
           "lon": [
            -95.712891,
            -95.712891,
            78.96288,
            -95.712891,
            105.318756,
            78.96288,
            78.96288,
            -51.92528,
            -51.92528,
            69.345116,
            69.345116,
            -95.712891,
            -59.543198,
            100.992541,
            -95.712891,
            -95.712891,
            100.992541,
            78.96288,
            -95.712891,
            113.921327,
            100.992541,
            78.96288,
            78.96288,
            121.774017,
            -95.712891,
            -95.712891,
            -63.616672,
            113.921327,
            -95.712891,
            36.238414,
            -95.712891,
            -95.712891,
            69.345116,
            78.96288,
            78.96288,
            78.96288,
            -51.92528,
            -95.712891,
            12.56738,
            78.96288,
            138.252924,
            45.079162,
            113.921327,
            -3.435973,
            -95.712891,
            -95.712891,
            -102.552784,
            -3.435973,
            -95.712891,
            -95.712891,
            -102.552784,
            -95.712891,
            -95.712891,
            -95.712891,
            10.451526,
            -63.616672,
            78.96288,
            -95.712891,
            138.252924,
            -102.552784,
            -95.712891,
            -95.712891,
            78.96288,
            78.96288,
            121.774017,
            -95.712891,
            -51.92528,
            -95.712891,
            -51.92528,
            -95.712891,
            113.921327,
            127.766922,
            -95.712891,
            78.96288,
            31.16558,
            -3.435973,
            -74.297333,
            -95.712891,
            -95.712891,
            -95.712891,
            -3.435973,
            -3.435973,
            -3.435973,
            35.243322,
            78.96288,
            78.96288,
            78.96288,
            -95.712891,
            127.766922,
            -3.435973,
            31.16558,
            -3.74922,
            78.96288,
            -95.712891,
            -95.712891,
            -95.712891,
            113.921327,
            -95.712891,
            -63.616672,
            108.277199,
            -51.92528,
            78.96288,
            78.96288,
            100.992541,
            78.96288,
            113.921327,
            -95.712891,
            -95.712891,
            113.921327,
            -95.712891,
            -102.552784,
            78.96288,
            10.451526,
            -95.712891,
            -95.712891,
            -95.712891,
            100.992541,
            100.992541,
            -95.712891,
            78.96288,
            -95.712891,
            103.819836,
            -3.74922,
            113.921327,
            -95.712891,
            -95.712891,
            -102.552784,
            -95.712891,
            -102.552784,
            -51.92528,
            78.96288,
            -95.712891,
            78.96288,
            121.774017,
            78.96288,
            78.96288,
            35.243322,
            105.318756,
            -51.92528,
            -102.552784,
            78.96288,
            -95.712891,
            78.96288,
            113.921327,
            -95.712891,
            -3.74922,
            100.992541,
            138.252924,
            45.079162,
            -95.712891,
            -3.74922,
            -95.712891,
            78.96288,
            -78.183406,
            -95.712891,
            -95.712891,
            -95.712891,
            -95.712891,
            100.992541,
            127.766922,
            -75.015152,
            45.079162,
            78.96288,
            78.96288,
            31.16558,
            78.96288,
            -95.712891,
            113.921327,
            100.992541,
            78.96288,
            -51.92528,
            36.238414,
            78.96288,
            -95.712891,
            -95.712891,
            78.96288,
            -51.92528,
            -95.712891,
            -3.435973,
            31.16558,
            78.96288,
            78.96288,
            78.96288,
            -95.712891,
            -95.712891,
            -95.712891,
            31.16558,
            -95.712891,
            105.318756,
            78.96288,
            -51.92528,
            -95.712891,
            -51.92528,
            12.56738,
            113.921327,
            78.96288,
            -95.712891,
            -102.552784,
            -51.92528,
            127.766922,
            -95.712891,
            -3.435973,
            -106.346771,
            -95.712891,
            -3.435973,
            -95.712891,
            -51.92528,
            78.96288,
            78.96288,
            78.96288,
            78.96288,
            113.921327,
            -106.346771
           ],
           "marker": {
            "color": "#636efa",
            "size": [
             28368841870,
             77180169894,
             73139054467,
             14696003229,
             30788679536,
             22519705183,
             21388725229,
             16602198273,
             7828610828,
             41139050371,
             37939780685,
             19547696190,
             22477745835,
             36131228583,
             22756581750,
             18208196857,
             27262462114,
             15657673422,
             55299840198,
             3963007415,
             29611914495,
             17853798780,
             26800674545,
             19428308461,
             21031745531,
             11615848291,
             6187804950,
             4332274962,
             13546549817,
             27684955537,
             14727238483,
             9956764048,
             23844936965,
             7600740993,
             7705492350,
             17318452893,
             7938616641,
             7173668905,
             17211600007,
             4749833967,
             16097531087,
             7886440199,
             14169516119,
             17387583720,
             3699352704,
             12385924995,
             2700914170,
             6002166932,
             4067878931,
             6582932625,
             2135644776,
             5994002464,
             6766461070,
             22471357411,
             31494513067,
             6041264489,
             10939966484,
             11136266461,
             18347969186,
             20657571751,
             9346383505,
             5141834668,
             10047736580,
             12895427184,
             11364908616,
             4380564906,
             7762905663,
             10631638628,
             3828000587,
             17963202261,
             4956090094,
             15038593883,
             11009148579,
             29406206620,
             4707412332,
             2441288701,
             2951914200,
             23353115850,
             5634695322,
             13154314376,
             3875172235,
             11323617496,
             9808676159,
             8779729549,
             5234251168,
             23038014291,
             7590582024,
             13124645973,
             15126092508,
             5257834105,
             9594188708,
             12295637162,
             6047584292,
             4120324310,
             7760819588,
             13378360425,
             3306242674,
             15412333005,
             5168721499,
             9867515979,
             7739048000,
             2238134438,
             7612385622,
             13043561912,
             11371738047,
             9710962528,
             3827906874,
             4609753237,
             7195314800,
             8826138204,
             2798273962,
             9439857193,
             15278668857,
             5819508534,
             2440934034,
             7406207930,
             9463244435,
             12844432341,
             3527627264,
             7141825267,
             8091706232,
             20522339099,
             4488680903,
             1517638132,
             6872702790,
             15812009296,
             9642146451,
             8696631898,
             1511794214,
             3869457097,
             12714141740,
             6396049701,
             16545966132,
             1491452935,
             7151683497,
             7564652648,
             8333387785,
             13897932103,
             8897705695,
             4008801873,
             8658553456,
             10239836582,
             8932038210,
             8074260978,
             4033400167,
             4977284539,
             5549770244,
             8615618825,
             2230986039,
             1321380490,
             1506796393,
             2465473772,
             12362331529,
             2613197447,
             6944967581,
             4577292740,
             4260187928,
             8582696157,
             9383692066,
             600154268,
             1629801448,
             2972474215,
             8011977288,
             18515587421,
             6973932553,
             11428794827,
             3317805543,
             6036496916,
             4627069704,
             12597067132,
             5094050461,
             9106781518,
             5217553897,
             5465532801,
             2224911030,
             1973638757,
             1950178163,
             14717282742,
             5380132790,
             8265920659,
             3912334359,
             7958771872,
             2650061211,
             3299216601,
             3733856870,
             4177184071,
             7923901253,
             9884886099,
             1148422000,
             3789736218,
             5224764969,
             2182651464,
             5333569294,
             2683297849,
             10664585,
             5057163256,
             9999238237,
             6270909026,
             140022442,
             3178222797,
             3643698504,
             3632438963,
             6970899521,
             13174393401,
             1612094871,
             1136534702,
             4625777945,
             4935793409,
             10384848759,
             11552190002,
             11691081301,
             1113066203,
             4021409291
            ],
            "sizemode": "area",
            "sizeref": 570000000,
            "symbol": "circle"
           },
           "mode": "markers",
           "name": "",
           "showlegend": false,
           "type": "scattergeo"
          }
         ],
         "name": "Entertainment"
        },
        {
         "data": [
          {
           "geo": "geo",
           "hovertemplate": "category=Education<br>video views=%{marker.size}<br>Latitude=%{lat}<br>Longitude=%{lon}<extra></extra>",
           "lat": [
            37.09024,
            37.09024,
            20.593684,
            20.593684,
            37.09024,
            37.09024,
            56.130366,
            37.09024,
            20.593684,
            37.09024,
            37.09024,
            20.593684,
            20.593684,
            23.634501,
            20.593684,
            51.165691,
            -0.789275,
            20.593684,
            37.09024,
            23.634501,
            37.09024,
            37.09024,
            -25.274398,
            -38.416097,
            20.593684,
            20.593684,
            20.593684,
            37.09024,
            -0.789275,
            37.09024,
            37.09024,
            20.593684,
            37.09024,
            20.593684,
            37.09024,
            20.593684,
            20.593684,
            37.09024,
            -0.789275,
            20.593684,
            40.463667,
            37.09024
           ],
           "legendgroup": "",
           "lon": [
            -95.712891,
            -95.712891,
            78.96288,
            78.96288,
            -95.712891,
            -95.712891,
            -106.346771,
            -95.712891,
            78.96288,
            -95.712891,
            -95.712891,
            78.96288,
            78.96288,
            -102.552784,
            78.96288,
            10.451526,
            113.921327,
            78.96288,
            -95.712891,
            -102.552784,
            -95.712891,
            -95.712891,
            133.775136,
            -63.616672,
            78.96288,
            78.96288,
            78.96288,
            -95.712891,
            113.921327,
            -95.712891,
            -95.712891,
            78.96288,
            -95.712891,
            78.96288,
            -95.712891,
            78.96288,
            78.96288,
            -95.712891,
            113.921327,
            78.96288,
            -3.74922,
            -95.712891
           ],
           "marker": {
            "color": "#636efa",
            "size": [
             164000000000,
             38843229963,
             45757850229,
             30516172739,
             9877365274,
             39450824833,
             44900897958,
             25607397308,
             20269857567,
             26355088167,
             22593193994,
             17930570614,
             14814192034,
             13206471140,
             1693149479,
             2378448129,
             11819051552,
             7274150246,
             4924054368,
             9813245108,
             3654621568,
             14857290259,
             8903647480,
             11445492404,
             3018032423,
             1349288771,
             7776706184,
             10714145606,
             2143140898,
             2730879024,
             1833519700,
             4029253667,
             8882319696,
             6554000320,
             2165885634,
             5178142148,
             5141201173,
             5263540904,
             2848466522,
             7876740921,
             6956320454,
             4779139505
            ],
            "sizemode": "area",
            "sizeref": 570000000,
            "symbol": "circle"
           },
           "mode": "markers",
           "name": "",
           "showlegend": false,
           "type": "scattergeo"
          }
         ],
         "name": "Education"
        },
        {
         "data": [
          {
           "geo": "geo",
           "hovertemplate": "category=Shows<br>video views=%{marker.size}<br>Latitude=%{lat}<br>Longitude=%{lon}<extra></extra>",
           "lat": [
            20.593684,
            20.593684,
            20.593684,
            37.09024,
            20.593684,
            55.378051,
            37.09024,
            37.09024,
            37.09024,
            23.885942,
            20.593684,
            48.379433
           ],
           "legendgroup": "",
           "lon": [
            78.96288,
            78.96288,
            78.96288,
            -95.712891,
            78.96288,
            -3.435973,
            -95.712891,
            -95.712891,
            -95.712891,
            45.079162,
            78.96288,
            31.16558
           ],
           "marker": {
            "color": "#636efa",
            "size": [
             148000000000,
             101000000000,
             61510906457,
             24519022988,
             28519339489,
             10602236110,
             13151870846,
             13930021471,
             16174530046,
             8265129639,
             6646953396,
             5585085130
            ],
            "sizemode": "area",
            "sizeref": 570000000,
            "symbol": "circle"
           },
           "mode": "markers",
           "name": "",
           "showlegend": false,
           "type": "scattergeo"
          }
         ],
         "name": "Shows"
        },
        {
         "data": [
          {
           "geo": "geo",
           "hovertemplate": "category=People & Blogs<br>video views=%{marker.size}<br>Latitude=%{lat}<br>Longitude=%{lon}<extra></extra>",
           "lat": [
            37.09024,
            61.52401,
            35.907757,
            12.879721,
            4.570868,
            23.634501,
            23.424076,
            23.885942,
            20.593684,
            -14.235004,
            -0.789275,
            6.42375,
            1.352083,
            37.09024,
            37.09024,
            37.09024,
            23.634501,
            -0.789275,
            37.09024,
            37.09024,
            55.378051,
            55.378051,
            37.09024,
            37.09024,
            37.09024,
            20.593684,
            23.885942,
            37.09024,
            46.227638,
            37.09024,
            37.09024,
            37.09024,
            37.09024,
            20.593684,
            -0.789275,
            37.09024,
            61.52401,
            37.09024,
            37.09024,
            37.09024,
            23.634501,
            37.09024,
            61.52401,
            61.52401,
            -0.789275,
            -0.789275,
            -14.235004,
            37.09024,
            37.09024,
            20.593684,
            20.593684,
            -0.789275,
            37.09024,
            23.634501,
            37.09024,
            -14.235004,
            61.52401,
            -0.789275,
            37.09024,
            23.634501,
            37.09024,
            -0.789275,
            61.52401,
            20.593684,
            37.09024,
            12.879721,
            37.09024,
            26.820553,
            20.593684,
            61.52401,
            37.09024,
            51.165691,
            37.09024,
            40.463667,
            -14.235004,
            35.907757,
            20.593684,
            20.593684,
            37.09024,
            23.634501,
            37.09024,
            20.593684,
            23.634501,
            20.593684,
            20.593684,
            37.09024,
            37.09024,
            61.52401,
            37.09024,
            37.09024,
            20.593684,
            12.879721,
            -14.235004,
            37.09024,
            -1.831239,
            -14.235004,
            23.424076,
            4.570868,
            37.09024,
            35.907757,
            23.634501,
            20.593684,
            20.593684
           ],
           "legendgroup": "",
           "lon": [
            -95.712891,
            105.318756,
            127.766922,
            121.774017,
            -74.297333,
            -102.552784,
            53.847818,
            45.079162,
            78.96288,
            -51.92528,
            113.921327,
            -66.58973,
            103.819836,
            -95.712891,
            -95.712891,
            -95.712891,
            -102.552784,
            113.921327,
            -95.712891,
            -95.712891,
            -3.435973,
            -3.435973,
            -95.712891,
            -95.712891,
            -95.712891,
            78.96288,
            45.079162,
            -95.712891,
            2.213749,
            -95.712891,
            -95.712891,
            -95.712891,
            -95.712891,
            78.96288,
            113.921327,
            -95.712891,
            105.318756,
            -95.712891,
            -95.712891,
            -95.712891,
            -102.552784,
            -95.712891,
            105.318756,
            105.318756,
            113.921327,
            113.921327,
            -51.92528,
            -95.712891,
            -95.712891,
            78.96288,
            78.96288,
            113.921327,
            -95.712891,
            -102.552784,
            -95.712891,
            -51.92528,
            105.318756,
            113.921327,
            -95.712891,
            -102.552784,
            -95.712891,
            113.921327,
            105.318756,
            78.96288,
            -95.712891,
            121.774017,
            -95.712891,
            30.802498,
            78.96288,
            105.318756,
            -95.712891,
            10.451526,
            -95.712891,
            -3.74922,
            -51.92528,
            127.766922,
            78.96288,
            78.96288,
            -95.712891,
            -102.552784,
            -95.712891,
            78.96288,
            -102.552784,
            78.96288,
            78.96288,
            -95.712891,
            -95.712891,
            105.318756,
            -95.712891,
            -95.712891,
            78.96288,
            121.774017,
            -51.92528,
            -95.712891,
            -78.183406,
            -51.92528,
            53.847818,
            -74.297333,
            -95.712891,
            127.766922,
            -102.552784,
            78.96288,
            78.96288
           ],
           "marker": {
            "color": "#636efa",
            "size": [
             93247040539,
             90479060027,
             32144597566,
             50292540392,
             27568757295,
             5603111948,
             23884824160,
             21528116909,
             13102611515,
             24188861917,
             5994136760,
             9673649438,
             2303069221,
             4552581106,
             10336420490,
             4388047013,
             7466926260,
             6430853035,
             11081602368,
             7213499085,
             15510153803,
             14696994366,
             15751661213,
             2551113422,
             10115316784,
             20847038152,
             17507060680,
             27084848152,
             8663830163,
             5918314128,
             4469711607,
             5890180734,
             6269945014,
             12761253839,
             4526271677,
             11058049885,
             8658941531,
             7311322368,
             17913237851,
             5759442450,
             1577859332,
             4329121104,
             2855519150,
             8147575884,
             4051072188,
             1606834186,
             3213324455,
             7176572299,
             3841205465,
             11057945183,
             7912733203,
             3647267655,
             9544277833,
             5089284369,
             14784781923,
             2687443643,
             1845329502,
             4122634467,
             6165757696,
             8984089026,
             5469103954,
             4750420071,
             9938811455,
             857725714,
             1777072487,
             1760131384,
             3060202847,
             5324913850,
             9924103188,
             439098,
             8649303688,
             272678287,
             8866012877,
             3337074920,
             4622581344,
             5014888374,
             10303519926,
             4156427797,
             4776507159,
             4674164601,
             18917687143,
             13542939513,
             5019136690,
             4963275018,
             2139769210,
             10022557589,
             4306212515,
             6482687220,
             9088562002,
             9378175604,
             1758603195,
             1401914513,
             2555801802,
             4399833602,
             2879263916,
             2112274210,
             7520379951,
             1714955279,
             3152402405,
             3485373675,
             2862685032,
             7741764747,
             1674409945
            ],
            "sizemode": "area",
            "sizeref": 570000000,
            "symbol": "circle"
           },
           "mode": "markers",
           "name": "",
           "showlegend": false,
           "type": "scattergeo"
          }
         ],
         "name": "People & Blogs"
        },
        {
         "data": [
          {
           "geo": "geo",
           "hovertemplate": "category=Gaming<br>video views=%{marker.size}<br>Latitude=%{lat}<br>Longitude=%{lon}<extra></extra>",
           "lat": [
            36.204824,
            -35.675147,
            21.521757,
            13.794185,
            40.463667,
            37.09024,
            40.463667,
            37.09024,
            -14.235004,
            37.09024,
            29.31166,
            55.378051,
            56.130366,
            37.09024,
            37.09024,
            56.130366,
            55.378051,
            37.09024,
            37.09024,
            -35.675147,
            -25.274398,
            -0.789275,
            -14.235004,
            37.09024,
            37.09024,
            23.885942,
            61.52401,
            37.09024,
            46.227638,
            40.463667,
            15.870032,
            -35.675147,
            37.09024,
            37.09024,
            40.463667,
            37.09024,
            37.09024,
            37.09024,
            55.378051,
            55.378051,
            23.634501,
            -38.416097,
            37.09024,
            23.424076,
            37.09024,
            20.593684,
            40.463667,
            61.52401,
            55.378051,
            37.09024,
            37.09024,
            37.09024,
            -14.235004,
            -25.274398,
            37.09024,
            37.09024,
            20.593684,
            55.378051,
            23.634501,
            -14.235004,
            61.52401,
            -14.235004,
            52.132633,
            40.463667,
            -0.789275,
            56.130366,
            37.09024,
            37.09024,
            37.09024,
            23.885942,
            56.130366,
            61.92411,
            35.907757,
            -14.235004,
            55.378051,
            23.634501,
            37.09024,
            40.463667,
            40.463667,
            60.128161
           ],
           "legendgroup": "",
           "lon": [
            138.252924,
            -71.542969,
            -77.781167,
            -88.89653,
            -3.74922,
            -95.712891,
            -3.74922,
            -95.712891,
            -51.92528,
            -95.712891,
            47.481766,
            -3.435973,
            -106.346771,
            -95.712891,
            -95.712891,
            -106.346771,
            -3.435973,
            -95.712891,
            -95.712891,
            -71.542969,
            133.775136,
            113.921327,
            -51.92528,
            -95.712891,
            -95.712891,
            45.079162,
            105.318756,
            -95.712891,
            2.213749,
            -3.74922,
            100.992541,
            -71.542969,
            -95.712891,
            -95.712891,
            -3.74922,
            -95.712891,
            -95.712891,
            -95.712891,
            -3.435973,
            -3.435973,
            -102.552784,
            -63.616672,
            -95.712891,
            53.847818,
            -95.712891,
            78.96288,
            -3.74922,
            105.318756,
            -3.435973,
            -95.712891,
            -95.712891,
            -95.712891,
            -51.92528,
            133.775136,
            -95.712891,
            -95.712891,
            78.96288,
            -3.435973,
            -102.552784,
            -51.92528,
            105.318756,
            -51.92528,
            5.291266,
            -3.74922,
            113.921327,
            -106.346771,
            -95.712891,
            -95.712891,
            -95.712891,
            45.079162,
            -106.346771,
            25.748151,
            127.766922,
            -51.92528,
            -3.435973,
            -102.552784,
            -95.712891,
            -3.74922,
            -3.74922,
            18.643501
           ],
           "marker": {
            "color": "#636efa",
            "size": [
             29058044447,
             14631710289,
             22936630813,
             10323391593,
             16118181673,
             20297931219,
             15432929204,
             23492684419,
             13061739758,
             2930015381,
             4521573939,
             19417887510,
             15541421838,
             8279004442,
             2543809954,
             7451792132,
             14777034543,
             13835173331,
             24059336857,
             8409641722,
             8768697257,
             6098644584,
             8920141342,
             2851024430,
             3961318438,
             8761255550,
             3457618361,
             1556003039,
             9983065083,
             6404852037,
             9269174070,
             6306204566,
             16107116549,
             17763586483,
             5024088947,
             9111000228,
             7102965621,
             1656452554,
             4768370464,
             4076692623,
             3029872908,
             6534326412,
             9052367553,
             11513738907,
             1543608082,
             1640078055,
             4236036141,
             6668507856,
             4352427049,
             7159750970,
             4741434420,
             6889304306,
             5956193599,
             5269059435,
             3603556207,
             5766647017,
             2224121890,
             2084791147,
             3920559552,
             4959982720,
             7719743112,
             5673347763,
             2480957682,
             2122062016,
             1181292450,
             4301581610,
             4356686216,
             6050102764,
             7773543609,
             4129249415,
             6412313570,
             2036408398,
             8739174649,
             1081285962,
             3303595310,
             1402042328,
             2394143260,
             2840137980,
             6933660906,
             374123483
            ],
            "sizemode": "area",
            "sizeref": 570000000,
            "symbol": "circle"
           },
           "mode": "markers",
           "name": "",
           "showlegend": false,
           "type": "scattergeo"
          }
         ],
         "name": "Gaming"
        },
        {
         "data": [
          {
           "geo": "geo",
           "hovertemplate": "category=Sports<br>video views=%{marker.size}<br>Latitude=%{lat}<br>Longitude=%{lon}<extra></extra>",
           "lat": [
            37.09024,
            37.09024,
            37.09024,
            46.818188,
            -25.274398,
            37.09024,
            40.463667,
            55.378051,
            37.09024,
            40.463667,
            -14.235004
           ],
           "legendgroup": "",
           "lon": [
            -95.712891,
            -95.712891,
            -95.712891,
            8.227512,
            133.775136,
            -95.712891,
            -3.74922,
            -3.435973,
            -95.712891,
            -3.74922,
            -51.92528
           ],
           "marker": {
            "color": "#636efa",
            "size": [
             77428473662,
             16241549158,
             12624879732,
             5529131886,
             9601137077,
             7135820721,
             2656528205,
             3280481927,
             1948925559,
             2509752944,
             9029609749
            ],
            "sizemode": "area",
            "sizeref": 570000000,
            "symbol": "circle"
           },
           "mode": "markers",
           "name": "",
           "showlegend": false,
           "type": "scattergeo"
          }
         ],
         "name": "Sports"
        },
        {
         "data": [
          {
           "geo": "geo",
           "hovertemplate": "category=Howto & Style<br>video views=%{marker.size}<br>Latitude=%{lat}<br>Longitude=%{lon}<extra></extra>",
           "lat": [
            55.378051,
            23.634501,
            23.634501,
            -25.274398,
            37.09024,
            20.593684,
            37.09024,
            37.09024,
            37.09024,
            23.634501,
            -14.235004,
            35.86166,
            -25.274398,
            40.463667,
            37.09024,
            37.09024,
            26.820553,
            37.09024,
            48.379433,
            23.634501,
            -14.235004,
            37.09024,
            52.132633,
            60.128161,
            20.593684,
            20.593684,
            37.09024,
            37.09024,
            20.593684,
            37.09024,
            20.593684,
            37.09024,
            20.593684
           ],
           "legendgroup": "",
           "lon": [
            -3.435973,
            -102.552784,
            -102.552784,
            133.775136,
            -95.712891,
            78.96288,
            -95.712891,
            -95.712891,
            -95.712891,
            -102.552784,
            -51.92528,
            104.195397,
            133.775136,
            -3.74922,
            -95.712891,
            -95.712891,
            30.802498,
            -95.712891,
            31.16558,
            -102.552784,
            -51.92528,
            -95.712891,
            5.291266,
            18.643501,
            78.96288,
            78.96288,
            -95.712891,
            -95.712891,
            78.96288,
            -95.712891,
            78.96288,
            -95.712891,
            78.96288
           ],
           "marker": {
            "color": "#636efa",
            "size": [
             26236790209,
             6762424690,
             2588501115,
             2994726412,
             10414479943,
             5863377051,
             5783557209,
             5091618606,
             6119294270,
             7229175322,
             3980991248,
             2977741577,
             3684816159,
             3696973456,
             3955426159,
             2609358468,
             4499826716,
             2761547758,
             7018015062,
             2750902766,
             3551889957,
             4597228794,
             1778318927,
             2214167846,
             2939201386,
             3445794123,
             1900272833,
             2319515787,
             2831275503,
             4733873025,
             1002219689,
             2983799729,
             2315226648
            ],
            "sizemode": "area",
            "sizeref": 570000000,
            "symbol": "circle"
           },
           "mode": "markers",
           "name": "",
           "showlegend": false,
           "type": "scattergeo"
          }
         ],
         "name": "Howto & Style"
        },
        {
         "data": [
          {
           "geo": "geo",
           "hovertemplate": "category=other<br>video views=%{marker.size}<br>Latitude=%{lat}<br>Longitude=%{lon}<extra></extra>",
           "lat": [
            37.09024,
            37.09024,
            38.963745,
            37.09024,
            37.09024,
            37.09024,
            23.424076,
            37.09024,
            37.09024,
            37.09024,
            37.09024,
            23.424076,
            37.09024,
            20.593684,
            37.09024,
            35.907757,
            35.907757,
            12.879721,
            37.09024,
            60.128161,
            1.352083,
            37.09024,
            20.593684,
            37.09024,
            37.09024,
            37.09024,
            12.879721,
            37.09024,
            20.593684,
            -0.789275,
            37.09024,
            30.375321,
            20.593684,
            37.09024,
            37.09024,
            37.09024,
            37.09024,
            20.593684,
            55.378051
           ],
           "legendgroup": "",
           "lon": [
            -95.712891,
            -95.712891,
            35.243322,
            -95.712891,
            -95.712891,
            -95.712891,
            53.847818,
            -95.712891,
            -95.712891,
            -95.712891,
            -95.712891,
            53.847818,
            -95.712891,
            78.96288,
            -95.712891,
            127.766922,
            127.766922,
            121.774017,
            -95.712891,
            18.643501,
            103.819836,
            -95.712891,
            78.96288,
            -95.712891,
            -95.712891,
            -95.712891,
            121.774017,
            -95.712891,
            78.96288,
            113.921327,
            -95.712891,
            69.345116,
            78.96288,
            -95.712891,
            -95.712891,
            -95.712891,
            -95.712891,
            78.96288,
            -3.435973
           ],
           "marker": {
            "color": "#636efa",
            "size": [
             0,
             23510152352,
             19180039918,
             12355992466,
             17999961915,
             31977463002,
             15724160183,
             329774870,
             11041261296,
             10613701948,
             8594440895,
             8507818877,
             9789121606,
             264228052,
             7008250496,
             19206701832,
             7387621644,
             1318442641,
             7399296005,
             7155736006,
             6153495609,
             15788208522,
             1739129375,
             4821183481,
             6543282459,
             8451754769,
             896891351,
             4622628957,
             20563378,
             4205664894,
             2733682792,
             301547793,
             1159290255,
             5567832210,
             6001189018,
             161254021,
             4163639093,
             1971226335,
             2214684303
            ],
            "sizemode": "area",
            "sizeref": 570000000,
            "symbol": "circle"
           },
           "mode": "markers",
           "name": "",
           "showlegend": false,
           "type": "scattergeo"
          }
         ],
         "name": "other"
        },
        {
         "data": [
          {
           "geo": "geo",
           "hovertemplate": "category=News & Politics<br>video views=%{marker.size}<br>Latitude=%{lat}<br>Longitude=%{lon}<extra></extra>",
           "lat": [
            20.593684,
            20.593684,
            20.593684,
            12.879721,
            20.593684,
            23.634501,
            37.09024,
            20.593684,
            37.09024,
            48.379433,
            20.593684,
            20.593684,
            20.593684,
            15.870032,
            20.593684,
            37.09024,
            20.593684,
            12.879721,
            20.593684,
            -0.789275,
            37.09024,
            55.378051,
            23.684994,
            30.375321,
            12.879721
           ],
           "legendgroup": "",
           "lon": [
            78.96288,
            78.96288,
            78.96288,
            121.774017,
            78.96288,
            -102.552784,
            -95.712891,
            78.96288,
            -95.712891,
            31.16558,
            78.96288,
            78.96288,
            78.96288,
            100.992541,
            78.96288,
            -95.712891,
            78.96288,
            121.774017,
            78.96288,
            113.921327,
            -95.712891,
            -3.435973,
            90.356331,
            69.345116,
            121.774017
           ],
           "marker": {
            "color": "#636efa",
            "size": [
             25307753534,
             16105023749,
             16709857823,
             15065753455,
             10409352249,
             15013096899,
             12293479945,
             2255542592,
             10463166404,
             8396875537,
             7263619576,
             7435180827,
             7043235131,
             14563841315,
             3392918989,
             14198154095,
             6624168155,
             10489367372,
             7536093065,
             11827310821,
             12961669452,
             4598387043,
             12129583055,
             5727888539,
             9569814790
            ],
            "sizemode": "area",
            "sizeref": 570000000,
            "symbol": "circle"
           },
           "mode": "markers",
           "name": "",
           "showlegend": false,
           "type": "scattergeo"
          }
         ],
         "name": "News & Politics"
        },
        {
         "data": [
          {
           "geo": "geo",
           "hovertemplate": "category=Comedy<br>video views=%{marker.size}<br>Latitude=%{lat}<br>Longitude=%{lon}<extra></extra>",
           "lat": [
            -14.235004,
            23.634501,
            20.593684,
            20.593684,
            20.593684,
            37.09024,
            20.593684,
            37.09024,
            20.593684,
            -14.235004,
            40.463667,
            37.09024,
            4.570868,
            37.09024,
            37.09024,
            37.09024,
            -38.416097,
            -14.235004,
            20.593684,
            37.09024,
            51.165691,
            -14.235004,
            -38.416097,
            23.424076,
            56.879635,
            37.09024,
            37.09024,
            37.09024,
            20.593684,
            40.463667,
            37.09024,
            23.634501,
            61.52401,
            37.09024,
            20.593684,
            20.593684,
            37.09024,
            15.870032,
            -14.235004,
            20.593684,
            20.593684,
            -38.416097,
            36.204824,
            37.09024,
            37.09024,
            20.593684,
            56.130366,
            46.227638,
            37.09024,
            37.09024,
            20.593684,
            -14.235004,
            20.593684,
            14.058324,
            55.378051,
            15.870032,
            37.09024,
            -14.235004,
            37.09024,
            33.223191,
            37.09024,
            23.634501,
            20.593684,
            37.09024,
            -14.235004,
            37.09024,
            20.593684
           ],
           "legendgroup": "",
           "lon": [
            -51.92528,
            -102.552784,
            78.96288,
            78.96288,
            78.96288,
            -95.712891,
            78.96288,
            -95.712891,
            78.96288,
            -51.92528,
            -3.74922,
            -95.712891,
            -74.297333,
            -95.712891,
            -95.712891,
            -95.712891,
            -63.616672,
            -51.92528,
            78.96288,
            -95.712891,
            10.451526,
            -51.92528,
            -63.616672,
            53.847818,
            24.603189,
            -95.712891,
            -95.712891,
            -95.712891,
            78.96288,
            -3.74922,
            -95.712891,
            -102.552784,
            105.318756,
            -95.712891,
            78.96288,
            78.96288,
            -95.712891,
            100.992541,
            -51.92528,
            78.96288,
            78.96288,
            -63.616672,
            138.252924,
            -95.712891,
            -95.712891,
            78.96288,
            -106.346771,
            2.213749,
            -95.712891,
            -95.712891,
            78.96288,
            -51.92528,
            78.96288,
            108.277199,
            -3.435973,
            100.992541,
            -95.712891,
            -51.92528,
            -95.712891,
            43.679291,
            -95.712891,
            -102.552784,
            78.96288,
            -95.712891,
            -51.92528,
            -95.712891,
            78.96288
           ],
           "marker": {
            "color": "#636efa",
            "size": [
             4274709210,
             8670473639,
             3294013141,
             16402066717,
             11405809704,
             17111726160,
             3145161634,
             15199330166,
             4457913639,
             11627437847,
             4079141673,
             6570935979,
             10317306313,
             27006526665,
             10435474336,
             34300482066,
             10999000479,
             13943030228,
             9223534599,
             15552070846,
             1573058816,
             1870608170,
             7657171980,
             2764127969,
             20919403720,
             19694265358,
             1803249241,
             4566120190,
             3276891538,
             7038827526,
             5244917119,
             2274007523,
             4448334716,
             2173106162,
             1001465469,
             9270331567,
             3037260680,
             4434679706,
             2990185467,
             1781226000,
             4503880875,
             9477021288,
             13562853889,
             6751985988,
             7255848125,
             5525773746,
             3517662420,
             3086254545,
             3900312631,
             6388439235,
             10238593147,
             1967930734,
             9596430464,
             5457203710,
             11717217293,
             3363634923,
             7406628736,
             1024467771,
             4637474071,
             5863456698,
             9502983550,
             4266957149,
             4465772496,
             7597013023,
             2602614088,
             16086808918,
             2129773714
            ],
            "sizemode": "area",
            "sizeref": 570000000,
            "symbol": "circle"
           },
           "mode": "markers",
           "name": "",
           "showlegend": false,
           "type": "scattergeo"
          }
         ],
         "name": "Comedy"
        },
        {
         "data": [
          {
           "geo": "geo",
           "hovertemplate": "category=Trailers<br>video views=%{marker.size}<br>Latitude=%{lat}<br>Longitude=%{lon}<extra></extra>",
           "lat": [
            20.593684,
            20.593684
           ],
           "legendgroup": "",
           "lon": [
            78.96288,
            78.96288
           ],
           "marker": {
            "color": "#636efa",
            "size": [
             17608931161,
             15653786446
            ],
            "sizemode": "area",
            "sizeref": 570000000,
            "symbol": "circle"
           },
           "mode": "markers",
           "name": "",
           "showlegend": false,
           "type": "scattergeo"
          }
         ],
         "name": "Trailers"
        },
        {
         "data": [
          {
           "geo": "geo",
           "hovertemplate": "category=Nonprofits & Activism<br>video views=%{marker.size}<br>Latitude=%{lat}<br>Longitude=%{lon}<extra></extra>",
           "lat": [
            37.09024,
            -14.235004
           ],
           "legendgroup": "",
           "lon": [
            -95.712891,
            -51.92528
           ],
           "marker": {
            "color": "#636efa",
            "size": [
             7339333120,
             3523578665
            ],
            "sizemode": "area",
            "sizeref": 570000000,
            "symbol": "circle"
           },
           "mode": "markers",
           "name": "",
           "showlegend": false,
           "type": "scattergeo"
          }
         ],
         "name": "Nonprofits & Activism"
        },
        {
         "data": [
          {
           "geo": "geo",
           "hovertemplate": "category=Science & Technology<br>video views=%{marker.size}<br>Latitude=%{lat}<br>Longitude=%{lon}<extra></extra>",
           "lat": [
            20.593684,
            37.09024,
            37.09024,
            20.593684,
            37.09024,
            51.165691,
            37.09024,
            37.09024,
            56.130366,
            37.09024,
            55.378051,
            56.130366,
            20.593684,
            20.593684,
            30.375321
           ],
           "legendgroup": "",
           "lon": [
            78.96288,
            -95.712891,
            -95.712891,
            78.96288,
            -95.712891,
            10.451526,
            -95.712891,
            -95.712891,
            -106.346771,
            -95.712891,
            -3.435973,
            -106.346771,
            78.96288,
            78.96288,
            69.345116
           ],
           "marker": {
            "color": "#636efa",
            "size": [
             5711208484,
             3647987299,
             2634,
             3378047383,
             5614621131,
             3234880084,
             1026425106,
             3606912471,
             7172386509,
             12880388253,
             3736069980,
             1820559912,
             2262690743,
             1138262456,
             4340213066
            ],
            "sizemode": "area",
            "sizeref": 570000000,
            "symbol": "circle"
           },
           "mode": "markers",
           "name": "",
           "showlegend": false,
           "type": "scattergeo"
          }
         ],
         "name": "Science & Technology"
        },
        {
         "data": [
          {
           "geo": "geo",
           "hovertemplate": "category=Movies<br>video views=%{marker.size}<br>Latitude=%{lat}<br>Longitude=%{lon}<extra></extra>",
           "lat": [
            20.593684,
            20.593684
           ],
           "legendgroup": "",
           "lon": [
            78.96288,
            78.96288
           ],
           "marker": {
            "color": "#636efa",
            "size": [
             10062770060,
             5320485069
            ],
            "sizemode": "area",
            "sizeref": 570000000,
            "symbol": "circle"
           },
           "mode": "markers",
           "name": "",
           "showlegend": false,
           "type": "scattergeo"
          }
         ],
         "name": "Movies"
        },
        {
         "data": [
          {
           "geo": "geo",
           "hovertemplate": "category=Pets & Animals<br>video views=%{marker.size}<br>Latitude=%{lat}<br>Longitude=%{lon}<extra></extra>",
           "lat": [
            37.09024,
            37.09024,
            55.378051
           ],
           "legendgroup": "",
           "lon": [
            -95.712891,
            -95.712891,
            -3.435973
           ],
           "marker": {
            "color": "#636efa",
            "size": [
             20289689389,
             4927879069,
             9685060624
            ],
            "sizemode": "area",
            "sizeref": 570000000,
            "symbol": "circle"
           },
           "mode": "markers",
           "name": "",
           "showlegend": false,
           "type": "scattergeo"
          }
         ],
         "name": "Pets & Animals"
        },
        {
         "data": [
          {
           "geo": "geo",
           "hovertemplate": "category=Autos & Vehicles<br>video views=%{marker.size}<br>Latitude=%{lat}<br>Longitude=%{lon}<extra></extra>",
           "lat": [
            -14.235004,
            23.424076
           ],
           "legendgroup": "",
           "lon": [
            -51.92528,
            53.847818
           ],
           "marker": {
            "color": "#636efa",
            "size": [
             9597894786,
             5405563355
            ],
            "sizemode": "area",
            "sizeref": 570000000,
            "symbol": "circle"
           },
           "mode": "markers",
           "name": "",
           "showlegend": false,
           "type": "scattergeo"
          }
         ],
         "name": "Autos & Vehicles"
        },
        {
         "data": [
          {
           "geo": "geo",
           "hovertemplate": "category=Travel & Events<br>video views=%{marker.size}<br>Latitude=%{lat}<br>Longitude=%{lon}<extra></extra>",
           "lat": [
            23.634501
           ],
           "legendgroup": "",
           "lon": [
            -102.552784
           ],
           "marker": {
            "color": "#636efa",
            "size": [
             3140883140
            ],
            "sizemode": "area",
            "sizeref": 570000000,
            "symbol": "circle"
           },
           "mode": "markers",
           "name": "",
           "showlegend": false,
           "type": "scattergeo"
          }
         ],
         "name": "Travel & Events"
        }
       ],
       "layout": {
        "geo": {
         "center": {},
         "domain": {
          "x": [
           0,
           1
          ],
          "y": [
           0,
           1
          ]
         },
         "projection": {
          "type": "natural earth"
         }
        },
        "height": 500,
        "legend": {
         "itemsizing": "constant",
         "tracegroupgap": 0
        },
        "sliders": [
         {
          "active": 0,
          "currentvalue": {
           "prefix": "category="
          },
          "len": 0.9,
          "pad": {
           "b": 10,
           "t": 60
          },
          "steps": [
           {
            "args": [
             [
              "Music"
             ],
             {
              "frame": {
               "duration": 0,
               "redraw": true
              },
              "fromcurrent": true,
              "mode": "immediate",
              "transition": {
               "duration": 0,
               "easing": "linear"
              }
             }
            ],
            "label": "Music",
            "method": "animate"
           },
           {
            "args": [
             [
              "Film & Animation"
             ],
             {
              "frame": {
               "duration": 0,
               "redraw": true
              },
              "fromcurrent": true,
              "mode": "immediate",
              "transition": {
               "duration": 0,
               "easing": "linear"
              }
             }
            ],
            "label": "Film & Animation",
            "method": "animate"
           },
           {
            "args": [
             [
              "Entertainment"
             ],
             {
              "frame": {
               "duration": 0,
               "redraw": true
              },
              "fromcurrent": true,
              "mode": "immediate",
              "transition": {
               "duration": 0,
               "easing": "linear"
              }
             }
            ],
            "label": "Entertainment",
            "method": "animate"
           },
           {
            "args": [
             [
              "Education"
             ],
             {
              "frame": {
               "duration": 0,
               "redraw": true
              },
              "fromcurrent": true,
              "mode": "immediate",
              "transition": {
               "duration": 0,
               "easing": "linear"
              }
             }
            ],
            "label": "Education",
            "method": "animate"
           },
           {
            "args": [
             [
              "Shows"
             ],
             {
              "frame": {
               "duration": 0,
               "redraw": true
              },
              "fromcurrent": true,
              "mode": "immediate",
              "transition": {
               "duration": 0,
               "easing": "linear"
              }
             }
            ],
            "label": "Shows",
            "method": "animate"
           },
           {
            "args": [
             [
              "People & Blogs"
             ],
             {
              "frame": {
               "duration": 0,
               "redraw": true
              },
              "fromcurrent": true,
              "mode": "immediate",
              "transition": {
               "duration": 0,
               "easing": "linear"
              }
             }
            ],
            "label": "People & Blogs",
            "method": "animate"
           },
           {
            "args": [
             [
              "Gaming"
             ],
             {
              "frame": {
               "duration": 0,
               "redraw": true
              },
              "fromcurrent": true,
              "mode": "immediate",
              "transition": {
               "duration": 0,
               "easing": "linear"
              }
             }
            ],
            "label": "Gaming",
            "method": "animate"
           },
           {
            "args": [
             [
              "Sports"
             ],
             {
              "frame": {
               "duration": 0,
               "redraw": true
              },
              "fromcurrent": true,
              "mode": "immediate",
              "transition": {
               "duration": 0,
               "easing": "linear"
              }
             }
            ],
            "label": "Sports",
            "method": "animate"
           },
           {
            "args": [
             [
              "Howto & Style"
             ],
             {
              "frame": {
               "duration": 0,
               "redraw": true
              },
              "fromcurrent": true,
              "mode": "immediate",
              "transition": {
               "duration": 0,
               "easing": "linear"
              }
             }
            ],
            "label": "Howto & Style",
            "method": "animate"
           },
           {
            "args": [
             [
              "other"
             ],
             {
              "frame": {
               "duration": 0,
               "redraw": true
              },
              "fromcurrent": true,
              "mode": "immediate",
              "transition": {
               "duration": 0,
               "easing": "linear"
              }
             }
            ],
            "label": "other",
            "method": "animate"
           },
           {
            "args": [
             [
              "News & Politics"
             ],
             {
              "frame": {
               "duration": 0,
               "redraw": true
              },
              "fromcurrent": true,
              "mode": "immediate",
              "transition": {
               "duration": 0,
               "easing": "linear"
              }
             }
            ],
            "label": "News & Politics",
            "method": "animate"
           },
           {
            "args": [
             [
              "Comedy"
             ],
             {
              "frame": {
               "duration": 0,
               "redraw": true
              },
              "fromcurrent": true,
              "mode": "immediate",
              "transition": {
               "duration": 0,
               "easing": "linear"
              }
             }
            ],
            "label": "Comedy",
            "method": "animate"
           },
           {
            "args": [
             [
              "Trailers"
             ],
             {
              "frame": {
               "duration": 0,
               "redraw": true
              },
              "fromcurrent": true,
              "mode": "immediate",
              "transition": {
               "duration": 0,
               "easing": "linear"
              }
             }
            ],
            "label": "Trailers",
            "method": "animate"
           },
           {
            "args": [
             [
              "Nonprofits & Activism"
             ],
             {
              "frame": {
               "duration": 0,
               "redraw": true
              },
              "fromcurrent": true,
              "mode": "immediate",
              "transition": {
               "duration": 0,
               "easing": "linear"
              }
             }
            ],
            "label": "Nonprofits & Activism",
            "method": "animate"
           },
           {
            "args": [
             [
              "Science & Technology"
             ],
             {
              "frame": {
               "duration": 0,
               "redraw": true
              },
              "fromcurrent": true,
              "mode": "immediate",
              "transition": {
               "duration": 0,
               "easing": "linear"
              }
             }
            ],
            "label": "Science & Technology",
            "method": "animate"
           },
           {
            "args": [
             [
              "Movies"
             ],
             {
              "frame": {
               "duration": 0,
               "redraw": true
              },
              "fromcurrent": true,
              "mode": "immediate",
              "transition": {
               "duration": 0,
               "easing": "linear"
              }
             }
            ],
            "label": "Movies",
            "method": "animate"
           },
           {
            "args": [
             [
              "Pets & Animals"
             ],
             {
              "frame": {
               "duration": 0,
               "redraw": true
              },
              "fromcurrent": true,
              "mode": "immediate",
              "transition": {
               "duration": 0,
               "easing": "linear"
              }
             }
            ],
            "label": "Pets & Animals",
            "method": "animate"
           },
           {
            "args": [
             [
              "Autos & Vehicles"
             ],
             {
              "frame": {
               "duration": 0,
               "redraw": true
              },
              "fromcurrent": true,
              "mode": "immediate",
              "transition": {
               "duration": 0,
               "easing": "linear"
              }
             }
            ],
            "label": "Autos & Vehicles",
            "method": "animate"
           },
           {
            "args": [
             [
              "Travel & Events"
             ],
             {
              "frame": {
               "duration": 0,
               "redraw": true
              },
              "fromcurrent": true,
              "mode": "immediate",
              "transition": {
               "duration": 0,
               "easing": "linear"
              }
             }
            ],
            "label": "Travel & Events",
            "method": "animate"
           }
          ],
          "x": 0.1,
          "xanchor": "left",
          "y": 0,
          "yanchor": "top"
         }
        ],
        "template": {
         "data": {
          "bar": [
           {
            "error_x": {
             "color": "#2a3f5f"
            },
            "error_y": {
             "color": "#2a3f5f"
            },
            "marker": {
             "line": {
              "color": "#E5ECF6",
              "width": 0.5
             },
             "pattern": {
              "fillmode": "overlay",
              "size": 10,
              "solidity": 0.2
             }
            },
            "type": "bar"
           }
          ],
          "barpolar": [
           {
            "marker": {
             "line": {
              "color": "#E5ECF6",
              "width": 0.5
             },
             "pattern": {
              "fillmode": "overlay",
              "size": 10,
              "solidity": 0.2
             }
            },
            "type": "barpolar"
           }
          ],
          "carpet": [
           {
            "aaxis": {
             "endlinecolor": "#2a3f5f",
             "gridcolor": "white",
             "linecolor": "white",
             "minorgridcolor": "white",
             "startlinecolor": "#2a3f5f"
            },
            "baxis": {
             "endlinecolor": "#2a3f5f",
             "gridcolor": "white",
             "linecolor": "white",
             "minorgridcolor": "white",
             "startlinecolor": "#2a3f5f"
            },
            "type": "carpet"
           }
          ],
          "choropleth": [
           {
            "colorbar": {
             "outlinewidth": 0,
             "ticks": ""
            },
            "type": "choropleth"
           }
          ],
          "contour": [
           {
            "colorbar": {
             "outlinewidth": 0,
             "ticks": ""
            },
            "colorscale": [
             [
              0,
              "#0d0887"
             ],
             [
              0.1111111111111111,
              "#46039f"
             ],
             [
              0.2222222222222222,
              "#7201a8"
             ],
             [
              0.3333333333333333,
              "#9c179e"
             ],
             [
              0.4444444444444444,
              "#bd3786"
             ],
             [
              0.5555555555555556,
              "#d8576b"
             ],
             [
              0.6666666666666666,
              "#ed7953"
             ],
             [
              0.7777777777777778,
              "#fb9f3a"
             ],
             [
              0.8888888888888888,
              "#fdca26"
             ],
             [
              1,
              "#f0f921"
             ]
            ],
            "type": "contour"
           }
          ],
          "contourcarpet": [
           {
            "colorbar": {
             "outlinewidth": 0,
             "ticks": ""
            },
            "type": "contourcarpet"
           }
          ],
          "heatmap": [
           {
            "colorbar": {
             "outlinewidth": 0,
             "ticks": ""
            },
            "colorscale": [
             [
              0,
              "#0d0887"
             ],
             [
              0.1111111111111111,
              "#46039f"
             ],
             [
              0.2222222222222222,
              "#7201a8"
             ],
             [
              0.3333333333333333,
              "#9c179e"
             ],
             [
              0.4444444444444444,
              "#bd3786"
             ],
             [
              0.5555555555555556,
              "#d8576b"
             ],
             [
              0.6666666666666666,
              "#ed7953"
             ],
             [
              0.7777777777777778,
              "#fb9f3a"
             ],
             [
              0.8888888888888888,
              "#fdca26"
             ],
             [
              1,
              "#f0f921"
             ]
            ],
            "type": "heatmap"
           }
          ],
          "heatmapgl": [
           {
            "colorbar": {
             "outlinewidth": 0,
             "ticks": ""
            },
            "colorscale": [
             [
              0,
              "#0d0887"
             ],
             [
              0.1111111111111111,
              "#46039f"
             ],
             [
              0.2222222222222222,
              "#7201a8"
             ],
             [
              0.3333333333333333,
              "#9c179e"
             ],
             [
              0.4444444444444444,
              "#bd3786"
             ],
             [
              0.5555555555555556,
              "#d8576b"
             ],
             [
              0.6666666666666666,
              "#ed7953"
             ],
             [
              0.7777777777777778,
              "#fb9f3a"
             ],
             [
              0.8888888888888888,
              "#fdca26"
             ],
             [
              1,
              "#f0f921"
             ]
            ],
            "type": "heatmapgl"
           }
          ],
          "histogram": [
           {
            "marker": {
             "pattern": {
              "fillmode": "overlay",
              "size": 10,
              "solidity": 0.2
             }
            },
            "type": "histogram"
           }
          ],
          "histogram2d": [
           {
            "colorbar": {
             "outlinewidth": 0,
             "ticks": ""
            },
            "colorscale": [
             [
              0,
              "#0d0887"
             ],
             [
              0.1111111111111111,
              "#46039f"
             ],
             [
              0.2222222222222222,
              "#7201a8"
             ],
             [
              0.3333333333333333,
              "#9c179e"
             ],
             [
              0.4444444444444444,
              "#bd3786"
             ],
             [
              0.5555555555555556,
              "#d8576b"
             ],
             [
              0.6666666666666666,
              "#ed7953"
             ],
             [
              0.7777777777777778,
              "#fb9f3a"
             ],
             [
              0.8888888888888888,
              "#fdca26"
             ],
             [
              1,
              "#f0f921"
             ]
            ],
            "type": "histogram2d"
           }
          ],
          "histogram2dcontour": [
           {
            "colorbar": {
             "outlinewidth": 0,
             "ticks": ""
            },
            "colorscale": [
             [
              0,
              "#0d0887"
             ],
             [
              0.1111111111111111,
              "#46039f"
             ],
             [
              0.2222222222222222,
              "#7201a8"
             ],
             [
              0.3333333333333333,
              "#9c179e"
             ],
             [
              0.4444444444444444,
              "#bd3786"
             ],
             [
              0.5555555555555556,
              "#d8576b"
             ],
             [
              0.6666666666666666,
              "#ed7953"
             ],
             [
              0.7777777777777778,
              "#fb9f3a"
             ],
             [
              0.8888888888888888,
              "#fdca26"
             ],
             [
              1,
              "#f0f921"
             ]
            ],
            "type": "histogram2dcontour"
           }
          ],
          "mesh3d": [
           {
            "colorbar": {
             "outlinewidth": 0,
             "ticks": ""
            },
            "type": "mesh3d"
           }
          ],
          "parcoords": [
           {
            "line": {
             "colorbar": {
              "outlinewidth": 0,
              "ticks": ""
             }
            },
            "type": "parcoords"
           }
          ],
          "pie": [
           {
            "automargin": true,
            "type": "pie"
           }
          ],
          "scatter": [
           {
            "fillpattern": {
             "fillmode": "overlay",
             "size": 10,
             "solidity": 0.2
            },
            "type": "scatter"
           }
          ],
          "scatter3d": [
           {
            "line": {
             "colorbar": {
              "outlinewidth": 0,
              "ticks": ""
             }
            },
            "marker": {
             "colorbar": {
              "outlinewidth": 0,
              "ticks": ""
             }
            },
            "type": "scatter3d"
           }
          ],
          "scattercarpet": [
           {
            "marker": {
             "colorbar": {
              "outlinewidth": 0,
              "ticks": ""
             }
            },
            "type": "scattercarpet"
           }
          ],
          "scattergeo": [
           {
            "marker": {
             "colorbar": {
              "outlinewidth": 0,
              "ticks": ""
             }
            },
            "type": "scattergeo"
           }
          ],
          "scattergl": [
           {
            "marker": {
             "colorbar": {
              "outlinewidth": 0,
              "ticks": ""
             }
            },
            "type": "scattergl"
           }
          ],
          "scattermapbox": [
           {
            "marker": {
             "colorbar": {
              "outlinewidth": 0,
              "ticks": ""
             }
            },
            "type": "scattermapbox"
           }
          ],
          "scatterpolar": [
           {
            "marker": {
             "colorbar": {
              "outlinewidth": 0,
              "ticks": ""
             }
            },
            "type": "scatterpolar"
           }
          ],
          "scatterpolargl": [
           {
            "marker": {
             "colorbar": {
              "outlinewidth": 0,
              "ticks": ""
             }
            },
            "type": "scatterpolargl"
           }
          ],
          "scatterternary": [
           {
            "marker": {
             "colorbar": {
              "outlinewidth": 0,
              "ticks": ""
             }
            },
            "type": "scatterternary"
           }
          ],
          "surface": [
           {
            "colorbar": {
             "outlinewidth": 0,
             "ticks": ""
            },
            "colorscale": [
             [
              0,
              "#0d0887"
             ],
             [
              0.1111111111111111,
              "#46039f"
             ],
             [
              0.2222222222222222,
              "#7201a8"
             ],
             [
              0.3333333333333333,
              "#9c179e"
             ],
             [
              0.4444444444444444,
              "#bd3786"
             ],
             [
              0.5555555555555556,
              "#d8576b"
             ],
             [
              0.6666666666666666,
              "#ed7953"
             ],
             [
              0.7777777777777778,
              "#fb9f3a"
             ],
             [
              0.8888888888888888,
              "#fdca26"
             ],
             [
              1,
              "#f0f921"
             ]
            ],
            "type": "surface"
           }
          ],
          "table": [
           {
            "cells": {
             "fill": {
              "color": "#EBF0F8"
             },
             "line": {
              "color": "white"
             }
            },
            "header": {
             "fill": {
              "color": "#C8D4E3"
             },
             "line": {
              "color": "white"
             }
            },
            "type": "table"
           }
          ]
         },
         "layout": {
          "annotationdefaults": {
           "arrowcolor": "#2a3f5f",
           "arrowhead": 0,
           "arrowwidth": 1
          },
          "autotypenumbers": "strict",
          "coloraxis": {
           "colorbar": {
            "outlinewidth": 0,
            "ticks": ""
           }
          },
          "colorscale": {
           "diverging": [
            [
             0,
             "#8e0152"
            ],
            [
             0.1,
             "#c51b7d"
            ],
            [
             0.2,
             "#de77ae"
            ],
            [
             0.3,
             "#f1b6da"
            ],
            [
             0.4,
             "#fde0ef"
            ],
            [
             0.5,
             "#f7f7f7"
            ],
            [
             0.6,
             "#e6f5d0"
            ],
            [
             0.7,
             "#b8e186"
            ],
            [
             0.8,
             "#7fbc41"
            ],
            [
             0.9,
             "#4d9221"
            ],
            [
             1,
             "#276419"
            ]
           ],
           "sequential": [
            [
             0,
             "#0d0887"
            ],
            [
             0.1111111111111111,
             "#46039f"
            ],
            [
             0.2222222222222222,
             "#7201a8"
            ],
            [
             0.3333333333333333,
             "#9c179e"
            ],
            [
             0.4444444444444444,
             "#bd3786"
            ],
            [
             0.5555555555555556,
             "#d8576b"
            ],
            [
             0.6666666666666666,
             "#ed7953"
            ],
            [
             0.7777777777777778,
             "#fb9f3a"
            ],
            [
             0.8888888888888888,
             "#fdca26"
            ],
            [
             1,
             "#f0f921"
            ]
           ],
           "sequentialminus": [
            [
             0,
             "#0d0887"
            ],
            [
             0.1111111111111111,
             "#46039f"
            ],
            [
             0.2222222222222222,
             "#7201a8"
            ],
            [
             0.3333333333333333,
             "#9c179e"
            ],
            [
             0.4444444444444444,
             "#bd3786"
            ],
            [
             0.5555555555555556,
             "#d8576b"
            ],
            [
             0.6666666666666666,
             "#ed7953"
            ],
            [
             0.7777777777777778,
             "#fb9f3a"
            ],
            [
             0.8888888888888888,
             "#fdca26"
            ],
            [
             1,
             "#f0f921"
            ]
           ]
          },
          "colorway": [
           "#636efa",
           "#EF553B",
           "#00cc96",
           "#ab63fa",
           "#FFA15A",
           "#19d3f3",
           "#FF6692",
           "#B6E880",
           "#FF97FF",
           "#FECB52"
          ],
          "font": {
           "color": "#2a3f5f"
          },
          "geo": {
           "bgcolor": "white",
           "lakecolor": "white",
           "landcolor": "#E5ECF6",
           "showlakes": true,
           "showland": true,
           "subunitcolor": "white"
          },
          "hoverlabel": {
           "align": "left"
          },
          "hovermode": "closest",
          "mapbox": {
           "style": "light"
          },
          "paper_bgcolor": "white",
          "plot_bgcolor": "#E5ECF6",
          "polar": {
           "angularaxis": {
            "gridcolor": "white",
            "linecolor": "white",
            "ticks": ""
           },
           "bgcolor": "#E5ECF6",
           "radialaxis": {
            "gridcolor": "white",
            "linecolor": "white",
            "ticks": ""
           }
          },
          "scene": {
           "xaxis": {
            "backgroundcolor": "#E5ECF6",
            "gridcolor": "white",
            "gridwidth": 2,
            "linecolor": "white",
            "showbackground": true,
            "ticks": "",
            "zerolinecolor": "white"
           },
           "yaxis": {
            "backgroundcolor": "#E5ECF6",
            "gridcolor": "white",
            "gridwidth": 2,
            "linecolor": "white",
            "showbackground": true,
            "ticks": "",
            "zerolinecolor": "white"
           },
           "zaxis": {
            "backgroundcolor": "#E5ECF6",
            "gridcolor": "white",
            "gridwidth": 2,
            "linecolor": "white",
            "showbackground": true,
            "ticks": "",
            "zerolinecolor": "white"
           }
          },
          "shapedefaults": {
           "line": {
            "color": "#2a3f5f"
           }
          },
          "ternary": {
           "aaxis": {
            "gridcolor": "white",
            "linecolor": "white",
            "ticks": ""
           },
           "baxis": {
            "gridcolor": "white",
            "linecolor": "white",
            "ticks": ""
           },
           "bgcolor": "#E5ECF6",
           "caxis": {
            "gridcolor": "white",
            "linecolor": "white",
            "ticks": ""
           }
          },
          "title": {
           "x": 0.05
          },
          "xaxis": {
           "automargin": true,
           "gridcolor": "white",
           "linecolor": "white",
           "ticks": "",
           "title": {
            "standoff": 15
           },
           "zerolinecolor": "white",
           "zerolinewidth": 2
          },
          "yaxis": {
           "automargin": true,
           "gridcolor": "white",
           "linecolor": "white",
           "ticks": "",
           "title": {
            "standoff": 15
           },
           "zerolinecolor": "white",
           "zerolinewidth": 2
          }
         }
        },
        "title": {
         "text": "Geographic Distribution of Viewers"
        },
        "updatemenus": [
         {
          "buttons": [
           {
            "args": [
             null,
             {
              "frame": {
               "duration": 500,
               "redraw": true
              },
              "fromcurrent": true,
              "mode": "immediate",
              "transition": {
               "duration": 500,
               "easing": "linear"
              }
             }
            ],
            "label": "&#9654;",
            "method": "animate"
           },
           {
            "args": [
             [
              null
             ],
             {
              "frame": {
               "duration": 0,
               "redraw": true
              },
              "fromcurrent": true,
              "mode": "immediate",
              "transition": {
               "duration": 0,
               "easing": "linear"
              }
             }
            ],
            "label": "&#9724;",
            "method": "animate"
           }
          ],
          "direction": "left",
          "pad": {
           "r": 10,
           "t": 70
          },
          "showactive": false,
          "type": "buttons",
          "x": 0.1,
          "xanchor": "right",
          "y": 0,
          "yanchor": "top"
         }
        ],
        "width": 1000
       }
      },
      "text/html": [
       "<div>                            <div id=\"deb8da5c-3ee0-46b7-9075-f1038b4734dc\" class=\"plotly-graph-div\" style=\"height:500px; width:1000px;\"></div>            <script type=\"text/javascript\">                require([\"plotly\"], function(Plotly) {                    window.PLOTLYENV=window.PLOTLYENV || {};                                    if (document.getElementById(\"deb8da5c-3ee0-46b7-9075-f1038b4734dc\")) {                    Plotly.newPlot(                        \"deb8da5c-3ee0-46b7-9075-f1038b4734dc\",                        [{\"geo\":\"geo\",\"hovertemplate\":\"category=Music<br>video views=%{marker.size}<br>Latitude=%{lat}<br>Longitude=%{lon}<extra></extra>\",\"lat\":[20.593684,20.593684,35.907757,56.130366,35.907757,-14.235004,20.593684,20.593684,20.593684,-38.416097,20.593684,20.593684,37.09024,55.378051,37.09024,37.09024,37.09024,37.09024,37.09024,15.870032,20.593684,37.09024,-14.235004,20.593684,37.09024,37.09024,37.09024,37.09024,-38.416097,20.593684,20.593684,4.570868,20.593684,55.378051,37.09024,56.130366,4.570868,20.593684,37.09024,37.09024,37.09024,55.378051,52.132633,56.130366,37.09024,-38.416097,37.09024,-25.274398,4.570868,37.09024,35.907757,37.09024,37.09024,-0.789275,37.09024,37.09024,37.09024,37.09024,55.378051,37.09024,56.130366,4.570868,37.09024,37.09024,35.907757,38.963745,37.09024,37.09024,20.593684,15.870032,20.593684,30.585164,37.09024,37.09024,-38.416097,37.09024,55.378051,55.378051,20.593684,37.09024,37.09024,60.128161,33.93911,20.593684,37.09024,37.09024,37.09024,56.130366,-14.235004,55.378051,37.09024,15.870032,-14.235004,15.870032,37.09024,35.907757,37.09024,37.09024,37.09024,37.09024,35.907757,33.223191,-14.235004,55.378051,37.09024,20.593684,37.09024,20.593684,37.09024,37.09024,55.378051,55.378051,37.09024,37.09024,14.058324,46.227638,37.09024,-14.235004,4.570868,20.593684,20.593684,20.593684,23.885942,-14.235004,15.870032,37.09024,20.593684,35.907757,55.378051,20.593684,-14.235004,37.09024,37.09024,37.09024,37.09024,-14.235004,-14.235004,37.09024,-14.235004,37.09024,20.593684,37.09024,31.791702,37.09024,37.09024,12.879721,20.593684,-25.274398,37.09024,37.09024,40.463667,23.634501,37.09024,20.593684,-14.235004,37.09024,55.378051,37.09024,4.570868,4.570868,20.593684,-14.235004,37.09024,-13.759029,46.227638,-14.235004,37.09024,37.09024,40.463667,37.09024,40.463667,37.09024,37.09024,55.378051,23.634501,-14.235004,20.593684,55.378051,37.09024,37.09024],\"legendgroup\":\"\",\"lon\":[78.96288,78.96288,127.766922,-106.346771,127.766922,-51.92528,78.96288,78.96288,78.96288,-63.616672,78.96288,78.96288,-95.712891,-3.435973,-95.712891,-95.712891,-95.712891,-95.712891,-95.712891,100.992541,78.96288,-95.712891,-51.92528,78.96288,-95.712891,-95.712891,-95.712891,-95.712891,-63.616672,78.96288,78.96288,-74.297333,78.96288,-3.435973,-95.712891,-106.346771,-74.297333,78.96288,-95.712891,-95.712891,-95.712891,-3.435973,5.291266,-106.346771,-95.712891,-63.616672,-95.712891,133.775136,-74.297333,-95.712891,127.766922,-95.712891,-95.712891,113.921327,-95.712891,-95.712891,-95.712891,-95.712891,-3.435973,-95.712891,-106.346771,-74.297333,-95.712891,-95.712891,127.766922,35.243322,-95.712891,-95.712891,78.96288,100.992541,78.96288,36.238414,-95.712891,-95.712891,-63.616672,-95.712891,-3.435973,-3.435973,78.96288,-95.712891,-95.712891,18.643501,67.709953,78.96288,-95.712891,-95.712891,-95.712891,-106.346771,-51.92528,-3.435973,-95.712891,100.992541,-51.92528,100.992541,-95.712891,127.766922,-95.712891,-95.712891,-95.712891,-95.712891,127.766922,43.679291,-51.92528,-3.435973,-95.712891,78.96288,-95.712891,78.96288,-95.712891,-95.712891,-3.435973,-3.435973,-95.712891,-95.712891,108.277199,2.213749,-95.712891,-51.92528,-74.297333,78.96288,78.96288,78.96288,45.079162,-51.92528,100.992541,-95.712891,78.96288,127.766922,-3.435973,78.96288,-51.92528,-95.712891,-95.712891,-95.712891,-95.712891,-51.92528,-51.92528,-95.712891,-51.92528,-95.712891,78.96288,-95.712891,-7.09262,-95.712891,-95.712891,121.774017,78.96288,133.775136,-95.712891,-95.712891,-3.74922,-102.552784,-95.712891,78.96288,-51.92528,-95.712891,-3.435973,-95.712891,-74.297333,-74.297333,78.96288,-51.92528,-95.712891,-172.104629,2.213749,-51.92528,-95.712891,-95.712891,-3.74922,-95.712891,-3.74922,-95.712891,-95.712891,-3.435973,-102.552784,-51.92528,78.96288,-3.435973,-95.712891,-95.712891],\"marker\":{\"color\":\"#636efa\",\"size\":[228000000000,57856289381,20826993957,30608119724,28634566938,36775585925,28648024439,29533230328,33431802698,57271630846,40602020243,28837144516,27073872856,30367676736,29884657286,24004842608,13626331061,27286058807,25458952022,12884264778,26820902622,10507474316,25154232306,16718192386,13598903820,22731415608,19378155425,22553923546,27118354077,22637783517,12746535822,23005313609,14864294792,10530729078,28516250629,23379969006,18699145555,16476978876,26583873105,16793072362,14037426379,14199108016,19607009165,12831200855,17208027242,21226945136,14412474625,21037851468,15777682516,13379395501,19883150017,20358117330,17308961985,11372071889,17793809548,10242981063,25592378292,14401218086,17331663193,19458807708,16357064198,14827085149,20531704527,23755792542,23962070944,56106087508,8425505919,17688774915,12889240875,25579831081,9299371231,16298342829,14231943358,13405849040,8040036209,9924807127,11288359365,12140232004,6264261757,10644857969,17324976752,10292874715,13397000296,3579555124,6618524158,14816075927,559765455,6033295543,13917423958,16014044618,9573641299,20196704276,2908120896,11544297793,25367126292,10703830496,17921124985,6888074944,9887116267,20115544708,3802280098,11144195464,7337212581,10847948832,14543594822,8684010451,7979736581,11946217860,6578828147,6613422635,7520242626,10170264839,12475714382,10227242833,9763592867,7126210721,9962188084,9198986881,6802382479,5914071870,6626563508,5558051295,6386271870,14619523361,14564170905,4909687948,6391679636,7857371770,12413869881,9978734160,11506702632,10069000444,4395184343,13356517783,3587576784,9076642765,4684983333,6017932195,11182302317,7952268926,6290721701,20042571499,4315486422,4035738731,11423792969,6048517979,2131548711,5129529846,6884215292,19013942981,8623705301,9660950823,12513842343,11039343563,8134379376,3764608356,5545936485,2750993392,11789678655,20743586601,4712624489,4608751851,5264039679,6637820731,1698279553,4349562794,6300933122,15446707595,6662288136,14185611472,4579773883,9927699419,8831179714,6969178081,7489455451,16690788752,5146004207,12607488647,6202090191,6993406259],\"sizemode\":\"area\",\"sizeref\":570000000.0,\"symbol\":\"circle\"},\"mode\":\"markers\",\"name\":\"\",\"showlegend\":false,\"type\":\"scattergeo\"}],                        {\"template\":{\"data\":{\"histogram2dcontour\":[{\"type\":\"histogram2dcontour\",\"colorbar\":{\"outlinewidth\":0,\"ticks\":\"\"},\"colorscale\":[[0.0,\"#0d0887\"],[0.1111111111111111,\"#46039f\"],[0.2222222222222222,\"#7201a8\"],[0.3333333333333333,\"#9c179e\"],[0.4444444444444444,\"#bd3786\"],[0.5555555555555556,\"#d8576b\"],[0.6666666666666666,\"#ed7953\"],[0.7777777777777778,\"#fb9f3a\"],[0.8888888888888888,\"#fdca26\"],[1.0,\"#f0f921\"]]}],\"choropleth\":[{\"type\":\"choropleth\",\"colorbar\":{\"outlinewidth\":0,\"ticks\":\"\"}}],\"histogram2d\":[{\"type\":\"histogram2d\",\"colorbar\":{\"outlinewidth\":0,\"ticks\":\"\"},\"colorscale\":[[0.0,\"#0d0887\"],[0.1111111111111111,\"#46039f\"],[0.2222222222222222,\"#7201a8\"],[0.3333333333333333,\"#9c179e\"],[0.4444444444444444,\"#bd3786\"],[0.5555555555555556,\"#d8576b\"],[0.6666666666666666,\"#ed7953\"],[0.7777777777777778,\"#fb9f3a\"],[0.8888888888888888,\"#fdca26\"],[1.0,\"#f0f921\"]]}],\"heatmap\":[{\"type\":\"heatmap\",\"colorbar\":{\"outlinewidth\":0,\"ticks\":\"\"},\"colorscale\":[[0.0,\"#0d0887\"],[0.1111111111111111,\"#46039f\"],[0.2222222222222222,\"#7201a8\"],[0.3333333333333333,\"#9c179e\"],[0.4444444444444444,\"#bd3786\"],[0.5555555555555556,\"#d8576b\"],[0.6666666666666666,\"#ed7953\"],[0.7777777777777778,\"#fb9f3a\"],[0.8888888888888888,\"#fdca26\"],[1.0,\"#f0f921\"]]}],\"heatmapgl\":[{\"type\":\"heatmapgl\",\"colorbar\":{\"outlinewidth\":0,\"ticks\":\"\"},\"colorscale\":[[0.0,\"#0d0887\"],[0.1111111111111111,\"#46039f\"],[0.2222222222222222,\"#7201a8\"],[0.3333333333333333,\"#9c179e\"],[0.4444444444444444,\"#bd3786\"],[0.5555555555555556,\"#d8576b\"],[0.6666666666666666,\"#ed7953\"],[0.7777777777777778,\"#fb9f3a\"],[0.8888888888888888,\"#fdca26\"],[1.0,\"#f0f921\"]]}],\"contourcarpet\":[{\"type\":\"contourcarpet\",\"colorbar\":{\"outlinewidth\":0,\"ticks\":\"\"}}],\"contour\":[{\"type\":\"contour\",\"colorbar\":{\"outlinewidth\":0,\"ticks\":\"\"},\"colorscale\":[[0.0,\"#0d0887\"],[0.1111111111111111,\"#46039f\"],[0.2222222222222222,\"#7201a8\"],[0.3333333333333333,\"#9c179e\"],[0.4444444444444444,\"#bd3786\"],[0.5555555555555556,\"#d8576b\"],[0.6666666666666666,\"#ed7953\"],[0.7777777777777778,\"#fb9f3a\"],[0.8888888888888888,\"#fdca26\"],[1.0,\"#f0f921\"]]}],\"surface\":[{\"type\":\"surface\",\"colorbar\":{\"outlinewidth\":0,\"ticks\":\"\"},\"colorscale\":[[0.0,\"#0d0887\"],[0.1111111111111111,\"#46039f\"],[0.2222222222222222,\"#7201a8\"],[0.3333333333333333,\"#9c179e\"],[0.4444444444444444,\"#bd3786\"],[0.5555555555555556,\"#d8576b\"],[0.6666666666666666,\"#ed7953\"],[0.7777777777777778,\"#fb9f3a\"],[0.8888888888888888,\"#fdca26\"],[1.0,\"#f0f921\"]]}],\"mesh3d\":[{\"type\":\"mesh3d\",\"colorbar\":{\"outlinewidth\":0,\"ticks\":\"\"}}],\"scatter\":[{\"fillpattern\":{\"fillmode\":\"overlay\",\"size\":10,\"solidity\":0.2},\"type\":\"scatter\"}],\"parcoords\":[{\"type\":\"parcoords\",\"line\":{\"colorbar\":{\"outlinewidth\":0,\"ticks\":\"\"}}}],\"scatterpolargl\":[{\"type\":\"scatterpolargl\",\"marker\":{\"colorbar\":{\"outlinewidth\":0,\"ticks\":\"\"}}}],\"bar\":[{\"error_x\":{\"color\":\"#2a3f5f\"},\"error_y\":{\"color\":\"#2a3f5f\"},\"marker\":{\"line\":{\"color\":\"#E5ECF6\",\"width\":0.5},\"pattern\":{\"fillmode\":\"overlay\",\"size\":10,\"solidity\":0.2}},\"type\":\"bar\"}],\"scattergeo\":[{\"type\":\"scattergeo\",\"marker\":{\"colorbar\":{\"outlinewidth\":0,\"ticks\":\"\"}}}],\"scatterpolar\":[{\"type\":\"scatterpolar\",\"marker\":{\"colorbar\":{\"outlinewidth\":0,\"ticks\":\"\"}}}],\"histogram\":[{\"marker\":{\"pattern\":{\"fillmode\":\"overlay\",\"size\":10,\"solidity\":0.2}},\"type\":\"histogram\"}],\"scattergl\":[{\"type\":\"scattergl\",\"marker\":{\"colorbar\":{\"outlinewidth\":0,\"ticks\":\"\"}}}],\"scatter3d\":[{\"type\":\"scatter3d\",\"line\":{\"colorbar\":{\"outlinewidth\":0,\"ticks\":\"\"}},\"marker\":{\"colorbar\":{\"outlinewidth\":0,\"ticks\":\"\"}}}],\"scattermapbox\":[{\"type\":\"scattermapbox\",\"marker\":{\"colorbar\":{\"outlinewidth\":0,\"ticks\":\"\"}}}],\"scatterternary\":[{\"type\":\"scatterternary\",\"marker\":{\"colorbar\":{\"outlinewidth\":0,\"ticks\":\"\"}}}],\"scattercarpet\":[{\"type\":\"scattercarpet\",\"marker\":{\"colorbar\":{\"outlinewidth\":0,\"ticks\":\"\"}}}],\"carpet\":[{\"aaxis\":{\"endlinecolor\":\"#2a3f5f\",\"gridcolor\":\"white\",\"linecolor\":\"white\",\"minorgridcolor\":\"white\",\"startlinecolor\":\"#2a3f5f\"},\"baxis\":{\"endlinecolor\":\"#2a3f5f\",\"gridcolor\":\"white\",\"linecolor\":\"white\",\"minorgridcolor\":\"white\",\"startlinecolor\":\"#2a3f5f\"},\"type\":\"carpet\"}],\"table\":[{\"cells\":{\"fill\":{\"color\":\"#EBF0F8\"},\"line\":{\"color\":\"white\"}},\"header\":{\"fill\":{\"color\":\"#C8D4E3\"},\"line\":{\"color\":\"white\"}},\"type\":\"table\"}],\"barpolar\":[{\"marker\":{\"line\":{\"color\":\"#E5ECF6\",\"width\":0.5},\"pattern\":{\"fillmode\":\"overlay\",\"size\":10,\"solidity\":0.2}},\"type\":\"barpolar\"}],\"pie\":[{\"automargin\":true,\"type\":\"pie\"}]},\"layout\":{\"autotypenumbers\":\"strict\",\"colorway\":[\"#636efa\",\"#EF553B\",\"#00cc96\",\"#ab63fa\",\"#FFA15A\",\"#19d3f3\",\"#FF6692\",\"#B6E880\",\"#FF97FF\",\"#FECB52\"],\"font\":{\"color\":\"#2a3f5f\"},\"hovermode\":\"closest\",\"hoverlabel\":{\"align\":\"left\"},\"paper_bgcolor\":\"white\",\"plot_bgcolor\":\"#E5ECF6\",\"polar\":{\"bgcolor\":\"#E5ECF6\",\"angularaxis\":{\"gridcolor\":\"white\",\"linecolor\":\"white\",\"ticks\":\"\"},\"radialaxis\":{\"gridcolor\":\"white\",\"linecolor\":\"white\",\"ticks\":\"\"}},\"ternary\":{\"bgcolor\":\"#E5ECF6\",\"aaxis\":{\"gridcolor\":\"white\",\"linecolor\":\"white\",\"ticks\":\"\"},\"baxis\":{\"gridcolor\":\"white\",\"linecolor\":\"white\",\"ticks\":\"\"},\"caxis\":{\"gridcolor\":\"white\",\"linecolor\":\"white\",\"ticks\":\"\"}},\"coloraxis\":{\"colorbar\":{\"outlinewidth\":0,\"ticks\":\"\"}},\"colorscale\":{\"sequential\":[[0.0,\"#0d0887\"],[0.1111111111111111,\"#46039f\"],[0.2222222222222222,\"#7201a8\"],[0.3333333333333333,\"#9c179e\"],[0.4444444444444444,\"#bd3786\"],[0.5555555555555556,\"#d8576b\"],[0.6666666666666666,\"#ed7953\"],[0.7777777777777778,\"#fb9f3a\"],[0.8888888888888888,\"#fdca26\"],[1.0,\"#f0f921\"]],\"sequentialminus\":[[0.0,\"#0d0887\"],[0.1111111111111111,\"#46039f\"],[0.2222222222222222,\"#7201a8\"],[0.3333333333333333,\"#9c179e\"],[0.4444444444444444,\"#bd3786\"],[0.5555555555555556,\"#d8576b\"],[0.6666666666666666,\"#ed7953\"],[0.7777777777777778,\"#fb9f3a\"],[0.8888888888888888,\"#fdca26\"],[1.0,\"#f0f921\"]],\"diverging\":[[0,\"#8e0152\"],[0.1,\"#c51b7d\"],[0.2,\"#de77ae\"],[0.3,\"#f1b6da\"],[0.4,\"#fde0ef\"],[0.5,\"#f7f7f7\"],[0.6,\"#e6f5d0\"],[0.7,\"#b8e186\"],[0.8,\"#7fbc41\"],[0.9,\"#4d9221\"],[1,\"#276419\"]]},\"xaxis\":{\"gridcolor\":\"white\",\"linecolor\":\"white\",\"ticks\":\"\",\"title\":{\"standoff\":15},\"zerolinecolor\":\"white\",\"automargin\":true,\"zerolinewidth\":2},\"yaxis\":{\"gridcolor\":\"white\",\"linecolor\":\"white\",\"ticks\":\"\",\"title\":{\"standoff\":15},\"zerolinecolor\":\"white\",\"automargin\":true,\"zerolinewidth\":2},\"scene\":{\"xaxis\":{\"backgroundcolor\":\"#E5ECF6\",\"gridcolor\":\"white\",\"linecolor\":\"white\",\"showbackground\":true,\"ticks\":\"\",\"zerolinecolor\":\"white\",\"gridwidth\":2},\"yaxis\":{\"backgroundcolor\":\"#E5ECF6\",\"gridcolor\":\"white\",\"linecolor\":\"white\",\"showbackground\":true,\"ticks\":\"\",\"zerolinecolor\":\"white\",\"gridwidth\":2},\"zaxis\":{\"backgroundcolor\":\"#E5ECF6\",\"gridcolor\":\"white\",\"linecolor\":\"white\",\"showbackground\":true,\"ticks\":\"\",\"zerolinecolor\":\"white\",\"gridwidth\":2}},\"shapedefaults\":{\"line\":{\"color\":\"#2a3f5f\"}},\"annotationdefaults\":{\"arrowcolor\":\"#2a3f5f\",\"arrowhead\":0,\"arrowwidth\":1},\"geo\":{\"bgcolor\":\"white\",\"landcolor\":\"#E5ECF6\",\"subunitcolor\":\"white\",\"showland\":true,\"showlakes\":true,\"lakecolor\":\"white\"},\"title\":{\"x\":0.05},\"mapbox\":{\"style\":\"light\"}}},\"geo\":{\"domain\":{\"x\":[0.0,1.0],\"y\":[0.0,1.0]},\"projection\":{\"type\":\"natural earth\"},\"center\":{}},\"legend\":{\"tracegroupgap\":0,\"itemsizing\":\"constant\"},\"title\":{\"text\":\"Geographic Distribution of Viewers\"},\"height\":500,\"width\":1000,\"updatemenus\":[{\"buttons\":[{\"args\":[null,{\"frame\":{\"duration\":500,\"redraw\":true},\"mode\":\"immediate\",\"fromcurrent\":true,\"transition\":{\"duration\":500,\"easing\":\"linear\"}}],\"label\":\"&#9654;\",\"method\":\"animate\"},{\"args\":[[null],{\"frame\":{\"duration\":0,\"redraw\":true},\"mode\":\"immediate\",\"fromcurrent\":true,\"transition\":{\"duration\":0,\"easing\":\"linear\"}}],\"label\":\"&#9724;\",\"method\":\"animate\"}],\"direction\":\"left\",\"pad\":{\"r\":10,\"t\":70},\"showactive\":false,\"type\":\"buttons\",\"x\":0.1,\"xanchor\":\"right\",\"y\":0,\"yanchor\":\"top\"}],\"sliders\":[{\"active\":0,\"currentvalue\":{\"prefix\":\"category=\"},\"len\":0.9,\"pad\":{\"b\":10,\"t\":60},\"steps\":[{\"args\":[[\"Music\"],{\"frame\":{\"duration\":0,\"redraw\":true},\"mode\":\"immediate\",\"fromcurrent\":true,\"transition\":{\"duration\":0,\"easing\":\"linear\"}}],\"label\":\"Music\",\"method\":\"animate\"},{\"args\":[[\"Film & Animation\"],{\"frame\":{\"duration\":0,\"redraw\":true},\"mode\":\"immediate\",\"fromcurrent\":true,\"transition\":{\"duration\":0,\"easing\":\"linear\"}}],\"label\":\"Film & Animation\",\"method\":\"animate\"},{\"args\":[[\"Entertainment\"],{\"frame\":{\"duration\":0,\"redraw\":true},\"mode\":\"immediate\",\"fromcurrent\":true,\"transition\":{\"duration\":0,\"easing\":\"linear\"}}],\"label\":\"Entertainment\",\"method\":\"animate\"},{\"args\":[[\"Education\"],{\"frame\":{\"duration\":0,\"redraw\":true},\"mode\":\"immediate\",\"fromcurrent\":true,\"transition\":{\"duration\":0,\"easing\":\"linear\"}}],\"label\":\"Education\",\"method\":\"animate\"},{\"args\":[[\"Shows\"],{\"frame\":{\"duration\":0,\"redraw\":true},\"mode\":\"immediate\",\"fromcurrent\":true,\"transition\":{\"duration\":0,\"easing\":\"linear\"}}],\"label\":\"Shows\",\"method\":\"animate\"},{\"args\":[[\"People & Blogs\"],{\"frame\":{\"duration\":0,\"redraw\":true},\"mode\":\"immediate\",\"fromcurrent\":true,\"transition\":{\"duration\":0,\"easing\":\"linear\"}}],\"label\":\"People & Blogs\",\"method\":\"animate\"},{\"args\":[[\"Gaming\"],{\"frame\":{\"duration\":0,\"redraw\":true},\"mode\":\"immediate\",\"fromcurrent\":true,\"transition\":{\"duration\":0,\"easing\":\"linear\"}}],\"label\":\"Gaming\",\"method\":\"animate\"},{\"args\":[[\"Sports\"],{\"frame\":{\"duration\":0,\"redraw\":true},\"mode\":\"immediate\",\"fromcurrent\":true,\"transition\":{\"duration\":0,\"easing\":\"linear\"}}],\"label\":\"Sports\",\"method\":\"animate\"},{\"args\":[[\"Howto & Style\"],{\"frame\":{\"duration\":0,\"redraw\":true},\"mode\":\"immediate\",\"fromcurrent\":true,\"transition\":{\"duration\":0,\"easing\":\"linear\"}}],\"label\":\"Howto & Style\",\"method\":\"animate\"},{\"args\":[[\"other\"],{\"frame\":{\"duration\":0,\"redraw\":true},\"mode\":\"immediate\",\"fromcurrent\":true,\"transition\":{\"duration\":0,\"easing\":\"linear\"}}],\"label\":\"other\",\"method\":\"animate\"},{\"args\":[[\"News & Politics\"],{\"frame\":{\"duration\":0,\"redraw\":true},\"mode\":\"immediate\",\"fromcurrent\":true,\"transition\":{\"duration\":0,\"easing\":\"linear\"}}],\"label\":\"News & Politics\",\"method\":\"animate\"},{\"args\":[[\"Comedy\"],{\"frame\":{\"duration\":0,\"redraw\":true},\"mode\":\"immediate\",\"fromcurrent\":true,\"transition\":{\"duration\":0,\"easing\":\"linear\"}}],\"label\":\"Comedy\",\"method\":\"animate\"},{\"args\":[[\"Trailers\"],{\"frame\":{\"duration\":0,\"redraw\":true},\"mode\":\"immediate\",\"fromcurrent\":true,\"transition\":{\"duration\":0,\"easing\":\"linear\"}}],\"label\":\"Trailers\",\"method\":\"animate\"},{\"args\":[[\"Nonprofits & Activism\"],{\"frame\":{\"duration\":0,\"redraw\":true},\"mode\":\"immediate\",\"fromcurrent\":true,\"transition\":{\"duration\":0,\"easing\":\"linear\"}}],\"label\":\"Nonprofits & Activism\",\"method\":\"animate\"},{\"args\":[[\"Science & Technology\"],{\"frame\":{\"duration\":0,\"redraw\":true},\"mode\":\"immediate\",\"fromcurrent\":true,\"transition\":{\"duration\":0,\"easing\":\"linear\"}}],\"label\":\"Science & Technology\",\"method\":\"animate\"},{\"args\":[[\"Movies\"],{\"frame\":{\"duration\":0,\"redraw\":true},\"mode\":\"immediate\",\"fromcurrent\":true,\"transition\":{\"duration\":0,\"easing\":\"linear\"}}],\"label\":\"Movies\",\"method\":\"animate\"},{\"args\":[[\"Pets & Animals\"],{\"frame\":{\"duration\":0,\"redraw\":true},\"mode\":\"immediate\",\"fromcurrent\":true,\"transition\":{\"duration\":0,\"easing\":\"linear\"}}],\"label\":\"Pets & Animals\",\"method\":\"animate\"},{\"args\":[[\"Autos & Vehicles\"],{\"frame\":{\"duration\":0,\"redraw\":true},\"mode\":\"immediate\",\"fromcurrent\":true,\"transition\":{\"duration\":0,\"easing\":\"linear\"}}],\"label\":\"Autos & Vehicles\",\"method\":\"animate\"},{\"args\":[[\"Travel & Events\"],{\"frame\":{\"duration\":0,\"redraw\":true},\"mode\":\"immediate\",\"fromcurrent\":true,\"transition\":{\"duration\":0,\"easing\":\"linear\"}}],\"label\":\"Travel & Events\",\"method\":\"animate\"}],\"x\":0.1,\"xanchor\":\"left\",\"y\":0,\"yanchor\":\"top\"}]},                        {\"responsive\": true}                    ).then(function(){\n",
       "                            Plotly.addFrames('deb8da5c-3ee0-46b7-9075-f1038b4734dc', [{\"data\":[{\"geo\":\"geo\",\"hovertemplate\":\"category=Music<br>video views=%{marker.size}<br>Latitude=%{lat}<br>Longitude=%{lon}<extra></extra>\",\"lat\":[20.593684,20.593684,35.907757,56.130366,35.907757,-14.235004,20.593684,20.593684,20.593684,-38.416097,20.593684,20.593684,37.09024,55.378051,37.09024,37.09024,37.09024,37.09024,37.09024,15.870032,20.593684,37.09024,-14.235004,20.593684,37.09024,37.09024,37.09024,37.09024,-38.416097,20.593684,20.593684,4.570868,20.593684,55.378051,37.09024,56.130366,4.570868,20.593684,37.09024,37.09024,37.09024,55.378051,52.132633,56.130366,37.09024,-38.416097,37.09024,-25.274398,4.570868,37.09024,35.907757,37.09024,37.09024,-0.789275,37.09024,37.09024,37.09024,37.09024,55.378051,37.09024,56.130366,4.570868,37.09024,37.09024,35.907757,38.963745,37.09024,37.09024,20.593684,15.870032,20.593684,30.585164,37.09024,37.09024,-38.416097,37.09024,55.378051,55.378051,20.593684,37.09024,37.09024,60.128161,33.93911,20.593684,37.09024,37.09024,37.09024,56.130366,-14.235004,55.378051,37.09024,15.870032,-14.235004,15.870032,37.09024,35.907757,37.09024,37.09024,37.09024,37.09024,35.907757,33.223191,-14.235004,55.378051,37.09024,20.593684,37.09024,20.593684,37.09024,37.09024,55.378051,55.378051,37.09024,37.09024,14.058324,46.227638,37.09024,-14.235004,4.570868,20.593684,20.593684,20.593684,23.885942,-14.235004,15.870032,37.09024,20.593684,35.907757,55.378051,20.593684,-14.235004,37.09024,37.09024,37.09024,37.09024,-14.235004,-14.235004,37.09024,-14.235004,37.09024,20.593684,37.09024,31.791702,37.09024,37.09024,12.879721,20.593684,-25.274398,37.09024,37.09024,40.463667,23.634501,37.09024,20.593684,-14.235004,37.09024,55.378051,37.09024,4.570868,4.570868,20.593684,-14.235004,37.09024,-13.759029,46.227638,-14.235004,37.09024,37.09024,40.463667,37.09024,40.463667,37.09024,37.09024,55.378051,23.634501,-14.235004,20.593684,55.378051,37.09024,37.09024],\"legendgroup\":\"\",\"lon\":[78.96288,78.96288,127.766922,-106.346771,127.766922,-51.92528,78.96288,78.96288,78.96288,-63.616672,78.96288,78.96288,-95.712891,-3.435973,-95.712891,-95.712891,-95.712891,-95.712891,-95.712891,100.992541,78.96288,-95.712891,-51.92528,78.96288,-95.712891,-95.712891,-95.712891,-95.712891,-63.616672,78.96288,78.96288,-74.297333,78.96288,-3.435973,-95.712891,-106.346771,-74.297333,78.96288,-95.712891,-95.712891,-95.712891,-3.435973,5.291266,-106.346771,-95.712891,-63.616672,-95.712891,133.775136,-74.297333,-95.712891,127.766922,-95.712891,-95.712891,113.921327,-95.712891,-95.712891,-95.712891,-95.712891,-3.435973,-95.712891,-106.346771,-74.297333,-95.712891,-95.712891,127.766922,35.243322,-95.712891,-95.712891,78.96288,100.992541,78.96288,36.238414,-95.712891,-95.712891,-63.616672,-95.712891,-3.435973,-3.435973,78.96288,-95.712891,-95.712891,18.643501,67.709953,78.96288,-95.712891,-95.712891,-95.712891,-106.346771,-51.92528,-3.435973,-95.712891,100.992541,-51.92528,100.992541,-95.712891,127.766922,-95.712891,-95.712891,-95.712891,-95.712891,127.766922,43.679291,-51.92528,-3.435973,-95.712891,78.96288,-95.712891,78.96288,-95.712891,-95.712891,-3.435973,-3.435973,-95.712891,-95.712891,108.277199,2.213749,-95.712891,-51.92528,-74.297333,78.96288,78.96288,78.96288,45.079162,-51.92528,100.992541,-95.712891,78.96288,127.766922,-3.435973,78.96288,-51.92528,-95.712891,-95.712891,-95.712891,-95.712891,-51.92528,-51.92528,-95.712891,-51.92528,-95.712891,78.96288,-95.712891,-7.09262,-95.712891,-95.712891,121.774017,78.96288,133.775136,-95.712891,-95.712891,-3.74922,-102.552784,-95.712891,78.96288,-51.92528,-95.712891,-3.435973,-95.712891,-74.297333,-74.297333,78.96288,-51.92528,-95.712891,-172.104629,2.213749,-51.92528,-95.712891,-95.712891,-3.74922,-95.712891,-3.74922,-95.712891,-95.712891,-3.435973,-102.552784,-51.92528,78.96288,-3.435973,-95.712891,-95.712891],\"marker\":{\"color\":\"#636efa\",\"size\":[228000000000,57856289381,20826993957,30608119724,28634566938,36775585925,28648024439,29533230328,33431802698,57271630846,40602020243,28837144516,27073872856,30367676736,29884657286,24004842608,13626331061,27286058807,25458952022,12884264778,26820902622,10507474316,25154232306,16718192386,13598903820,22731415608,19378155425,22553923546,27118354077,22637783517,12746535822,23005313609,14864294792,10530729078,28516250629,23379969006,18699145555,16476978876,26583873105,16793072362,14037426379,14199108016,19607009165,12831200855,17208027242,21226945136,14412474625,21037851468,15777682516,13379395501,19883150017,20358117330,17308961985,11372071889,17793809548,10242981063,25592378292,14401218086,17331663193,19458807708,16357064198,14827085149,20531704527,23755792542,23962070944,56106087508,8425505919,17688774915,12889240875,25579831081,9299371231,16298342829,14231943358,13405849040,8040036209,9924807127,11288359365,12140232004,6264261757,10644857969,17324976752,10292874715,13397000296,3579555124,6618524158,14816075927,559765455,6033295543,13917423958,16014044618,9573641299,20196704276,2908120896,11544297793,25367126292,10703830496,17921124985,6888074944,9887116267,20115544708,3802280098,11144195464,7337212581,10847948832,14543594822,8684010451,7979736581,11946217860,6578828147,6613422635,7520242626,10170264839,12475714382,10227242833,9763592867,7126210721,9962188084,9198986881,6802382479,5914071870,6626563508,5558051295,6386271870,14619523361,14564170905,4909687948,6391679636,7857371770,12413869881,9978734160,11506702632,10069000444,4395184343,13356517783,3587576784,9076642765,4684983333,6017932195,11182302317,7952268926,6290721701,20042571499,4315486422,4035738731,11423792969,6048517979,2131548711,5129529846,6884215292,19013942981,8623705301,9660950823,12513842343,11039343563,8134379376,3764608356,5545936485,2750993392,11789678655,20743586601,4712624489,4608751851,5264039679,6637820731,1698279553,4349562794,6300933122,15446707595,6662288136,14185611472,4579773883,9927699419,8831179714,6969178081,7489455451,16690788752,5146004207,12607488647,6202090191,6993406259],\"sizemode\":\"area\",\"sizeref\":570000000.0,\"symbol\":\"circle\"},\"mode\":\"markers\",\"name\":\"\",\"showlegend\":false,\"type\":\"scattergeo\"}],\"name\":\"Music\"},{\"data\":[{\"geo\":\"geo\",\"hovertemplate\":\"category=Film & Animation<br>video views=%{marker.size}<br>Latitude=%{lat}<br>Longitude=%{lon}<extra></extra>\",\"lat\":[37.09024,37.09024,20.593684,61.52401,20.593684,-14.235004,37.09024,55.378051,37.09024,20.593684,20.593684,55.378051,20.593684,-14.235004,37.09024,20.593684,37.09024,-14.235004,37.09024,20.593684,37.09024,37.09024,20.593684,-14.235004,37.09024,4.210484,-38.416097,20.593684,-14.235004,23.634501,37.09024,20.593684,-14.235004,37.09024,-14.235004,20.593684],\"legendgroup\":\"\",\"lon\":[-95.712891,-95.712891,78.96288,105.318756,78.96288,-51.92528,-95.712891,-3.435973,-95.712891,78.96288,78.96288,-3.435973,78.96288,-51.92528,-95.712891,78.96288,-95.712891,-51.92528,-95.712891,78.96288,-95.712891,-95.712891,78.96288,-51.92528,-95.712891,101.975766,-63.616672,78.96288,-51.92528,-102.552784,-95.712891,78.96288,-51.92528,-95.712891,-51.92528,78.96288],\"marker\":{\"color\":\"#636efa\",\"size\":[0,59316472754,35302243691,36458726976,11351015824,27274550757,13013567335,22919271731,22440611155,8595760553,6608773195,7920637200,9465863821,7926899136,5380073627,2431154438,4454917643,1796227417,11317309935,9715291883,10955619815,7906181776,8281724393,13824277846,8588704539,9059696049,17247584185,902225615,3693798804,5997599089,13116313599,9787697838,4040297006,2244318380,4214172991,7683670251],\"sizemode\":\"area\",\"sizeref\":570000000.0,\"symbol\":\"circle\"},\"mode\":\"markers\",\"name\":\"\",\"showlegend\":false,\"type\":\"scattergeo\"}],\"name\":\"Film & Animation\"},{\"data\":[{\"geo\":\"geo\",\"hovertemplate\":\"category=Entertainment<br>video views=%{marker.size}<br>Latitude=%{lat}<br>Longitude=%{lon}<extra></extra>\",\"lat\":[37.09024,37.09024,20.593684,37.09024,61.52401,20.593684,20.593684,-14.235004,-14.235004,30.375321,30.375321,37.09024,13.193887,15.870032,37.09024,37.09024,15.870032,20.593684,37.09024,-0.789275,15.870032,20.593684,20.593684,12.879721,37.09024,37.09024,-38.416097,-0.789275,37.09024,30.585164,37.09024,37.09024,30.375321,20.593684,20.593684,20.593684,-14.235004,37.09024,41.87194,20.593684,36.204824,23.885942,-0.789275,55.378051,37.09024,37.09024,23.634501,55.378051,37.09024,37.09024,23.634501,37.09024,37.09024,37.09024,51.165691,-38.416097,20.593684,37.09024,36.204824,23.634501,37.09024,37.09024,20.593684,20.593684,12.879721,37.09024,-14.235004,37.09024,-14.235004,37.09024,-0.789275,35.907757,37.09024,20.593684,48.379433,55.378051,4.570868,37.09024,37.09024,37.09024,55.378051,55.378051,55.378051,38.963745,20.593684,20.593684,20.593684,37.09024,35.907757,55.378051,48.379433,40.463667,20.593684,37.09024,37.09024,37.09024,-0.789275,37.09024,-38.416097,14.058324,-14.235004,20.593684,20.593684,15.870032,20.593684,-0.789275,37.09024,37.09024,-0.789275,37.09024,23.634501,20.593684,51.165691,37.09024,37.09024,37.09024,15.870032,15.870032,37.09024,20.593684,37.09024,1.352083,40.463667,-0.789275,37.09024,37.09024,23.634501,37.09024,23.634501,-14.235004,20.593684,37.09024,20.593684,12.879721,20.593684,20.593684,38.963745,61.52401,-14.235004,23.634501,20.593684,37.09024,20.593684,-0.789275,37.09024,40.463667,15.870032,36.204824,23.885942,37.09024,40.463667,37.09024,20.593684,-1.831239,37.09024,37.09024,37.09024,37.09024,15.870032,35.907757,-9.189967,23.885942,20.593684,20.593684,48.379433,20.593684,37.09024,-0.789275,15.870032,20.593684,-14.235004,30.585164,20.593684,37.09024,37.09024,20.593684,-14.235004,37.09024,55.378051,48.379433,20.593684,20.593684,20.593684,37.09024,37.09024,37.09024,48.379433,37.09024,61.52401,20.593684,-14.235004,37.09024,-14.235004,41.87194,-0.789275,20.593684,37.09024,23.634501,-14.235004,35.907757,37.09024,55.378051,56.130366,37.09024,55.378051,37.09024,-14.235004,20.593684,20.593684,20.593684,20.593684,-0.789275,56.130366],\"legendgroup\":\"\",\"lon\":[-95.712891,-95.712891,78.96288,-95.712891,105.318756,78.96288,78.96288,-51.92528,-51.92528,69.345116,69.345116,-95.712891,-59.543198,100.992541,-95.712891,-95.712891,100.992541,78.96288,-95.712891,113.921327,100.992541,78.96288,78.96288,121.774017,-95.712891,-95.712891,-63.616672,113.921327,-95.712891,36.238414,-95.712891,-95.712891,69.345116,78.96288,78.96288,78.96288,-51.92528,-95.712891,12.56738,78.96288,138.252924,45.079162,113.921327,-3.435973,-95.712891,-95.712891,-102.552784,-3.435973,-95.712891,-95.712891,-102.552784,-95.712891,-95.712891,-95.712891,10.451526,-63.616672,78.96288,-95.712891,138.252924,-102.552784,-95.712891,-95.712891,78.96288,78.96288,121.774017,-95.712891,-51.92528,-95.712891,-51.92528,-95.712891,113.921327,127.766922,-95.712891,78.96288,31.16558,-3.435973,-74.297333,-95.712891,-95.712891,-95.712891,-3.435973,-3.435973,-3.435973,35.243322,78.96288,78.96288,78.96288,-95.712891,127.766922,-3.435973,31.16558,-3.74922,78.96288,-95.712891,-95.712891,-95.712891,113.921327,-95.712891,-63.616672,108.277199,-51.92528,78.96288,78.96288,100.992541,78.96288,113.921327,-95.712891,-95.712891,113.921327,-95.712891,-102.552784,78.96288,10.451526,-95.712891,-95.712891,-95.712891,100.992541,100.992541,-95.712891,78.96288,-95.712891,103.819836,-3.74922,113.921327,-95.712891,-95.712891,-102.552784,-95.712891,-102.552784,-51.92528,78.96288,-95.712891,78.96288,121.774017,78.96288,78.96288,35.243322,105.318756,-51.92528,-102.552784,78.96288,-95.712891,78.96288,113.921327,-95.712891,-3.74922,100.992541,138.252924,45.079162,-95.712891,-3.74922,-95.712891,78.96288,-78.183406,-95.712891,-95.712891,-95.712891,-95.712891,100.992541,127.766922,-75.015152,45.079162,78.96288,78.96288,31.16558,78.96288,-95.712891,113.921327,100.992541,78.96288,-51.92528,36.238414,78.96288,-95.712891,-95.712891,78.96288,-51.92528,-95.712891,-3.435973,31.16558,78.96288,78.96288,78.96288,-95.712891,-95.712891,-95.712891,31.16558,-95.712891,105.318756,78.96288,-51.92528,-95.712891,-51.92528,12.56738,113.921327,78.96288,-95.712891,-102.552784,-51.92528,127.766922,-95.712891,-3.435973,-106.346771,-95.712891,-3.435973,-95.712891,-51.92528,78.96288,78.96288,78.96288,78.96288,113.921327,-106.346771],\"marker\":{\"color\":\"#636efa\",\"size\":[28368841870,77180169894,73139054467,14696003229,30788679536,22519705183,21388725229,16602198273,7828610828,41139050371,37939780685,19547696190,22477745835,36131228583,22756581750,18208196857,27262462114,15657673422,55299840198,3963007415,29611914495,17853798780,26800674545,19428308461,21031745531,11615848291,6187804950,4332274962,13546549817,27684955537,14727238483,9956764048,23844936965,7600740993,7705492350,17318452893,7938616641,7173668905,17211600007,4749833967,16097531087,7886440199,14169516119,17387583720,3699352704,12385924995,2700914170,6002166932,4067878931,6582932625,2135644776,5994002464,6766461070,22471357411,31494513067,6041264489,10939966484,11136266461,18347969186,20657571751,9346383505,5141834668,10047736580,12895427184,11364908616,4380564906,7762905663,10631638628,3828000587,17963202261,4956090094,15038593883,11009148579,29406206620,4707412332,2441288701,2951914200,23353115850,5634695322,13154314376,3875172235,11323617496,9808676159,8779729549,5234251168,23038014291,7590582024,13124645973,15126092508,5257834105,9594188708,12295637162,6047584292,4120324310,7760819588,13378360425,3306242674,15412333005,5168721499,9867515979,7739048000,2238134438,7612385622,13043561912,11371738047,9710962528,3827906874,4609753237,7195314800,8826138204,2798273962,9439857193,15278668857,5819508534,2440934034,7406207930,9463244435,12844432341,3527627264,7141825267,8091706232,20522339099,4488680903,1517638132,6872702790,15812009296,9642146451,8696631898,1511794214,3869457097,12714141740,6396049701,16545966132,1491452935,7151683497,7564652648,8333387785,13897932103,8897705695,4008801873,8658553456,10239836582,8932038210,8074260978,4033400167,4977284539,5549770244,8615618825,2230986039,1321380490,1506796393,2465473772,12362331529,2613197447,6944967581,4577292740,4260187928,8582696157,9383692066,600154268,1629801448,2972474215,8011977288,18515587421,6973932553,11428794827,3317805543,6036496916,4627069704,12597067132,5094050461,9106781518,5217553897,5465532801,2224911030,1973638757,1950178163,14717282742,5380132790,8265920659,3912334359,7958771872,2650061211,3299216601,3733856870,4177184071,7923901253,9884886099,1148422000,3789736218,5224764969,2182651464,5333569294,2683297849,10664585,5057163256,9999238237,6270909026,140022442,3178222797,3643698504,3632438963,6970899521,13174393401,1612094871,1136534702,4625777945,4935793409,10384848759,11552190002,11691081301,1113066203,4021409291],\"sizemode\":\"area\",\"sizeref\":570000000.0,\"symbol\":\"circle\"},\"mode\":\"markers\",\"name\":\"\",\"showlegend\":false,\"type\":\"scattergeo\"}],\"name\":\"Entertainment\"},{\"data\":[{\"geo\":\"geo\",\"hovertemplate\":\"category=Education<br>video views=%{marker.size}<br>Latitude=%{lat}<br>Longitude=%{lon}<extra></extra>\",\"lat\":[37.09024,37.09024,20.593684,20.593684,37.09024,37.09024,56.130366,37.09024,20.593684,37.09024,37.09024,20.593684,20.593684,23.634501,20.593684,51.165691,-0.789275,20.593684,37.09024,23.634501,37.09024,37.09024,-25.274398,-38.416097,20.593684,20.593684,20.593684,37.09024,-0.789275,37.09024,37.09024,20.593684,37.09024,20.593684,37.09024,20.593684,20.593684,37.09024,-0.789275,20.593684,40.463667,37.09024],\"legendgroup\":\"\",\"lon\":[-95.712891,-95.712891,78.96288,78.96288,-95.712891,-95.712891,-106.346771,-95.712891,78.96288,-95.712891,-95.712891,78.96288,78.96288,-102.552784,78.96288,10.451526,113.921327,78.96288,-95.712891,-102.552784,-95.712891,-95.712891,133.775136,-63.616672,78.96288,78.96288,78.96288,-95.712891,113.921327,-95.712891,-95.712891,78.96288,-95.712891,78.96288,-95.712891,78.96288,78.96288,-95.712891,113.921327,78.96288,-3.74922,-95.712891],\"marker\":{\"color\":\"#636efa\",\"size\":[164000000000,38843229963,45757850229,30516172739,9877365274,39450824833,44900897958,25607397308,20269857567,26355088167,22593193994,17930570614,14814192034,13206471140,1693149479,2378448129,11819051552,7274150246,4924054368,9813245108,3654621568,14857290259,8903647480,11445492404,3018032423,1349288771,7776706184,10714145606,2143140898,2730879024,1833519700,4029253667,8882319696,6554000320,2165885634,5178142148,5141201173,5263540904,2848466522,7876740921,6956320454,4779139505],\"sizemode\":\"area\",\"sizeref\":570000000.0,\"symbol\":\"circle\"},\"mode\":\"markers\",\"name\":\"\",\"showlegend\":false,\"type\":\"scattergeo\"}],\"name\":\"Education\"},{\"data\":[{\"geo\":\"geo\",\"hovertemplate\":\"category=Shows<br>video views=%{marker.size}<br>Latitude=%{lat}<br>Longitude=%{lon}<extra></extra>\",\"lat\":[20.593684,20.593684,20.593684,37.09024,20.593684,55.378051,37.09024,37.09024,37.09024,23.885942,20.593684,48.379433],\"legendgroup\":\"\",\"lon\":[78.96288,78.96288,78.96288,-95.712891,78.96288,-3.435973,-95.712891,-95.712891,-95.712891,45.079162,78.96288,31.16558],\"marker\":{\"color\":\"#636efa\",\"size\":[148000000000,101000000000,61510906457,24519022988,28519339489,10602236110,13151870846,13930021471,16174530046,8265129639,6646953396,5585085130],\"sizemode\":\"area\",\"sizeref\":570000000.0,\"symbol\":\"circle\"},\"mode\":\"markers\",\"name\":\"\",\"showlegend\":false,\"type\":\"scattergeo\"}],\"name\":\"Shows\"},{\"data\":[{\"geo\":\"geo\",\"hovertemplate\":\"category=People & Blogs<br>video views=%{marker.size}<br>Latitude=%{lat}<br>Longitude=%{lon}<extra></extra>\",\"lat\":[37.09024,61.52401,35.907757,12.879721,4.570868,23.634501,23.424076,23.885942,20.593684,-14.235004,-0.789275,6.42375,1.352083,37.09024,37.09024,37.09024,23.634501,-0.789275,37.09024,37.09024,55.378051,55.378051,37.09024,37.09024,37.09024,20.593684,23.885942,37.09024,46.227638,37.09024,37.09024,37.09024,37.09024,20.593684,-0.789275,37.09024,61.52401,37.09024,37.09024,37.09024,23.634501,37.09024,61.52401,61.52401,-0.789275,-0.789275,-14.235004,37.09024,37.09024,20.593684,20.593684,-0.789275,37.09024,23.634501,37.09024,-14.235004,61.52401,-0.789275,37.09024,23.634501,37.09024,-0.789275,61.52401,20.593684,37.09024,12.879721,37.09024,26.820553,20.593684,61.52401,37.09024,51.165691,37.09024,40.463667,-14.235004,35.907757,20.593684,20.593684,37.09024,23.634501,37.09024,20.593684,23.634501,20.593684,20.593684,37.09024,37.09024,61.52401,37.09024,37.09024,20.593684,12.879721,-14.235004,37.09024,-1.831239,-14.235004,23.424076,4.570868,37.09024,35.907757,23.634501,20.593684,20.593684],\"legendgroup\":\"\",\"lon\":[-95.712891,105.318756,127.766922,121.774017,-74.297333,-102.552784,53.847818,45.079162,78.96288,-51.92528,113.921327,-66.58973,103.819836,-95.712891,-95.712891,-95.712891,-102.552784,113.921327,-95.712891,-95.712891,-3.435973,-3.435973,-95.712891,-95.712891,-95.712891,78.96288,45.079162,-95.712891,2.213749,-95.712891,-95.712891,-95.712891,-95.712891,78.96288,113.921327,-95.712891,105.318756,-95.712891,-95.712891,-95.712891,-102.552784,-95.712891,105.318756,105.318756,113.921327,113.921327,-51.92528,-95.712891,-95.712891,78.96288,78.96288,113.921327,-95.712891,-102.552784,-95.712891,-51.92528,105.318756,113.921327,-95.712891,-102.552784,-95.712891,113.921327,105.318756,78.96288,-95.712891,121.774017,-95.712891,30.802498,78.96288,105.318756,-95.712891,10.451526,-95.712891,-3.74922,-51.92528,127.766922,78.96288,78.96288,-95.712891,-102.552784,-95.712891,78.96288,-102.552784,78.96288,78.96288,-95.712891,-95.712891,105.318756,-95.712891,-95.712891,78.96288,121.774017,-51.92528,-95.712891,-78.183406,-51.92528,53.847818,-74.297333,-95.712891,127.766922,-102.552784,78.96288,78.96288],\"marker\":{\"color\":\"#636efa\",\"size\":[93247040539,90479060027,32144597566,50292540392,27568757295,5603111948,23884824160,21528116909,13102611515,24188861917,5994136760,9673649438,2303069221,4552581106,10336420490,4388047013,7466926260,6430853035,11081602368,7213499085,15510153803,14696994366,15751661213,2551113422,10115316784,20847038152,17507060680,27084848152,8663830163,5918314128,4469711607,5890180734,6269945014,12761253839,4526271677,11058049885,8658941531,7311322368,17913237851,5759442450,1577859332,4329121104,2855519150,8147575884,4051072188,1606834186,3213324455,7176572299,3841205465,11057945183,7912733203,3647267655,9544277833,5089284369,14784781923,2687443643,1845329502,4122634467,6165757696,8984089026,5469103954,4750420071,9938811455,857725714,1777072487,1760131384,3060202847,5324913850,9924103188,439098,8649303688,272678287,8866012877,3337074920,4622581344,5014888374,10303519926,4156427797,4776507159,4674164601,18917687143,13542939513,5019136690,4963275018,2139769210,10022557589,4306212515,6482687220,9088562002,9378175604,1758603195,1401914513,2555801802,4399833602,2879263916,2112274210,7520379951,1714955279,3152402405,3485373675,2862685032,7741764747,1674409945],\"sizemode\":\"area\",\"sizeref\":570000000.0,\"symbol\":\"circle\"},\"mode\":\"markers\",\"name\":\"\",\"showlegend\":false,\"type\":\"scattergeo\"}],\"name\":\"People & Blogs\"},{\"data\":[{\"geo\":\"geo\",\"hovertemplate\":\"category=Gaming<br>video views=%{marker.size}<br>Latitude=%{lat}<br>Longitude=%{lon}<extra></extra>\",\"lat\":[36.204824,-35.675147,21.521757,13.794185,40.463667,37.09024,40.463667,37.09024,-14.235004,37.09024,29.31166,55.378051,56.130366,37.09024,37.09024,56.130366,55.378051,37.09024,37.09024,-35.675147,-25.274398,-0.789275,-14.235004,37.09024,37.09024,23.885942,61.52401,37.09024,46.227638,40.463667,15.870032,-35.675147,37.09024,37.09024,40.463667,37.09024,37.09024,37.09024,55.378051,55.378051,23.634501,-38.416097,37.09024,23.424076,37.09024,20.593684,40.463667,61.52401,55.378051,37.09024,37.09024,37.09024,-14.235004,-25.274398,37.09024,37.09024,20.593684,55.378051,23.634501,-14.235004,61.52401,-14.235004,52.132633,40.463667,-0.789275,56.130366,37.09024,37.09024,37.09024,23.885942,56.130366,61.92411,35.907757,-14.235004,55.378051,23.634501,37.09024,40.463667,40.463667,60.128161],\"legendgroup\":\"\",\"lon\":[138.252924,-71.542969,-77.781167,-88.89653,-3.74922,-95.712891,-3.74922,-95.712891,-51.92528,-95.712891,47.481766,-3.435973,-106.346771,-95.712891,-95.712891,-106.346771,-3.435973,-95.712891,-95.712891,-71.542969,133.775136,113.921327,-51.92528,-95.712891,-95.712891,45.079162,105.318756,-95.712891,2.213749,-3.74922,100.992541,-71.542969,-95.712891,-95.712891,-3.74922,-95.712891,-95.712891,-95.712891,-3.435973,-3.435973,-102.552784,-63.616672,-95.712891,53.847818,-95.712891,78.96288,-3.74922,105.318756,-3.435973,-95.712891,-95.712891,-95.712891,-51.92528,133.775136,-95.712891,-95.712891,78.96288,-3.435973,-102.552784,-51.92528,105.318756,-51.92528,5.291266,-3.74922,113.921327,-106.346771,-95.712891,-95.712891,-95.712891,45.079162,-106.346771,25.748151,127.766922,-51.92528,-3.435973,-102.552784,-95.712891,-3.74922,-3.74922,18.643501],\"marker\":{\"color\":\"#636efa\",\"size\":[29058044447,14631710289,22936630813,10323391593,16118181673,20297931219,15432929204,23492684419,13061739758,2930015381,4521573939,19417887510,15541421838,8279004442,2543809954,7451792132,14777034543,13835173331,24059336857,8409641722,8768697257,6098644584,8920141342,2851024430,3961318438,8761255550,3457618361,1556003039,9983065083,6404852037,9269174070,6306204566,16107116549,17763586483,5024088947,9111000228,7102965621,1656452554,4768370464,4076692623,3029872908,6534326412,9052367553,11513738907,1543608082,1640078055,4236036141,6668507856,4352427049,7159750970,4741434420,6889304306,5956193599,5269059435,3603556207,5766647017,2224121890,2084791147,3920559552,4959982720,7719743112,5673347763,2480957682,2122062016,1181292450,4301581610,4356686216,6050102764,7773543609,4129249415,6412313570,2036408398,8739174649,1081285962,3303595310,1402042328,2394143260,2840137980,6933660906,374123483],\"sizemode\":\"area\",\"sizeref\":570000000.0,\"symbol\":\"circle\"},\"mode\":\"markers\",\"name\":\"\",\"showlegend\":false,\"type\":\"scattergeo\"}],\"name\":\"Gaming\"},{\"data\":[{\"geo\":\"geo\",\"hovertemplate\":\"category=Sports<br>video views=%{marker.size}<br>Latitude=%{lat}<br>Longitude=%{lon}<extra></extra>\",\"lat\":[37.09024,37.09024,37.09024,46.818188,-25.274398,37.09024,40.463667,55.378051,37.09024,40.463667,-14.235004],\"legendgroup\":\"\",\"lon\":[-95.712891,-95.712891,-95.712891,8.227512,133.775136,-95.712891,-3.74922,-3.435973,-95.712891,-3.74922,-51.92528],\"marker\":{\"color\":\"#636efa\",\"size\":[77428473662,16241549158,12624879732,5529131886,9601137077,7135820721,2656528205,3280481927,1948925559,2509752944,9029609749],\"sizemode\":\"area\",\"sizeref\":570000000.0,\"symbol\":\"circle\"},\"mode\":\"markers\",\"name\":\"\",\"showlegend\":false,\"type\":\"scattergeo\"}],\"name\":\"Sports\"},{\"data\":[{\"geo\":\"geo\",\"hovertemplate\":\"category=Howto & Style<br>video views=%{marker.size}<br>Latitude=%{lat}<br>Longitude=%{lon}<extra></extra>\",\"lat\":[55.378051,23.634501,23.634501,-25.274398,37.09024,20.593684,37.09024,37.09024,37.09024,23.634501,-14.235004,35.86166,-25.274398,40.463667,37.09024,37.09024,26.820553,37.09024,48.379433,23.634501,-14.235004,37.09024,52.132633,60.128161,20.593684,20.593684,37.09024,37.09024,20.593684,37.09024,20.593684,37.09024,20.593684],\"legendgroup\":\"\",\"lon\":[-3.435973,-102.552784,-102.552784,133.775136,-95.712891,78.96288,-95.712891,-95.712891,-95.712891,-102.552784,-51.92528,104.195397,133.775136,-3.74922,-95.712891,-95.712891,30.802498,-95.712891,31.16558,-102.552784,-51.92528,-95.712891,5.291266,18.643501,78.96288,78.96288,-95.712891,-95.712891,78.96288,-95.712891,78.96288,-95.712891,78.96288],\"marker\":{\"color\":\"#636efa\",\"size\":[26236790209,6762424690,2588501115,2994726412,10414479943,5863377051,5783557209,5091618606,6119294270,7229175322,3980991248,2977741577,3684816159,3696973456,3955426159,2609358468,4499826716,2761547758,7018015062,2750902766,3551889957,4597228794,1778318927,2214167846,2939201386,3445794123,1900272833,2319515787,2831275503,4733873025,1002219689,2983799729,2315226648],\"sizemode\":\"area\",\"sizeref\":570000000.0,\"symbol\":\"circle\"},\"mode\":\"markers\",\"name\":\"\",\"showlegend\":false,\"type\":\"scattergeo\"}],\"name\":\"Howto & Style\"},{\"data\":[{\"geo\":\"geo\",\"hovertemplate\":\"category=other<br>video views=%{marker.size}<br>Latitude=%{lat}<br>Longitude=%{lon}<extra></extra>\",\"lat\":[37.09024,37.09024,38.963745,37.09024,37.09024,37.09024,23.424076,37.09024,37.09024,37.09024,37.09024,23.424076,37.09024,20.593684,37.09024,35.907757,35.907757,12.879721,37.09024,60.128161,1.352083,37.09024,20.593684,37.09024,37.09024,37.09024,12.879721,37.09024,20.593684,-0.789275,37.09024,30.375321,20.593684,37.09024,37.09024,37.09024,37.09024,20.593684,55.378051],\"legendgroup\":\"\",\"lon\":[-95.712891,-95.712891,35.243322,-95.712891,-95.712891,-95.712891,53.847818,-95.712891,-95.712891,-95.712891,-95.712891,53.847818,-95.712891,78.96288,-95.712891,127.766922,127.766922,121.774017,-95.712891,18.643501,103.819836,-95.712891,78.96288,-95.712891,-95.712891,-95.712891,121.774017,-95.712891,78.96288,113.921327,-95.712891,69.345116,78.96288,-95.712891,-95.712891,-95.712891,-95.712891,78.96288,-3.435973],\"marker\":{\"color\":\"#636efa\",\"size\":[0,23510152352,19180039918,12355992466,17999961915,31977463002,15724160183,329774870,11041261296,10613701948,8594440895,8507818877,9789121606,264228052,7008250496,19206701832,7387621644,1318442641,7399296005,7155736006,6153495609,15788208522,1739129375,4821183481,6543282459,8451754769,896891351,4622628957,20563378,4205664894,2733682792,301547793,1159290255,5567832210,6001189018,161254021,4163639093,1971226335,2214684303],\"sizemode\":\"area\",\"sizeref\":570000000.0,\"symbol\":\"circle\"},\"mode\":\"markers\",\"name\":\"\",\"showlegend\":false,\"type\":\"scattergeo\"}],\"name\":\"other\"},{\"data\":[{\"geo\":\"geo\",\"hovertemplate\":\"category=News & Politics<br>video views=%{marker.size}<br>Latitude=%{lat}<br>Longitude=%{lon}<extra></extra>\",\"lat\":[20.593684,20.593684,20.593684,12.879721,20.593684,23.634501,37.09024,20.593684,37.09024,48.379433,20.593684,20.593684,20.593684,15.870032,20.593684,37.09024,20.593684,12.879721,20.593684,-0.789275,37.09024,55.378051,23.684994,30.375321,12.879721],\"legendgroup\":\"\",\"lon\":[78.96288,78.96288,78.96288,121.774017,78.96288,-102.552784,-95.712891,78.96288,-95.712891,31.16558,78.96288,78.96288,78.96288,100.992541,78.96288,-95.712891,78.96288,121.774017,78.96288,113.921327,-95.712891,-3.435973,90.356331,69.345116,121.774017],\"marker\":{\"color\":\"#636efa\",\"size\":[25307753534,16105023749,16709857823,15065753455,10409352249,15013096899,12293479945,2255542592,10463166404,8396875537,7263619576,7435180827,7043235131,14563841315,3392918989,14198154095,6624168155,10489367372,7536093065,11827310821,12961669452,4598387043,12129583055,5727888539,9569814790],\"sizemode\":\"area\",\"sizeref\":570000000.0,\"symbol\":\"circle\"},\"mode\":\"markers\",\"name\":\"\",\"showlegend\":false,\"type\":\"scattergeo\"}],\"name\":\"News & Politics\"},{\"data\":[{\"geo\":\"geo\",\"hovertemplate\":\"category=Comedy<br>video views=%{marker.size}<br>Latitude=%{lat}<br>Longitude=%{lon}<extra></extra>\",\"lat\":[-14.235004,23.634501,20.593684,20.593684,20.593684,37.09024,20.593684,37.09024,20.593684,-14.235004,40.463667,37.09024,4.570868,37.09024,37.09024,37.09024,-38.416097,-14.235004,20.593684,37.09024,51.165691,-14.235004,-38.416097,23.424076,56.879635,37.09024,37.09024,37.09024,20.593684,40.463667,37.09024,23.634501,61.52401,37.09024,20.593684,20.593684,37.09024,15.870032,-14.235004,20.593684,20.593684,-38.416097,36.204824,37.09024,37.09024,20.593684,56.130366,46.227638,37.09024,37.09024,20.593684,-14.235004,20.593684,14.058324,55.378051,15.870032,37.09024,-14.235004,37.09024,33.223191,37.09024,23.634501,20.593684,37.09024,-14.235004,37.09024,20.593684],\"legendgroup\":\"\",\"lon\":[-51.92528,-102.552784,78.96288,78.96288,78.96288,-95.712891,78.96288,-95.712891,78.96288,-51.92528,-3.74922,-95.712891,-74.297333,-95.712891,-95.712891,-95.712891,-63.616672,-51.92528,78.96288,-95.712891,10.451526,-51.92528,-63.616672,53.847818,24.603189,-95.712891,-95.712891,-95.712891,78.96288,-3.74922,-95.712891,-102.552784,105.318756,-95.712891,78.96288,78.96288,-95.712891,100.992541,-51.92528,78.96288,78.96288,-63.616672,138.252924,-95.712891,-95.712891,78.96288,-106.346771,2.213749,-95.712891,-95.712891,78.96288,-51.92528,78.96288,108.277199,-3.435973,100.992541,-95.712891,-51.92528,-95.712891,43.679291,-95.712891,-102.552784,78.96288,-95.712891,-51.92528,-95.712891,78.96288],\"marker\":{\"color\":\"#636efa\",\"size\":[4274709210,8670473639,3294013141,16402066717,11405809704,17111726160,3145161634,15199330166,4457913639,11627437847,4079141673,6570935979,10317306313,27006526665,10435474336,34300482066,10999000479,13943030228,9223534599,15552070846,1573058816,1870608170,7657171980,2764127969,20919403720,19694265358,1803249241,4566120190,3276891538,7038827526,5244917119,2274007523,4448334716,2173106162,1001465469,9270331567,3037260680,4434679706,2990185467,1781226000,4503880875,9477021288,13562853889,6751985988,7255848125,5525773746,3517662420,3086254545,3900312631,6388439235,10238593147,1967930734,9596430464,5457203710,11717217293,3363634923,7406628736,1024467771,4637474071,5863456698,9502983550,4266957149,4465772496,7597013023,2602614088,16086808918,2129773714],\"sizemode\":\"area\",\"sizeref\":570000000.0,\"symbol\":\"circle\"},\"mode\":\"markers\",\"name\":\"\",\"showlegend\":false,\"type\":\"scattergeo\"}],\"name\":\"Comedy\"},{\"data\":[{\"geo\":\"geo\",\"hovertemplate\":\"category=Trailers<br>video views=%{marker.size}<br>Latitude=%{lat}<br>Longitude=%{lon}<extra></extra>\",\"lat\":[20.593684,20.593684],\"legendgroup\":\"\",\"lon\":[78.96288,78.96288],\"marker\":{\"color\":\"#636efa\",\"size\":[17608931161,15653786446],\"sizemode\":\"area\",\"sizeref\":570000000.0,\"symbol\":\"circle\"},\"mode\":\"markers\",\"name\":\"\",\"showlegend\":false,\"type\":\"scattergeo\"}],\"name\":\"Trailers\"},{\"data\":[{\"geo\":\"geo\",\"hovertemplate\":\"category=Nonprofits & Activism<br>video views=%{marker.size}<br>Latitude=%{lat}<br>Longitude=%{lon}<extra></extra>\",\"lat\":[37.09024,-14.235004],\"legendgroup\":\"\",\"lon\":[-95.712891,-51.92528],\"marker\":{\"color\":\"#636efa\",\"size\":[7339333120,3523578665],\"sizemode\":\"area\",\"sizeref\":570000000.0,\"symbol\":\"circle\"},\"mode\":\"markers\",\"name\":\"\",\"showlegend\":false,\"type\":\"scattergeo\"}],\"name\":\"Nonprofits & Activism\"},{\"data\":[{\"geo\":\"geo\",\"hovertemplate\":\"category=Science & Technology<br>video views=%{marker.size}<br>Latitude=%{lat}<br>Longitude=%{lon}<extra></extra>\",\"lat\":[20.593684,37.09024,37.09024,20.593684,37.09024,51.165691,37.09024,37.09024,56.130366,37.09024,55.378051,56.130366,20.593684,20.593684,30.375321],\"legendgroup\":\"\",\"lon\":[78.96288,-95.712891,-95.712891,78.96288,-95.712891,10.451526,-95.712891,-95.712891,-106.346771,-95.712891,-3.435973,-106.346771,78.96288,78.96288,69.345116],\"marker\":{\"color\":\"#636efa\",\"size\":[5711208484,3647987299,2634,3378047383,5614621131,3234880084,1026425106,3606912471,7172386509,12880388253,3736069980,1820559912,2262690743,1138262456,4340213066],\"sizemode\":\"area\",\"sizeref\":570000000.0,\"symbol\":\"circle\"},\"mode\":\"markers\",\"name\":\"\",\"showlegend\":false,\"type\":\"scattergeo\"}],\"name\":\"Science & Technology\"},{\"data\":[{\"geo\":\"geo\",\"hovertemplate\":\"category=Movies<br>video views=%{marker.size}<br>Latitude=%{lat}<br>Longitude=%{lon}<extra></extra>\",\"lat\":[20.593684,20.593684],\"legendgroup\":\"\",\"lon\":[78.96288,78.96288],\"marker\":{\"color\":\"#636efa\",\"size\":[10062770060,5320485069],\"sizemode\":\"area\",\"sizeref\":570000000.0,\"symbol\":\"circle\"},\"mode\":\"markers\",\"name\":\"\",\"showlegend\":false,\"type\":\"scattergeo\"}],\"name\":\"Movies\"},{\"data\":[{\"geo\":\"geo\",\"hovertemplate\":\"category=Pets & Animals<br>video views=%{marker.size}<br>Latitude=%{lat}<br>Longitude=%{lon}<extra></extra>\",\"lat\":[37.09024,37.09024,55.378051],\"legendgroup\":\"\",\"lon\":[-95.712891,-95.712891,-3.435973],\"marker\":{\"color\":\"#636efa\",\"size\":[20289689389,4927879069,9685060624],\"sizemode\":\"area\",\"sizeref\":570000000.0,\"symbol\":\"circle\"},\"mode\":\"markers\",\"name\":\"\",\"showlegend\":false,\"type\":\"scattergeo\"}],\"name\":\"Pets & Animals\"},{\"data\":[{\"geo\":\"geo\",\"hovertemplate\":\"category=Autos & Vehicles<br>video views=%{marker.size}<br>Latitude=%{lat}<br>Longitude=%{lon}<extra></extra>\",\"lat\":[-14.235004,23.424076],\"legendgroup\":\"\",\"lon\":[-51.92528,53.847818],\"marker\":{\"color\":\"#636efa\",\"size\":[9597894786,5405563355],\"sizemode\":\"area\",\"sizeref\":570000000.0,\"symbol\":\"circle\"},\"mode\":\"markers\",\"name\":\"\",\"showlegend\":false,\"type\":\"scattergeo\"}],\"name\":\"Autos & Vehicles\"},{\"data\":[{\"geo\":\"geo\",\"hovertemplate\":\"category=Travel & Events<br>video views=%{marker.size}<br>Latitude=%{lat}<br>Longitude=%{lon}<extra></extra>\",\"lat\":[23.634501],\"legendgroup\":\"\",\"lon\":[-102.552784],\"marker\":{\"color\":\"#636efa\",\"size\":[3140883140],\"sizemode\":\"area\",\"sizeref\":570000000.0,\"symbol\":\"circle\"},\"mode\":\"markers\",\"name\":\"\",\"showlegend\":false,\"type\":\"scattergeo\"}],\"name\":\"Travel & Events\"}]);\n",
       "                        }).then(function(){\n",
       "                            \n",
       "var gd = document.getElementById('deb8da5c-3ee0-46b7-9075-f1038b4734dc');\n",
       "var x = new MutationObserver(function (mutations, observer) {{\n",
       "        var display = window.getComputedStyle(gd).display;\n",
       "        if (!display || display === 'none') {{\n",
       "            console.log([gd, 'removed!']);\n",
       "            Plotly.purge(gd);\n",
       "            observer.disconnect();\n",
       "        }}\n",
       "}});\n",
       "\n",
       "// Listen for the removal of the full notebook cells\n",
       "var notebookContainer = gd.closest('#notebook-container');\n",
       "if (notebookContainer) {{\n",
       "    x.observe(notebookContainer, {childList: true});\n",
       "}}\n",
       "\n",
       "// Listen for the clearing of the current output cell\n",
       "var outputEl = gd.closest('.output');\n",
       "if (outputEl) {{\n",
       "    x.observe(outputEl, {childList: true});\n",
       "}}\n",
       "\n",
       "                        })                };                });            </script>        </div>"
      ]
     },
     "metadata": {},
     "output_type": "display_data"
    }
   ],
   "source": [
    "fig2 = px.scatter_geo(df1, lat='Latitude', lon='Longitude', size='video views', projection='natural earth',\n",
    "                      animation_frame='category',title='Geographic Distribution of Viewers',height=500,width=1000)\n",
    "fig2.show()"
   ]
  },
  {
   "cell_type": "markdown",
   "id": "6eed09c2",
   "metadata": {},
   "source": [
    "# Total Video Uploads by Year"
   ]
  },
  {
   "cell_type": "code",
   "execution_count": 48,
   "id": "6a616613",
   "metadata": {},
   "outputs": [
    {
     "data": {
      "text/html": [
       "<div>\n",
       "<style scoped>\n",
       "    .dataframe tbody tr th:only-of-type {\n",
       "        vertical-align: middle;\n",
       "    }\n",
       "\n",
       "    .dataframe tbody tr th {\n",
       "        vertical-align: top;\n",
       "    }\n",
       "\n",
       "    .dataframe thead th {\n",
       "        text-align: right;\n",
       "    }\n",
       "</style>\n",
       "<table border=\"1\" class=\"dataframe\">\n",
       "  <thead>\n",
       "    <tr style=\"text-align: right;\">\n",
       "      <th></th>\n",
       "      <th>created_year</th>\n",
       "      <th>uploads</th>\n",
       "    </tr>\n",
       "  </thead>\n",
       "  <tbody>\n",
       "    <tr>\n",
       "      <th>0</th>\n",
       "      <td>2006</td>\n",
       "      <td>20082</td>\n",
       "    </tr>\n",
       "    <tr>\n",
       "      <th>1</th>\n",
       "      <td>2006</td>\n",
       "      <td>1</td>\n",
       "    </tr>\n",
       "    <tr>\n",
       "      <th>2</th>\n",
       "      <td>2012</td>\n",
       "      <td>741</td>\n",
       "    </tr>\n",
       "    <tr>\n",
       "      <th>3</th>\n",
       "      <td>2006</td>\n",
       "      <td>966</td>\n",
       "    </tr>\n",
       "    <tr>\n",
       "      <th>4</th>\n",
       "      <td>2006</td>\n",
       "      <td>116536</td>\n",
       "    </tr>\n",
       "    <tr>\n",
       "      <th>...</th>\n",
       "      <td>...</td>\n",
       "      <td>...</td>\n",
       "    </tr>\n",
       "    <tr>\n",
       "      <th>864</th>\n",
       "      <td>2017</td>\n",
       "      <td>1200</td>\n",
       "    </tr>\n",
       "    <tr>\n",
       "      <th>865</th>\n",
       "      <td>2018</td>\n",
       "      <td>1500</td>\n",
       "    </tr>\n",
       "    <tr>\n",
       "      <th>866</th>\n",
       "      <td>2006</td>\n",
       "      <td>2452</td>\n",
       "    </tr>\n",
       "    <tr>\n",
       "      <th>867</th>\n",
       "      <td>2012</td>\n",
       "      <td>39</td>\n",
       "    </tr>\n",
       "    <tr>\n",
       "      <th>868</th>\n",
       "      <td>2017</td>\n",
       "      <td>62</td>\n",
       "    </tr>\n",
       "  </tbody>\n",
       "</table>\n",
       "<p>868 rows × 2 columns</p>\n",
       "</div>"
      ],
      "text/plain": [
       "     created_year  uploads\n",
       "0            2006    20082\n",
       "1            2006        1\n",
       "2            2012      741\n",
       "3            2006      966\n",
       "4            2006   116536\n",
       "..            ...      ...\n",
       "864          2017     1200\n",
       "865          2018     1500\n",
       "866          2006     2452\n",
       "867          2012       39\n",
       "868          2017       62\n",
       "\n",
       "[868 rows x 2 columns]"
      ]
     },
     "execution_count": 48,
     "metadata": {},
     "output_type": "execute_result"
    }
   ],
   "source": [
    "df2 = df1[['created_year','uploads']]\n",
    "df2"
   ]
  },
  {
   "cell_type": "code",
   "execution_count": 52,
   "id": "e50e0916",
   "metadata": {},
   "outputs": [
    {
     "data": {
      "application/vnd.plotly.v1+json": {
       "config": {
        "plotlyServerURL": "https://plot.ly"
       },
       "data": [
        {
         "alignmentgroup": "True",
         "hovertemplate": "created_year=%{x}<br>uploads=%{y}<extra></extra>",
         "legendgroup": "",
         "marker": {
          "color": "#636efa",
          "pattern": {
           "shape": ""
          }
         },
         "name": "",
         "offsetgroup": "",
         "orientation": "v",
         "showlegend": false,
         "textposition": "auto",
         "type": "bar",
         "x": [
          2005,
          2006,
          2007,
          2008,
          2009,
          2010,
          2011,
          2012,
          2013,
          2014,
          2015,
          2016,
          2017,
          2018,
          2019,
          2020,
          2021,
          2022
         ],
         "xaxis": "x",
         "y": [
          418501,
          1565390,
          1245708,
          798536,
          798177,
          516360,
          535328,
          610165,
          718363,
          799507,
          189865,
          262623,
          95188,
          425288,
          17020,
          58147,
          19950,
          834
         ],
         "yaxis": "y"
        }
       ],
       "layout": {
        "barmode": "relative",
        "legend": {
         "tracegroupgap": 0
        },
        "template": {
         "data": {
          "bar": [
           {
            "error_x": {
             "color": "#2a3f5f"
            },
            "error_y": {
             "color": "#2a3f5f"
            },
            "marker": {
             "line": {
              "color": "#E5ECF6",
              "width": 0.5
             },
             "pattern": {
              "fillmode": "overlay",
              "size": 10,
              "solidity": 0.2
             }
            },
            "type": "bar"
           }
          ],
          "barpolar": [
           {
            "marker": {
             "line": {
              "color": "#E5ECF6",
              "width": 0.5
             },
             "pattern": {
              "fillmode": "overlay",
              "size": 10,
              "solidity": 0.2
             }
            },
            "type": "barpolar"
           }
          ],
          "carpet": [
           {
            "aaxis": {
             "endlinecolor": "#2a3f5f",
             "gridcolor": "white",
             "linecolor": "white",
             "minorgridcolor": "white",
             "startlinecolor": "#2a3f5f"
            },
            "baxis": {
             "endlinecolor": "#2a3f5f",
             "gridcolor": "white",
             "linecolor": "white",
             "minorgridcolor": "white",
             "startlinecolor": "#2a3f5f"
            },
            "type": "carpet"
           }
          ],
          "choropleth": [
           {
            "colorbar": {
             "outlinewidth": 0,
             "ticks": ""
            },
            "type": "choropleth"
           }
          ],
          "contour": [
           {
            "colorbar": {
             "outlinewidth": 0,
             "ticks": ""
            },
            "colorscale": [
             [
              0,
              "#0d0887"
             ],
             [
              0.1111111111111111,
              "#46039f"
             ],
             [
              0.2222222222222222,
              "#7201a8"
             ],
             [
              0.3333333333333333,
              "#9c179e"
             ],
             [
              0.4444444444444444,
              "#bd3786"
             ],
             [
              0.5555555555555556,
              "#d8576b"
             ],
             [
              0.6666666666666666,
              "#ed7953"
             ],
             [
              0.7777777777777778,
              "#fb9f3a"
             ],
             [
              0.8888888888888888,
              "#fdca26"
             ],
             [
              1,
              "#f0f921"
             ]
            ],
            "type": "contour"
           }
          ],
          "contourcarpet": [
           {
            "colorbar": {
             "outlinewidth": 0,
             "ticks": ""
            },
            "type": "contourcarpet"
           }
          ],
          "heatmap": [
           {
            "colorbar": {
             "outlinewidth": 0,
             "ticks": ""
            },
            "colorscale": [
             [
              0,
              "#0d0887"
             ],
             [
              0.1111111111111111,
              "#46039f"
             ],
             [
              0.2222222222222222,
              "#7201a8"
             ],
             [
              0.3333333333333333,
              "#9c179e"
             ],
             [
              0.4444444444444444,
              "#bd3786"
             ],
             [
              0.5555555555555556,
              "#d8576b"
             ],
             [
              0.6666666666666666,
              "#ed7953"
             ],
             [
              0.7777777777777778,
              "#fb9f3a"
             ],
             [
              0.8888888888888888,
              "#fdca26"
             ],
             [
              1,
              "#f0f921"
             ]
            ],
            "type": "heatmap"
           }
          ],
          "heatmapgl": [
           {
            "colorbar": {
             "outlinewidth": 0,
             "ticks": ""
            },
            "colorscale": [
             [
              0,
              "#0d0887"
             ],
             [
              0.1111111111111111,
              "#46039f"
             ],
             [
              0.2222222222222222,
              "#7201a8"
             ],
             [
              0.3333333333333333,
              "#9c179e"
             ],
             [
              0.4444444444444444,
              "#bd3786"
             ],
             [
              0.5555555555555556,
              "#d8576b"
             ],
             [
              0.6666666666666666,
              "#ed7953"
             ],
             [
              0.7777777777777778,
              "#fb9f3a"
             ],
             [
              0.8888888888888888,
              "#fdca26"
             ],
             [
              1,
              "#f0f921"
             ]
            ],
            "type": "heatmapgl"
           }
          ],
          "histogram": [
           {
            "marker": {
             "pattern": {
              "fillmode": "overlay",
              "size": 10,
              "solidity": 0.2
             }
            },
            "type": "histogram"
           }
          ],
          "histogram2d": [
           {
            "colorbar": {
             "outlinewidth": 0,
             "ticks": ""
            },
            "colorscale": [
             [
              0,
              "#0d0887"
             ],
             [
              0.1111111111111111,
              "#46039f"
             ],
             [
              0.2222222222222222,
              "#7201a8"
             ],
             [
              0.3333333333333333,
              "#9c179e"
             ],
             [
              0.4444444444444444,
              "#bd3786"
             ],
             [
              0.5555555555555556,
              "#d8576b"
             ],
             [
              0.6666666666666666,
              "#ed7953"
             ],
             [
              0.7777777777777778,
              "#fb9f3a"
             ],
             [
              0.8888888888888888,
              "#fdca26"
             ],
             [
              1,
              "#f0f921"
             ]
            ],
            "type": "histogram2d"
           }
          ],
          "histogram2dcontour": [
           {
            "colorbar": {
             "outlinewidth": 0,
             "ticks": ""
            },
            "colorscale": [
             [
              0,
              "#0d0887"
             ],
             [
              0.1111111111111111,
              "#46039f"
             ],
             [
              0.2222222222222222,
              "#7201a8"
             ],
             [
              0.3333333333333333,
              "#9c179e"
             ],
             [
              0.4444444444444444,
              "#bd3786"
             ],
             [
              0.5555555555555556,
              "#d8576b"
             ],
             [
              0.6666666666666666,
              "#ed7953"
             ],
             [
              0.7777777777777778,
              "#fb9f3a"
             ],
             [
              0.8888888888888888,
              "#fdca26"
             ],
             [
              1,
              "#f0f921"
             ]
            ],
            "type": "histogram2dcontour"
           }
          ],
          "mesh3d": [
           {
            "colorbar": {
             "outlinewidth": 0,
             "ticks": ""
            },
            "type": "mesh3d"
           }
          ],
          "parcoords": [
           {
            "line": {
             "colorbar": {
              "outlinewidth": 0,
              "ticks": ""
             }
            },
            "type": "parcoords"
           }
          ],
          "pie": [
           {
            "automargin": true,
            "type": "pie"
           }
          ],
          "scatter": [
           {
            "fillpattern": {
             "fillmode": "overlay",
             "size": 10,
             "solidity": 0.2
            },
            "type": "scatter"
           }
          ],
          "scatter3d": [
           {
            "line": {
             "colorbar": {
              "outlinewidth": 0,
              "ticks": ""
             }
            },
            "marker": {
             "colorbar": {
              "outlinewidth": 0,
              "ticks": ""
             }
            },
            "type": "scatter3d"
           }
          ],
          "scattercarpet": [
           {
            "marker": {
             "colorbar": {
              "outlinewidth": 0,
              "ticks": ""
             }
            },
            "type": "scattercarpet"
           }
          ],
          "scattergeo": [
           {
            "marker": {
             "colorbar": {
              "outlinewidth": 0,
              "ticks": ""
             }
            },
            "type": "scattergeo"
           }
          ],
          "scattergl": [
           {
            "marker": {
             "colorbar": {
              "outlinewidth": 0,
              "ticks": ""
             }
            },
            "type": "scattergl"
           }
          ],
          "scattermapbox": [
           {
            "marker": {
             "colorbar": {
              "outlinewidth": 0,
              "ticks": ""
             }
            },
            "type": "scattermapbox"
           }
          ],
          "scatterpolar": [
           {
            "marker": {
             "colorbar": {
              "outlinewidth": 0,
              "ticks": ""
             }
            },
            "type": "scatterpolar"
           }
          ],
          "scatterpolargl": [
           {
            "marker": {
             "colorbar": {
              "outlinewidth": 0,
              "ticks": ""
             }
            },
            "type": "scatterpolargl"
           }
          ],
          "scatterternary": [
           {
            "marker": {
             "colorbar": {
              "outlinewidth": 0,
              "ticks": ""
             }
            },
            "type": "scatterternary"
           }
          ],
          "surface": [
           {
            "colorbar": {
             "outlinewidth": 0,
             "ticks": ""
            },
            "colorscale": [
             [
              0,
              "#0d0887"
             ],
             [
              0.1111111111111111,
              "#46039f"
             ],
             [
              0.2222222222222222,
              "#7201a8"
             ],
             [
              0.3333333333333333,
              "#9c179e"
             ],
             [
              0.4444444444444444,
              "#bd3786"
             ],
             [
              0.5555555555555556,
              "#d8576b"
             ],
             [
              0.6666666666666666,
              "#ed7953"
             ],
             [
              0.7777777777777778,
              "#fb9f3a"
             ],
             [
              0.8888888888888888,
              "#fdca26"
             ],
             [
              1,
              "#f0f921"
             ]
            ],
            "type": "surface"
           }
          ],
          "table": [
           {
            "cells": {
             "fill": {
              "color": "#EBF0F8"
             },
             "line": {
              "color": "white"
             }
            },
            "header": {
             "fill": {
              "color": "#C8D4E3"
             },
             "line": {
              "color": "white"
             }
            },
            "type": "table"
           }
          ]
         },
         "layout": {
          "annotationdefaults": {
           "arrowcolor": "#2a3f5f",
           "arrowhead": 0,
           "arrowwidth": 1
          },
          "autotypenumbers": "strict",
          "coloraxis": {
           "colorbar": {
            "outlinewidth": 0,
            "ticks": ""
           }
          },
          "colorscale": {
           "diverging": [
            [
             0,
             "#8e0152"
            ],
            [
             0.1,
             "#c51b7d"
            ],
            [
             0.2,
             "#de77ae"
            ],
            [
             0.3,
             "#f1b6da"
            ],
            [
             0.4,
             "#fde0ef"
            ],
            [
             0.5,
             "#f7f7f7"
            ],
            [
             0.6,
             "#e6f5d0"
            ],
            [
             0.7,
             "#b8e186"
            ],
            [
             0.8,
             "#7fbc41"
            ],
            [
             0.9,
             "#4d9221"
            ],
            [
             1,
             "#276419"
            ]
           ],
           "sequential": [
            [
             0,
             "#0d0887"
            ],
            [
             0.1111111111111111,
             "#46039f"
            ],
            [
             0.2222222222222222,
             "#7201a8"
            ],
            [
             0.3333333333333333,
             "#9c179e"
            ],
            [
             0.4444444444444444,
             "#bd3786"
            ],
            [
             0.5555555555555556,
             "#d8576b"
            ],
            [
             0.6666666666666666,
             "#ed7953"
            ],
            [
             0.7777777777777778,
             "#fb9f3a"
            ],
            [
             0.8888888888888888,
             "#fdca26"
            ],
            [
             1,
             "#f0f921"
            ]
           ],
           "sequentialminus": [
            [
             0,
             "#0d0887"
            ],
            [
             0.1111111111111111,
             "#46039f"
            ],
            [
             0.2222222222222222,
             "#7201a8"
            ],
            [
             0.3333333333333333,
             "#9c179e"
            ],
            [
             0.4444444444444444,
             "#bd3786"
            ],
            [
             0.5555555555555556,
             "#d8576b"
            ],
            [
             0.6666666666666666,
             "#ed7953"
            ],
            [
             0.7777777777777778,
             "#fb9f3a"
            ],
            [
             0.8888888888888888,
             "#fdca26"
            ],
            [
             1,
             "#f0f921"
            ]
           ]
          },
          "colorway": [
           "#636efa",
           "#EF553B",
           "#00cc96",
           "#ab63fa",
           "#FFA15A",
           "#19d3f3",
           "#FF6692",
           "#B6E880",
           "#FF97FF",
           "#FECB52"
          ],
          "font": {
           "color": "#2a3f5f"
          },
          "geo": {
           "bgcolor": "white",
           "lakecolor": "white",
           "landcolor": "#E5ECF6",
           "showlakes": true,
           "showland": true,
           "subunitcolor": "white"
          },
          "hoverlabel": {
           "align": "left"
          },
          "hovermode": "closest",
          "mapbox": {
           "style": "light"
          },
          "paper_bgcolor": "white",
          "plot_bgcolor": "#E5ECF6",
          "polar": {
           "angularaxis": {
            "gridcolor": "white",
            "linecolor": "white",
            "ticks": ""
           },
           "bgcolor": "#E5ECF6",
           "radialaxis": {
            "gridcolor": "white",
            "linecolor": "white",
            "ticks": ""
           }
          },
          "scene": {
           "xaxis": {
            "backgroundcolor": "#E5ECF6",
            "gridcolor": "white",
            "gridwidth": 2,
            "linecolor": "white",
            "showbackground": true,
            "ticks": "",
            "zerolinecolor": "white"
           },
           "yaxis": {
            "backgroundcolor": "#E5ECF6",
            "gridcolor": "white",
            "gridwidth": 2,
            "linecolor": "white",
            "showbackground": true,
            "ticks": "",
            "zerolinecolor": "white"
           },
           "zaxis": {
            "backgroundcolor": "#E5ECF6",
            "gridcolor": "white",
            "gridwidth": 2,
            "linecolor": "white",
            "showbackground": true,
            "ticks": "",
            "zerolinecolor": "white"
           }
          },
          "shapedefaults": {
           "line": {
            "color": "#2a3f5f"
           }
          },
          "ternary": {
           "aaxis": {
            "gridcolor": "white",
            "linecolor": "white",
            "ticks": ""
           },
           "baxis": {
            "gridcolor": "white",
            "linecolor": "white",
            "ticks": ""
           },
           "bgcolor": "#E5ECF6",
           "caxis": {
            "gridcolor": "white",
            "linecolor": "white",
            "ticks": ""
           }
          },
          "title": {
           "x": 0.05
          },
          "xaxis": {
           "automargin": true,
           "gridcolor": "white",
           "linecolor": "white",
           "ticks": "",
           "title": {
            "standoff": 15
           },
           "zerolinecolor": "white",
           "zerolinewidth": 2
          },
          "yaxis": {
           "automargin": true,
           "gridcolor": "white",
           "linecolor": "white",
           "ticks": "",
           "title": {
            "standoff": 15
           },
           "zerolinecolor": "white",
           "zerolinewidth": 2
          }
         }
        },
        "title": {
         "text": "Total video Uploads by Year"
        },
        "xaxis": {
         "anchor": "y",
         "domain": [
          0,
          1
         ],
         "title": {
          "text": "created_year"
         }
        },
        "yaxis": {
         "anchor": "x",
         "domain": [
          0,
          1
         ],
         "title": {
          "text": "uploads"
         }
        }
       }
      },
      "text/html": [
       "<div>                            <div id=\"9e2992fe-046c-46a6-9a23-529f44697b6b\" class=\"plotly-graph-div\" style=\"height:525px; width:100%;\"></div>            <script type=\"text/javascript\">                require([\"plotly\"], function(Plotly) {                    window.PLOTLYENV=window.PLOTLYENV || {};                                    if (document.getElementById(\"9e2992fe-046c-46a6-9a23-529f44697b6b\")) {                    Plotly.newPlot(                        \"9e2992fe-046c-46a6-9a23-529f44697b6b\",                        [{\"alignmentgroup\":\"True\",\"hovertemplate\":\"created_year=%{x}<br>uploads=%{y}<extra></extra>\",\"legendgroup\":\"\",\"marker\":{\"color\":\"#636efa\",\"pattern\":{\"shape\":\"\"}},\"name\":\"\",\"offsetgroup\":\"\",\"orientation\":\"v\",\"showlegend\":false,\"textposition\":\"auto\",\"x\":[2005,2006,2007,2008,2009,2010,2011,2012,2013,2014,2015,2016,2017,2018,2019,2020,2021,2022],\"xaxis\":\"x\",\"y\":[418501,1565390,1245708,798536,798177,516360,535328,610165,718363,799507,189865,262623,95188,425288,17020,58147,19950,834],\"yaxis\":\"y\",\"type\":\"bar\"}],                        {\"template\":{\"data\":{\"histogram2dcontour\":[{\"type\":\"histogram2dcontour\",\"colorbar\":{\"outlinewidth\":0,\"ticks\":\"\"},\"colorscale\":[[0.0,\"#0d0887\"],[0.1111111111111111,\"#46039f\"],[0.2222222222222222,\"#7201a8\"],[0.3333333333333333,\"#9c179e\"],[0.4444444444444444,\"#bd3786\"],[0.5555555555555556,\"#d8576b\"],[0.6666666666666666,\"#ed7953\"],[0.7777777777777778,\"#fb9f3a\"],[0.8888888888888888,\"#fdca26\"],[1.0,\"#f0f921\"]]}],\"choropleth\":[{\"type\":\"choropleth\",\"colorbar\":{\"outlinewidth\":0,\"ticks\":\"\"}}],\"histogram2d\":[{\"type\":\"histogram2d\",\"colorbar\":{\"outlinewidth\":0,\"ticks\":\"\"},\"colorscale\":[[0.0,\"#0d0887\"],[0.1111111111111111,\"#46039f\"],[0.2222222222222222,\"#7201a8\"],[0.3333333333333333,\"#9c179e\"],[0.4444444444444444,\"#bd3786\"],[0.5555555555555556,\"#d8576b\"],[0.6666666666666666,\"#ed7953\"],[0.7777777777777778,\"#fb9f3a\"],[0.8888888888888888,\"#fdca26\"],[1.0,\"#f0f921\"]]}],\"heatmap\":[{\"type\":\"heatmap\",\"colorbar\":{\"outlinewidth\":0,\"ticks\":\"\"},\"colorscale\":[[0.0,\"#0d0887\"],[0.1111111111111111,\"#46039f\"],[0.2222222222222222,\"#7201a8\"],[0.3333333333333333,\"#9c179e\"],[0.4444444444444444,\"#bd3786\"],[0.5555555555555556,\"#d8576b\"],[0.6666666666666666,\"#ed7953\"],[0.7777777777777778,\"#fb9f3a\"],[0.8888888888888888,\"#fdca26\"],[1.0,\"#f0f921\"]]}],\"heatmapgl\":[{\"type\":\"heatmapgl\",\"colorbar\":{\"outlinewidth\":0,\"ticks\":\"\"},\"colorscale\":[[0.0,\"#0d0887\"],[0.1111111111111111,\"#46039f\"],[0.2222222222222222,\"#7201a8\"],[0.3333333333333333,\"#9c179e\"],[0.4444444444444444,\"#bd3786\"],[0.5555555555555556,\"#d8576b\"],[0.6666666666666666,\"#ed7953\"],[0.7777777777777778,\"#fb9f3a\"],[0.8888888888888888,\"#fdca26\"],[1.0,\"#f0f921\"]]}],\"contourcarpet\":[{\"type\":\"contourcarpet\",\"colorbar\":{\"outlinewidth\":0,\"ticks\":\"\"}}],\"contour\":[{\"type\":\"contour\",\"colorbar\":{\"outlinewidth\":0,\"ticks\":\"\"},\"colorscale\":[[0.0,\"#0d0887\"],[0.1111111111111111,\"#46039f\"],[0.2222222222222222,\"#7201a8\"],[0.3333333333333333,\"#9c179e\"],[0.4444444444444444,\"#bd3786\"],[0.5555555555555556,\"#d8576b\"],[0.6666666666666666,\"#ed7953\"],[0.7777777777777778,\"#fb9f3a\"],[0.8888888888888888,\"#fdca26\"],[1.0,\"#f0f921\"]]}],\"surface\":[{\"type\":\"surface\",\"colorbar\":{\"outlinewidth\":0,\"ticks\":\"\"},\"colorscale\":[[0.0,\"#0d0887\"],[0.1111111111111111,\"#46039f\"],[0.2222222222222222,\"#7201a8\"],[0.3333333333333333,\"#9c179e\"],[0.4444444444444444,\"#bd3786\"],[0.5555555555555556,\"#d8576b\"],[0.6666666666666666,\"#ed7953\"],[0.7777777777777778,\"#fb9f3a\"],[0.8888888888888888,\"#fdca26\"],[1.0,\"#f0f921\"]]}],\"mesh3d\":[{\"type\":\"mesh3d\",\"colorbar\":{\"outlinewidth\":0,\"ticks\":\"\"}}],\"scatter\":[{\"fillpattern\":{\"fillmode\":\"overlay\",\"size\":10,\"solidity\":0.2},\"type\":\"scatter\"}],\"parcoords\":[{\"type\":\"parcoords\",\"line\":{\"colorbar\":{\"outlinewidth\":0,\"ticks\":\"\"}}}],\"scatterpolargl\":[{\"type\":\"scatterpolargl\",\"marker\":{\"colorbar\":{\"outlinewidth\":0,\"ticks\":\"\"}}}],\"bar\":[{\"error_x\":{\"color\":\"#2a3f5f\"},\"error_y\":{\"color\":\"#2a3f5f\"},\"marker\":{\"line\":{\"color\":\"#E5ECF6\",\"width\":0.5},\"pattern\":{\"fillmode\":\"overlay\",\"size\":10,\"solidity\":0.2}},\"type\":\"bar\"}],\"scattergeo\":[{\"type\":\"scattergeo\",\"marker\":{\"colorbar\":{\"outlinewidth\":0,\"ticks\":\"\"}}}],\"scatterpolar\":[{\"type\":\"scatterpolar\",\"marker\":{\"colorbar\":{\"outlinewidth\":0,\"ticks\":\"\"}}}],\"histogram\":[{\"marker\":{\"pattern\":{\"fillmode\":\"overlay\",\"size\":10,\"solidity\":0.2}},\"type\":\"histogram\"}],\"scattergl\":[{\"type\":\"scattergl\",\"marker\":{\"colorbar\":{\"outlinewidth\":0,\"ticks\":\"\"}}}],\"scatter3d\":[{\"type\":\"scatter3d\",\"line\":{\"colorbar\":{\"outlinewidth\":0,\"ticks\":\"\"}},\"marker\":{\"colorbar\":{\"outlinewidth\":0,\"ticks\":\"\"}}}],\"scattermapbox\":[{\"type\":\"scattermapbox\",\"marker\":{\"colorbar\":{\"outlinewidth\":0,\"ticks\":\"\"}}}],\"scatterternary\":[{\"type\":\"scatterternary\",\"marker\":{\"colorbar\":{\"outlinewidth\":0,\"ticks\":\"\"}}}],\"scattercarpet\":[{\"type\":\"scattercarpet\",\"marker\":{\"colorbar\":{\"outlinewidth\":0,\"ticks\":\"\"}}}],\"carpet\":[{\"aaxis\":{\"endlinecolor\":\"#2a3f5f\",\"gridcolor\":\"white\",\"linecolor\":\"white\",\"minorgridcolor\":\"white\",\"startlinecolor\":\"#2a3f5f\"},\"baxis\":{\"endlinecolor\":\"#2a3f5f\",\"gridcolor\":\"white\",\"linecolor\":\"white\",\"minorgridcolor\":\"white\",\"startlinecolor\":\"#2a3f5f\"},\"type\":\"carpet\"}],\"table\":[{\"cells\":{\"fill\":{\"color\":\"#EBF0F8\"},\"line\":{\"color\":\"white\"}},\"header\":{\"fill\":{\"color\":\"#C8D4E3\"},\"line\":{\"color\":\"white\"}},\"type\":\"table\"}],\"barpolar\":[{\"marker\":{\"line\":{\"color\":\"#E5ECF6\",\"width\":0.5},\"pattern\":{\"fillmode\":\"overlay\",\"size\":10,\"solidity\":0.2}},\"type\":\"barpolar\"}],\"pie\":[{\"automargin\":true,\"type\":\"pie\"}]},\"layout\":{\"autotypenumbers\":\"strict\",\"colorway\":[\"#636efa\",\"#EF553B\",\"#00cc96\",\"#ab63fa\",\"#FFA15A\",\"#19d3f3\",\"#FF6692\",\"#B6E880\",\"#FF97FF\",\"#FECB52\"],\"font\":{\"color\":\"#2a3f5f\"},\"hovermode\":\"closest\",\"hoverlabel\":{\"align\":\"left\"},\"paper_bgcolor\":\"white\",\"plot_bgcolor\":\"#E5ECF6\",\"polar\":{\"bgcolor\":\"#E5ECF6\",\"angularaxis\":{\"gridcolor\":\"white\",\"linecolor\":\"white\",\"ticks\":\"\"},\"radialaxis\":{\"gridcolor\":\"white\",\"linecolor\":\"white\",\"ticks\":\"\"}},\"ternary\":{\"bgcolor\":\"#E5ECF6\",\"aaxis\":{\"gridcolor\":\"white\",\"linecolor\":\"white\",\"ticks\":\"\"},\"baxis\":{\"gridcolor\":\"white\",\"linecolor\":\"white\",\"ticks\":\"\"},\"caxis\":{\"gridcolor\":\"white\",\"linecolor\":\"white\",\"ticks\":\"\"}},\"coloraxis\":{\"colorbar\":{\"outlinewidth\":0,\"ticks\":\"\"}},\"colorscale\":{\"sequential\":[[0.0,\"#0d0887\"],[0.1111111111111111,\"#46039f\"],[0.2222222222222222,\"#7201a8\"],[0.3333333333333333,\"#9c179e\"],[0.4444444444444444,\"#bd3786\"],[0.5555555555555556,\"#d8576b\"],[0.6666666666666666,\"#ed7953\"],[0.7777777777777778,\"#fb9f3a\"],[0.8888888888888888,\"#fdca26\"],[1.0,\"#f0f921\"]],\"sequentialminus\":[[0.0,\"#0d0887\"],[0.1111111111111111,\"#46039f\"],[0.2222222222222222,\"#7201a8\"],[0.3333333333333333,\"#9c179e\"],[0.4444444444444444,\"#bd3786\"],[0.5555555555555556,\"#d8576b\"],[0.6666666666666666,\"#ed7953\"],[0.7777777777777778,\"#fb9f3a\"],[0.8888888888888888,\"#fdca26\"],[1.0,\"#f0f921\"]],\"diverging\":[[0,\"#8e0152\"],[0.1,\"#c51b7d\"],[0.2,\"#de77ae\"],[0.3,\"#f1b6da\"],[0.4,\"#fde0ef\"],[0.5,\"#f7f7f7\"],[0.6,\"#e6f5d0\"],[0.7,\"#b8e186\"],[0.8,\"#7fbc41\"],[0.9,\"#4d9221\"],[1,\"#276419\"]]},\"xaxis\":{\"gridcolor\":\"white\",\"linecolor\":\"white\",\"ticks\":\"\",\"title\":{\"standoff\":15},\"zerolinecolor\":\"white\",\"automargin\":true,\"zerolinewidth\":2},\"yaxis\":{\"gridcolor\":\"white\",\"linecolor\":\"white\",\"ticks\":\"\",\"title\":{\"standoff\":15},\"zerolinecolor\":\"white\",\"automargin\":true,\"zerolinewidth\":2},\"scene\":{\"xaxis\":{\"backgroundcolor\":\"#E5ECF6\",\"gridcolor\":\"white\",\"linecolor\":\"white\",\"showbackground\":true,\"ticks\":\"\",\"zerolinecolor\":\"white\",\"gridwidth\":2},\"yaxis\":{\"backgroundcolor\":\"#E5ECF6\",\"gridcolor\":\"white\",\"linecolor\":\"white\",\"showbackground\":true,\"ticks\":\"\",\"zerolinecolor\":\"white\",\"gridwidth\":2},\"zaxis\":{\"backgroundcolor\":\"#E5ECF6\",\"gridcolor\":\"white\",\"linecolor\":\"white\",\"showbackground\":true,\"ticks\":\"\",\"zerolinecolor\":\"white\",\"gridwidth\":2}},\"shapedefaults\":{\"line\":{\"color\":\"#2a3f5f\"}},\"annotationdefaults\":{\"arrowcolor\":\"#2a3f5f\",\"arrowhead\":0,\"arrowwidth\":1},\"geo\":{\"bgcolor\":\"white\",\"landcolor\":\"#E5ECF6\",\"subunitcolor\":\"white\",\"showland\":true,\"showlakes\":true,\"lakecolor\":\"white\"},\"title\":{\"x\":0.05},\"mapbox\":{\"style\":\"light\"}}},\"xaxis\":{\"anchor\":\"y\",\"domain\":[0.0,1.0],\"title\":{\"text\":\"created_year\"}},\"yaxis\":{\"anchor\":\"x\",\"domain\":[0.0,1.0],\"title\":{\"text\":\"uploads\"}},\"legend\":{\"tracegroupgap\":0},\"title\":{\"text\":\"Total video Uploads by Year\"},\"barmode\":\"relative\"},                        {\"responsive\": true}                    ).then(function(){\n",
       "                            \n",
       "var gd = document.getElementById('9e2992fe-046c-46a6-9a23-529f44697b6b');\n",
       "var x = new MutationObserver(function (mutations, observer) {{\n",
       "        var display = window.getComputedStyle(gd).display;\n",
       "        if (!display || display === 'none') {{\n",
       "            console.log([gd, 'removed!']);\n",
       "            Plotly.purge(gd);\n",
       "            observer.disconnect();\n",
       "        }}\n",
       "}});\n",
       "\n",
       "// Listen for the removal of the full notebook cells\n",
       "var notebookContainer = gd.closest('#notebook-container');\n",
       "if (notebookContainer) {{\n",
       "    x.observe(notebookContainer, {childList: true});\n",
       "}}\n",
       "\n",
       "// Listen for the clearing of the current output cell\n",
       "var outputEl = gd.closest('.output');\n",
       "if (outputEl) {{\n",
       "    x.observe(outputEl, {childList: true});\n",
       "}}\n",
       "\n",
       "                        })                };                });            </script>        </div>"
      ]
     },
     "metadata": {},
     "output_type": "display_data"
    }
   ],
   "source": [
    "sum_uploads_by_year = df2.groupby('created_year')['uploads'].sum().reset_index()\n",
    "\n",
    "# Create the bar plot\n",
    "# plt.figure(figsize=(10, 6))\n",
    "fig3 = px.bar(sum_uploads_by_year, x='created_year', y='uploads',title='Total video Uploads by Year')\n",
    "fig3.show()"
   ]
  },
  {
   "cell_type": "markdown",
   "id": "3981a815",
   "metadata": {},
   "source": [
    "# Top 5 Countries and Their Top 5 Categories"
   ]
  },
  {
   "cell_type": "code",
   "execution_count": 53,
   "id": "0a994b1f",
   "metadata": {},
   "outputs": [],
   "source": [
    "# Calculate total viewers and subscribers by grouping by 'Country' and 'category'\n",
    "grouped_df = df1.groupby(['Country', 'category']).agg({'video views': 'sum', 'subscribers': 'sum'}).reset_index()"
   ]
  },
  {
   "cell_type": "code",
   "execution_count": 54,
   "id": "65f31bdc",
   "metadata": {},
   "outputs": [],
   "source": [
    "# Find the top 5 countries by total 'video views'\n",
    "top_5_countries = grouped_df.groupby('Country').agg({'video views': 'sum'}).nlargest(5, 'video views').index.tolist()"
   ]
  },
  {
   "cell_type": "code",
   "execution_count": 55,
   "id": "733d23c1",
   "metadata": {},
   "outputs": [],
   "source": [
    "# Filter the DataFrame to include only data for the top 5 countries\n",
    "top_5_countries_df = grouped_df[grouped_df['Country'].isin(top_5_countries)]"
   ]
  },
  {
   "cell_type": "code",
   "execution_count": 56,
   "id": "2d52dca8",
   "metadata": {},
   "outputs": [],
   "source": [
    "# Sort the data to get the top 5 categories within each of the top 5 countries\n",
    "top_5_countries_categories_df = top_5_countries_df.groupby('Country').apply(lambda x: x.nlargest(5, 'video views')).reset_index(drop=True)"
   ]
  },
  {
   "cell_type": "code",
   "execution_count": 57,
   "id": "ac44776b",
   "metadata": {},
   "outputs": [
    {
     "data": {
      "application/vnd.plotly.v1+json": {
       "config": {
        "plotlyServerURL": "https://plot.ly"
       },
       "data": [
        {
         "branchvalues": "total",
         "customdata": [
          [
           40300983515,
           173500000
          ],
          [
           7798314629,
           29800000
          ],
          [
           232222959245,
           420700000
          ],
          [
           179179308515,
           367200000
          ],
          [
           386532495803,
           576300000
          ],
          [
           86834906058,
           286400000
          ],
          [
           551343827960,
           927500000
          ],
          [
           147917375894,
           203700000
          ],
          [
           66721005972,
           186200000
          ],
          [
           743334306596,
           1606600000
          ],
          [
           62770223957,
           140700000
          ],
          [
           30839908931,
           55000000
          ],
          [
           39652691144,
           107700000
          ],
          [
           9269174070,
           17600000
          ],
          [
           52780798646,
           125200000
          ],
          [
           180145199728,
           303800000
          ],
          [
           673625200058,
           1125300000
          ],
          [
           84769268833,
           119200000
          ],
          [
           177946742401,
           308200000
          ],
          [
           1012122856315,
           1689200000
          ],
          [
           14563841315,
           16200000
          ],
          [
           122744120145,
           254500000
          ],
          [
           30207148169,
           47200000
          ],
          [
           388617684401,
           788200000
          ],
          [
           345677199342,
           358600000
          ],
          [
           409704004402,
           "(?)"
          ],
          [
           1872569656020,
           "(?)"
          ],
          [
           264317974741,
           "(?)"
          ],
          [
           358495604119,
           "(?)"
          ],
          [
           2762830302360,
           "(?)"
          ]
         ],
         "domain": {
          "x": [
           0,
           1
          ],
          "y": [
           0,
           1
          ]
         },
         "hovertemplate": "<b>%{hovertext}</b><br><br>labels=%{label}<br>video views=%{customdata[0]}<br>parent=%{parent}<br>id=%{id}<br>subscribers=%{customdata[1]}<extra></extra>",
         "hovertext": [
          "Comedy",
          "Comedy",
          "Comedy",
          "Education",
          "Education",
          "Entertainment",
          "Entertainment",
          "Entertainment",
          "Entertainment",
          "Entertainment",
          "Film & Animation",
          "Film & Animation",
          "Gaming",
          "Gaming",
          "Gaming",
          "Music",
          "Music",
          "Music",
          "Music",
          "Music",
          "News & Politics",
          "People & Blogs",
          "People & Blogs",
          "People & Blogs",
          "Shows",
          "(?)",
          "(?)",
          "(?)",
          "(?)",
          "(?)"
         ],
         "ids": [
          "Brazil/Comedy",
          "Thailand/Comedy",
          "United States/Comedy",
          "India/Education",
          "United States/Education",
          "Brazil/Entertainment",
          "India/Entertainment",
          "Thailand/Entertainment",
          "United Kingdom/Entertainment",
          "United States/Entertainment",
          "Brazil/Film & Animation",
          "United Kingdom/Film & Animation",
          "Brazil/Gaming",
          "Thailand/Gaming",
          "United Kingdom/Gaming",
          "Brazil/Music",
          "India/Music",
          "Thailand/Music",
          "United Kingdom/Music",
          "United States/Music",
          "Thailand/News & Politics",
          "India/People & Blogs",
          "United Kingdom/People & Blogs",
          "United States/People & Blogs",
          "India/Shows",
          "Brazil",
          "India",
          "Thailand",
          "United Kingdom",
          "United States"
         ],
         "labels": [
          "Comedy",
          "Comedy",
          "Comedy",
          "Education",
          "Education",
          "Entertainment",
          "Entertainment",
          "Entertainment",
          "Entertainment",
          "Entertainment",
          "Film & Animation",
          "Film & Animation",
          "Gaming",
          "Gaming",
          "Gaming",
          "Music",
          "Music",
          "Music",
          "Music",
          "Music",
          "News & Politics",
          "People & Blogs",
          "People & Blogs",
          "People & Blogs",
          "Shows",
          "Brazil",
          "India",
          "Thailand",
          "United Kingdom",
          "United States"
         ],
         "name": "",
         "parents": [
          "Brazil",
          "Thailand",
          "United States",
          "India",
          "United States",
          "Brazil",
          "India",
          "Thailand",
          "United Kingdom",
          "United States",
          "Brazil",
          "United Kingdom",
          "Brazil",
          "Thailand",
          "United Kingdom",
          "Brazil",
          "India",
          "Thailand",
          "United Kingdom",
          "United States",
          "Thailand",
          "India",
          "United Kingdom",
          "United States",
          "India",
          "",
          "",
          "",
          "",
          ""
         ],
         "type": "sunburst",
         "values": [
          40300983515,
          7798314629,
          232222959245,
          179179308515,
          386532495803,
          86834906058,
          551343827960,
          147917375894,
          66721005972,
          743334306596,
          62770223957,
          30839908931,
          39652691144,
          9269174070,
          52780798646,
          180145199728,
          673625200058,
          84769268833,
          177946742401,
          1012122856315,
          14563841315,
          122744120145,
          30207148169,
          388617684401,
          345677199342,
          409704004402,
          1872569656020,
          264317974741,
          358495604119,
          2762830302360
         ]
        }
       ],
       "layout": {
        "legend": {
         "tracegroupgap": 0
        },
        "template": {
         "data": {
          "bar": [
           {
            "error_x": {
             "color": "#2a3f5f"
            },
            "error_y": {
             "color": "#2a3f5f"
            },
            "marker": {
             "line": {
              "color": "#E5ECF6",
              "width": 0.5
             },
             "pattern": {
              "fillmode": "overlay",
              "size": 10,
              "solidity": 0.2
             }
            },
            "type": "bar"
           }
          ],
          "barpolar": [
           {
            "marker": {
             "line": {
              "color": "#E5ECF6",
              "width": 0.5
             },
             "pattern": {
              "fillmode": "overlay",
              "size": 10,
              "solidity": 0.2
             }
            },
            "type": "barpolar"
           }
          ],
          "carpet": [
           {
            "aaxis": {
             "endlinecolor": "#2a3f5f",
             "gridcolor": "white",
             "linecolor": "white",
             "minorgridcolor": "white",
             "startlinecolor": "#2a3f5f"
            },
            "baxis": {
             "endlinecolor": "#2a3f5f",
             "gridcolor": "white",
             "linecolor": "white",
             "minorgridcolor": "white",
             "startlinecolor": "#2a3f5f"
            },
            "type": "carpet"
           }
          ],
          "choropleth": [
           {
            "colorbar": {
             "outlinewidth": 0,
             "ticks": ""
            },
            "type": "choropleth"
           }
          ],
          "contour": [
           {
            "colorbar": {
             "outlinewidth": 0,
             "ticks": ""
            },
            "colorscale": [
             [
              0,
              "#0d0887"
             ],
             [
              0.1111111111111111,
              "#46039f"
             ],
             [
              0.2222222222222222,
              "#7201a8"
             ],
             [
              0.3333333333333333,
              "#9c179e"
             ],
             [
              0.4444444444444444,
              "#bd3786"
             ],
             [
              0.5555555555555556,
              "#d8576b"
             ],
             [
              0.6666666666666666,
              "#ed7953"
             ],
             [
              0.7777777777777778,
              "#fb9f3a"
             ],
             [
              0.8888888888888888,
              "#fdca26"
             ],
             [
              1,
              "#f0f921"
             ]
            ],
            "type": "contour"
           }
          ],
          "contourcarpet": [
           {
            "colorbar": {
             "outlinewidth": 0,
             "ticks": ""
            },
            "type": "contourcarpet"
           }
          ],
          "heatmap": [
           {
            "colorbar": {
             "outlinewidth": 0,
             "ticks": ""
            },
            "colorscale": [
             [
              0,
              "#0d0887"
             ],
             [
              0.1111111111111111,
              "#46039f"
             ],
             [
              0.2222222222222222,
              "#7201a8"
             ],
             [
              0.3333333333333333,
              "#9c179e"
             ],
             [
              0.4444444444444444,
              "#bd3786"
             ],
             [
              0.5555555555555556,
              "#d8576b"
             ],
             [
              0.6666666666666666,
              "#ed7953"
             ],
             [
              0.7777777777777778,
              "#fb9f3a"
             ],
             [
              0.8888888888888888,
              "#fdca26"
             ],
             [
              1,
              "#f0f921"
             ]
            ],
            "type": "heatmap"
           }
          ],
          "heatmapgl": [
           {
            "colorbar": {
             "outlinewidth": 0,
             "ticks": ""
            },
            "colorscale": [
             [
              0,
              "#0d0887"
             ],
             [
              0.1111111111111111,
              "#46039f"
             ],
             [
              0.2222222222222222,
              "#7201a8"
             ],
             [
              0.3333333333333333,
              "#9c179e"
             ],
             [
              0.4444444444444444,
              "#bd3786"
             ],
             [
              0.5555555555555556,
              "#d8576b"
             ],
             [
              0.6666666666666666,
              "#ed7953"
             ],
             [
              0.7777777777777778,
              "#fb9f3a"
             ],
             [
              0.8888888888888888,
              "#fdca26"
             ],
             [
              1,
              "#f0f921"
             ]
            ],
            "type": "heatmapgl"
           }
          ],
          "histogram": [
           {
            "marker": {
             "pattern": {
              "fillmode": "overlay",
              "size": 10,
              "solidity": 0.2
             }
            },
            "type": "histogram"
           }
          ],
          "histogram2d": [
           {
            "colorbar": {
             "outlinewidth": 0,
             "ticks": ""
            },
            "colorscale": [
             [
              0,
              "#0d0887"
             ],
             [
              0.1111111111111111,
              "#46039f"
             ],
             [
              0.2222222222222222,
              "#7201a8"
             ],
             [
              0.3333333333333333,
              "#9c179e"
             ],
             [
              0.4444444444444444,
              "#bd3786"
             ],
             [
              0.5555555555555556,
              "#d8576b"
             ],
             [
              0.6666666666666666,
              "#ed7953"
             ],
             [
              0.7777777777777778,
              "#fb9f3a"
             ],
             [
              0.8888888888888888,
              "#fdca26"
             ],
             [
              1,
              "#f0f921"
             ]
            ],
            "type": "histogram2d"
           }
          ],
          "histogram2dcontour": [
           {
            "colorbar": {
             "outlinewidth": 0,
             "ticks": ""
            },
            "colorscale": [
             [
              0,
              "#0d0887"
             ],
             [
              0.1111111111111111,
              "#46039f"
             ],
             [
              0.2222222222222222,
              "#7201a8"
             ],
             [
              0.3333333333333333,
              "#9c179e"
             ],
             [
              0.4444444444444444,
              "#bd3786"
             ],
             [
              0.5555555555555556,
              "#d8576b"
             ],
             [
              0.6666666666666666,
              "#ed7953"
             ],
             [
              0.7777777777777778,
              "#fb9f3a"
             ],
             [
              0.8888888888888888,
              "#fdca26"
             ],
             [
              1,
              "#f0f921"
             ]
            ],
            "type": "histogram2dcontour"
           }
          ],
          "mesh3d": [
           {
            "colorbar": {
             "outlinewidth": 0,
             "ticks": ""
            },
            "type": "mesh3d"
           }
          ],
          "parcoords": [
           {
            "line": {
             "colorbar": {
              "outlinewidth": 0,
              "ticks": ""
             }
            },
            "type": "parcoords"
           }
          ],
          "pie": [
           {
            "automargin": true,
            "type": "pie"
           }
          ],
          "scatter": [
           {
            "fillpattern": {
             "fillmode": "overlay",
             "size": 10,
             "solidity": 0.2
            },
            "type": "scatter"
           }
          ],
          "scatter3d": [
           {
            "line": {
             "colorbar": {
              "outlinewidth": 0,
              "ticks": ""
             }
            },
            "marker": {
             "colorbar": {
              "outlinewidth": 0,
              "ticks": ""
             }
            },
            "type": "scatter3d"
           }
          ],
          "scattercarpet": [
           {
            "marker": {
             "colorbar": {
              "outlinewidth": 0,
              "ticks": ""
             }
            },
            "type": "scattercarpet"
           }
          ],
          "scattergeo": [
           {
            "marker": {
             "colorbar": {
              "outlinewidth": 0,
              "ticks": ""
             }
            },
            "type": "scattergeo"
           }
          ],
          "scattergl": [
           {
            "marker": {
             "colorbar": {
              "outlinewidth": 0,
              "ticks": ""
             }
            },
            "type": "scattergl"
           }
          ],
          "scattermapbox": [
           {
            "marker": {
             "colorbar": {
              "outlinewidth": 0,
              "ticks": ""
             }
            },
            "type": "scattermapbox"
           }
          ],
          "scatterpolar": [
           {
            "marker": {
             "colorbar": {
              "outlinewidth": 0,
              "ticks": ""
             }
            },
            "type": "scatterpolar"
           }
          ],
          "scatterpolargl": [
           {
            "marker": {
             "colorbar": {
              "outlinewidth": 0,
              "ticks": ""
             }
            },
            "type": "scatterpolargl"
           }
          ],
          "scatterternary": [
           {
            "marker": {
             "colorbar": {
              "outlinewidth": 0,
              "ticks": ""
             }
            },
            "type": "scatterternary"
           }
          ],
          "surface": [
           {
            "colorbar": {
             "outlinewidth": 0,
             "ticks": ""
            },
            "colorscale": [
             [
              0,
              "#0d0887"
             ],
             [
              0.1111111111111111,
              "#46039f"
             ],
             [
              0.2222222222222222,
              "#7201a8"
             ],
             [
              0.3333333333333333,
              "#9c179e"
             ],
             [
              0.4444444444444444,
              "#bd3786"
             ],
             [
              0.5555555555555556,
              "#d8576b"
             ],
             [
              0.6666666666666666,
              "#ed7953"
             ],
             [
              0.7777777777777778,
              "#fb9f3a"
             ],
             [
              0.8888888888888888,
              "#fdca26"
             ],
             [
              1,
              "#f0f921"
             ]
            ],
            "type": "surface"
           }
          ],
          "table": [
           {
            "cells": {
             "fill": {
              "color": "#EBF0F8"
             },
             "line": {
              "color": "white"
             }
            },
            "header": {
             "fill": {
              "color": "#C8D4E3"
             },
             "line": {
              "color": "white"
             }
            },
            "type": "table"
           }
          ]
         },
         "layout": {
          "annotationdefaults": {
           "arrowcolor": "#2a3f5f",
           "arrowhead": 0,
           "arrowwidth": 1
          },
          "autotypenumbers": "strict",
          "coloraxis": {
           "colorbar": {
            "outlinewidth": 0,
            "ticks": ""
           }
          },
          "colorscale": {
           "diverging": [
            [
             0,
             "#8e0152"
            ],
            [
             0.1,
             "#c51b7d"
            ],
            [
             0.2,
             "#de77ae"
            ],
            [
             0.3,
             "#f1b6da"
            ],
            [
             0.4,
             "#fde0ef"
            ],
            [
             0.5,
             "#f7f7f7"
            ],
            [
             0.6,
             "#e6f5d0"
            ],
            [
             0.7,
             "#b8e186"
            ],
            [
             0.8,
             "#7fbc41"
            ],
            [
             0.9,
             "#4d9221"
            ],
            [
             1,
             "#276419"
            ]
           ],
           "sequential": [
            [
             0,
             "#0d0887"
            ],
            [
             0.1111111111111111,
             "#46039f"
            ],
            [
             0.2222222222222222,
             "#7201a8"
            ],
            [
             0.3333333333333333,
             "#9c179e"
            ],
            [
             0.4444444444444444,
             "#bd3786"
            ],
            [
             0.5555555555555556,
             "#d8576b"
            ],
            [
             0.6666666666666666,
             "#ed7953"
            ],
            [
             0.7777777777777778,
             "#fb9f3a"
            ],
            [
             0.8888888888888888,
             "#fdca26"
            ],
            [
             1,
             "#f0f921"
            ]
           ],
           "sequentialminus": [
            [
             0,
             "#0d0887"
            ],
            [
             0.1111111111111111,
             "#46039f"
            ],
            [
             0.2222222222222222,
             "#7201a8"
            ],
            [
             0.3333333333333333,
             "#9c179e"
            ],
            [
             0.4444444444444444,
             "#bd3786"
            ],
            [
             0.5555555555555556,
             "#d8576b"
            ],
            [
             0.6666666666666666,
             "#ed7953"
            ],
            [
             0.7777777777777778,
             "#fb9f3a"
            ],
            [
             0.8888888888888888,
             "#fdca26"
            ],
            [
             1,
             "#f0f921"
            ]
           ]
          },
          "colorway": [
           "#636efa",
           "#EF553B",
           "#00cc96",
           "#ab63fa",
           "#FFA15A",
           "#19d3f3",
           "#FF6692",
           "#B6E880",
           "#FF97FF",
           "#FECB52"
          ],
          "font": {
           "color": "#2a3f5f"
          },
          "geo": {
           "bgcolor": "white",
           "lakecolor": "white",
           "landcolor": "#E5ECF6",
           "showlakes": true,
           "showland": true,
           "subunitcolor": "white"
          },
          "hoverlabel": {
           "align": "left"
          },
          "hovermode": "closest",
          "mapbox": {
           "style": "light"
          },
          "paper_bgcolor": "white",
          "plot_bgcolor": "#E5ECF6",
          "polar": {
           "angularaxis": {
            "gridcolor": "white",
            "linecolor": "white",
            "ticks": ""
           },
           "bgcolor": "#E5ECF6",
           "radialaxis": {
            "gridcolor": "white",
            "linecolor": "white",
            "ticks": ""
           }
          },
          "scene": {
           "xaxis": {
            "backgroundcolor": "#E5ECF6",
            "gridcolor": "white",
            "gridwidth": 2,
            "linecolor": "white",
            "showbackground": true,
            "ticks": "",
            "zerolinecolor": "white"
           },
           "yaxis": {
            "backgroundcolor": "#E5ECF6",
            "gridcolor": "white",
            "gridwidth": 2,
            "linecolor": "white",
            "showbackground": true,
            "ticks": "",
            "zerolinecolor": "white"
           },
           "zaxis": {
            "backgroundcolor": "#E5ECF6",
            "gridcolor": "white",
            "gridwidth": 2,
            "linecolor": "white",
            "showbackground": true,
            "ticks": "",
            "zerolinecolor": "white"
           }
          },
          "shapedefaults": {
           "line": {
            "color": "#2a3f5f"
           }
          },
          "ternary": {
           "aaxis": {
            "gridcolor": "white",
            "linecolor": "white",
            "ticks": ""
           },
           "baxis": {
            "gridcolor": "white",
            "linecolor": "white",
            "ticks": ""
           },
           "bgcolor": "#E5ECF6",
           "caxis": {
            "gridcolor": "white",
            "linecolor": "white",
            "ticks": ""
           }
          },
          "title": {
           "x": 0.05
          },
          "xaxis": {
           "automargin": true,
           "gridcolor": "white",
           "linecolor": "white",
           "ticks": "",
           "title": {
            "standoff": 15
           },
           "zerolinecolor": "white",
           "zerolinewidth": 2
          },
          "yaxis": {
           "automargin": true,
           "gridcolor": "white",
           "linecolor": "white",
           "ticks": "",
           "title": {
            "standoff": 15
           },
           "zerolinecolor": "white",
           "zerolinewidth": 2
          }
         }
        },
        "title": {
         "text": "Sunburst Chart: Top 5 Countries and Their Top 5 Categories"
        }
       }
      },
      "text/html": [
       "<div>                            <div id=\"76293e67-301d-4031-85d2-ee3047ae558e\" class=\"plotly-graph-div\" style=\"height:525px; width:100%;\"></div>            <script type=\"text/javascript\">                require([\"plotly\"], function(Plotly) {                    window.PLOTLYENV=window.PLOTLYENV || {};                                    if (document.getElementById(\"76293e67-301d-4031-85d2-ee3047ae558e\")) {                    Plotly.newPlot(                        \"76293e67-301d-4031-85d2-ee3047ae558e\",                        [{\"branchvalues\":\"total\",\"customdata\":[[40300983515,173500000],[7798314629,29800000],[232222959245,420700000],[179179308515,367200000],[386532495803,576300000],[86834906058,286400000],[551343827960,927500000],[147917375894,203700000],[66721005972,186200000],[743334306596,1606600000],[62770223957,140700000],[30839908931,55000000],[39652691144,107700000],[9269174070,17600000],[52780798646,125200000],[180145199728,303800000],[673625200058,1125300000],[84769268833,119200000],[177946742401,308200000],[1012122856315,1689200000],[14563841315,16200000],[122744120145,254500000],[30207148169,47200000],[388617684401,788200000],[345677199342,358600000],[409704004402,\"(?)\"],[1872569656020,\"(?)\"],[264317974741,\"(?)\"],[358495604119,\"(?)\"],[2762830302360,\"(?)\"]],\"domain\":{\"x\":[0.0,1.0],\"y\":[0.0,1.0]},\"hovertemplate\":\"<b>%{hovertext}</b><br><br>labels=%{label}<br>video views=%{customdata[0]}<br>parent=%{parent}<br>id=%{id}<br>subscribers=%{customdata[1]}<extra></extra>\",\"hovertext\":[\"Comedy\",\"Comedy\",\"Comedy\",\"Education\",\"Education\",\"Entertainment\",\"Entertainment\",\"Entertainment\",\"Entertainment\",\"Entertainment\",\"Film & Animation\",\"Film & Animation\",\"Gaming\",\"Gaming\",\"Gaming\",\"Music\",\"Music\",\"Music\",\"Music\",\"Music\",\"News & Politics\",\"People & Blogs\",\"People & Blogs\",\"People & Blogs\",\"Shows\",\"(?)\",\"(?)\",\"(?)\",\"(?)\",\"(?)\"],\"ids\":[\"Brazil/Comedy\",\"Thailand/Comedy\",\"United States/Comedy\",\"India/Education\",\"United States/Education\",\"Brazil/Entertainment\",\"India/Entertainment\",\"Thailand/Entertainment\",\"United Kingdom/Entertainment\",\"United States/Entertainment\",\"Brazil/Film & Animation\",\"United Kingdom/Film & Animation\",\"Brazil/Gaming\",\"Thailand/Gaming\",\"United Kingdom/Gaming\",\"Brazil/Music\",\"India/Music\",\"Thailand/Music\",\"United Kingdom/Music\",\"United States/Music\",\"Thailand/News & Politics\",\"India/People & Blogs\",\"United Kingdom/People & Blogs\",\"United States/People & Blogs\",\"India/Shows\",\"Brazil\",\"India\",\"Thailand\",\"United Kingdom\",\"United States\"],\"labels\":[\"Comedy\",\"Comedy\",\"Comedy\",\"Education\",\"Education\",\"Entertainment\",\"Entertainment\",\"Entertainment\",\"Entertainment\",\"Entertainment\",\"Film & Animation\",\"Film & Animation\",\"Gaming\",\"Gaming\",\"Gaming\",\"Music\",\"Music\",\"Music\",\"Music\",\"Music\",\"News & Politics\",\"People & Blogs\",\"People & Blogs\",\"People & Blogs\",\"Shows\",\"Brazil\",\"India\",\"Thailand\",\"United Kingdom\",\"United States\"],\"name\":\"\",\"parents\":[\"Brazil\",\"Thailand\",\"United States\",\"India\",\"United States\",\"Brazil\",\"India\",\"Thailand\",\"United Kingdom\",\"United States\",\"Brazil\",\"United Kingdom\",\"Brazil\",\"Thailand\",\"United Kingdom\",\"Brazil\",\"India\",\"Thailand\",\"United Kingdom\",\"United States\",\"Thailand\",\"India\",\"United Kingdom\",\"United States\",\"India\",\"\",\"\",\"\",\"\",\"\"],\"values\":[40300983515,7798314629,232222959245,179179308515,386532495803,86834906058,551343827960,147917375894,66721005972,743334306596,62770223957,30839908931,39652691144,9269174070,52780798646,180145199728,673625200058,84769268833,177946742401,1012122856315,14563841315,122744120145,30207148169,388617684401,345677199342,409704004402,1872569656020,264317974741,358495604119,2762830302360],\"type\":\"sunburst\"}],                        {\"template\":{\"data\":{\"histogram2dcontour\":[{\"type\":\"histogram2dcontour\",\"colorbar\":{\"outlinewidth\":0,\"ticks\":\"\"},\"colorscale\":[[0.0,\"#0d0887\"],[0.1111111111111111,\"#46039f\"],[0.2222222222222222,\"#7201a8\"],[0.3333333333333333,\"#9c179e\"],[0.4444444444444444,\"#bd3786\"],[0.5555555555555556,\"#d8576b\"],[0.6666666666666666,\"#ed7953\"],[0.7777777777777778,\"#fb9f3a\"],[0.8888888888888888,\"#fdca26\"],[1.0,\"#f0f921\"]]}],\"choropleth\":[{\"type\":\"choropleth\",\"colorbar\":{\"outlinewidth\":0,\"ticks\":\"\"}}],\"histogram2d\":[{\"type\":\"histogram2d\",\"colorbar\":{\"outlinewidth\":0,\"ticks\":\"\"},\"colorscale\":[[0.0,\"#0d0887\"],[0.1111111111111111,\"#46039f\"],[0.2222222222222222,\"#7201a8\"],[0.3333333333333333,\"#9c179e\"],[0.4444444444444444,\"#bd3786\"],[0.5555555555555556,\"#d8576b\"],[0.6666666666666666,\"#ed7953\"],[0.7777777777777778,\"#fb9f3a\"],[0.8888888888888888,\"#fdca26\"],[1.0,\"#f0f921\"]]}],\"heatmap\":[{\"type\":\"heatmap\",\"colorbar\":{\"outlinewidth\":0,\"ticks\":\"\"},\"colorscale\":[[0.0,\"#0d0887\"],[0.1111111111111111,\"#46039f\"],[0.2222222222222222,\"#7201a8\"],[0.3333333333333333,\"#9c179e\"],[0.4444444444444444,\"#bd3786\"],[0.5555555555555556,\"#d8576b\"],[0.6666666666666666,\"#ed7953\"],[0.7777777777777778,\"#fb9f3a\"],[0.8888888888888888,\"#fdca26\"],[1.0,\"#f0f921\"]]}],\"heatmapgl\":[{\"type\":\"heatmapgl\",\"colorbar\":{\"outlinewidth\":0,\"ticks\":\"\"},\"colorscale\":[[0.0,\"#0d0887\"],[0.1111111111111111,\"#46039f\"],[0.2222222222222222,\"#7201a8\"],[0.3333333333333333,\"#9c179e\"],[0.4444444444444444,\"#bd3786\"],[0.5555555555555556,\"#d8576b\"],[0.6666666666666666,\"#ed7953\"],[0.7777777777777778,\"#fb9f3a\"],[0.8888888888888888,\"#fdca26\"],[1.0,\"#f0f921\"]]}],\"contourcarpet\":[{\"type\":\"contourcarpet\",\"colorbar\":{\"outlinewidth\":0,\"ticks\":\"\"}}],\"contour\":[{\"type\":\"contour\",\"colorbar\":{\"outlinewidth\":0,\"ticks\":\"\"},\"colorscale\":[[0.0,\"#0d0887\"],[0.1111111111111111,\"#46039f\"],[0.2222222222222222,\"#7201a8\"],[0.3333333333333333,\"#9c179e\"],[0.4444444444444444,\"#bd3786\"],[0.5555555555555556,\"#d8576b\"],[0.6666666666666666,\"#ed7953\"],[0.7777777777777778,\"#fb9f3a\"],[0.8888888888888888,\"#fdca26\"],[1.0,\"#f0f921\"]]}],\"surface\":[{\"type\":\"surface\",\"colorbar\":{\"outlinewidth\":0,\"ticks\":\"\"},\"colorscale\":[[0.0,\"#0d0887\"],[0.1111111111111111,\"#46039f\"],[0.2222222222222222,\"#7201a8\"],[0.3333333333333333,\"#9c179e\"],[0.4444444444444444,\"#bd3786\"],[0.5555555555555556,\"#d8576b\"],[0.6666666666666666,\"#ed7953\"],[0.7777777777777778,\"#fb9f3a\"],[0.8888888888888888,\"#fdca26\"],[1.0,\"#f0f921\"]]}],\"mesh3d\":[{\"type\":\"mesh3d\",\"colorbar\":{\"outlinewidth\":0,\"ticks\":\"\"}}],\"scatter\":[{\"fillpattern\":{\"fillmode\":\"overlay\",\"size\":10,\"solidity\":0.2},\"type\":\"scatter\"}],\"parcoords\":[{\"type\":\"parcoords\",\"line\":{\"colorbar\":{\"outlinewidth\":0,\"ticks\":\"\"}}}],\"scatterpolargl\":[{\"type\":\"scatterpolargl\",\"marker\":{\"colorbar\":{\"outlinewidth\":0,\"ticks\":\"\"}}}],\"bar\":[{\"error_x\":{\"color\":\"#2a3f5f\"},\"error_y\":{\"color\":\"#2a3f5f\"},\"marker\":{\"line\":{\"color\":\"#E5ECF6\",\"width\":0.5},\"pattern\":{\"fillmode\":\"overlay\",\"size\":10,\"solidity\":0.2}},\"type\":\"bar\"}],\"scattergeo\":[{\"type\":\"scattergeo\",\"marker\":{\"colorbar\":{\"outlinewidth\":0,\"ticks\":\"\"}}}],\"scatterpolar\":[{\"type\":\"scatterpolar\",\"marker\":{\"colorbar\":{\"outlinewidth\":0,\"ticks\":\"\"}}}],\"histogram\":[{\"marker\":{\"pattern\":{\"fillmode\":\"overlay\",\"size\":10,\"solidity\":0.2}},\"type\":\"histogram\"}],\"scattergl\":[{\"type\":\"scattergl\",\"marker\":{\"colorbar\":{\"outlinewidth\":0,\"ticks\":\"\"}}}],\"scatter3d\":[{\"type\":\"scatter3d\",\"line\":{\"colorbar\":{\"outlinewidth\":0,\"ticks\":\"\"}},\"marker\":{\"colorbar\":{\"outlinewidth\":0,\"ticks\":\"\"}}}],\"scattermapbox\":[{\"type\":\"scattermapbox\",\"marker\":{\"colorbar\":{\"outlinewidth\":0,\"ticks\":\"\"}}}],\"scatterternary\":[{\"type\":\"scatterternary\",\"marker\":{\"colorbar\":{\"outlinewidth\":0,\"ticks\":\"\"}}}],\"scattercarpet\":[{\"type\":\"scattercarpet\",\"marker\":{\"colorbar\":{\"outlinewidth\":0,\"ticks\":\"\"}}}],\"carpet\":[{\"aaxis\":{\"endlinecolor\":\"#2a3f5f\",\"gridcolor\":\"white\",\"linecolor\":\"white\",\"minorgridcolor\":\"white\",\"startlinecolor\":\"#2a3f5f\"},\"baxis\":{\"endlinecolor\":\"#2a3f5f\",\"gridcolor\":\"white\",\"linecolor\":\"white\",\"minorgridcolor\":\"white\",\"startlinecolor\":\"#2a3f5f\"},\"type\":\"carpet\"}],\"table\":[{\"cells\":{\"fill\":{\"color\":\"#EBF0F8\"},\"line\":{\"color\":\"white\"}},\"header\":{\"fill\":{\"color\":\"#C8D4E3\"},\"line\":{\"color\":\"white\"}},\"type\":\"table\"}],\"barpolar\":[{\"marker\":{\"line\":{\"color\":\"#E5ECF6\",\"width\":0.5},\"pattern\":{\"fillmode\":\"overlay\",\"size\":10,\"solidity\":0.2}},\"type\":\"barpolar\"}],\"pie\":[{\"automargin\":true,\"type\":\"pie\"}]},\"layout\":{\"autotypenumbers\":\"strict\",\"colorway\":[\"#636efa\",\"#EF553B\",\"#00cc96\",\"#ab63fa\",\"#FFA15A\",\"#19d3f3\",\"#FF6692\",\"#B6E880\",\"#FF97FF\",\"#FECB52\"],\"font\":{\"color\":\"#2a3f5f\"},\"hovermode\":\"closest\",\"hoverlabel\":{\"align\":\"left\"},\"paper_bgcolor\":\"white\",\"plot_bgcolor\":\"#E5ECF6\",\"polar\":{\"bgcolor\":\"#E5ECF6\",\"angularaxis\":{\"gridcolor\":\"white\",\"linecolor\":\"white\",\"ticks\":\"\"},\"radialaxis\":{\"gridcolor\":\"white\",\"linecolor\":\"white\",\"ticks\":\"\"}},\"ternary\":{\"bgcolor\":\"#E5ECF6\",\"aaxis\":{\"gridcolor\":\"white\",\"linecolor\":\"white\",\"ticks\":\"\"},\"baxis\":{\"gridcolor\":\"white\",\"linecolor\":\"white\",\"ticks\":\"\"},\"caxis\":{\"gridcolor\":\"white\",\"linecolor\":\"white\",\"ticks\":\"\"}},\"coloraxis\":{\"colorbar\":{\"outlinewidth\":0,\"ticks\":\"\"}},\"colorscale\":{\"sequential\":[[0.0,\"#0d0887\"],[0.1111111111111111,\"#46039f\"],[0.2222222222222222,\"#7201a8\"],[0.3333333333333333,\"#9c179e\"],[0.4444444444444444,\"#bd3786\"],[0.5555555555555556,\"#d8576b\"],[0.6666666666666666,\"#ed7953\"],[0.7777777777777778,\"#fb9f3a\"],[0.8888888888888888,\"#fdca26\"],[1.0,\"#f0f921\"]],\"sequentialminus\":[[0.0,\"#0d0887\"],[0.1111111111111111,\"#46039f\"],[0.2222222222222222,\"#7201a8\"],[0.3333333333333333,\"#9c179e\"],[0.4444444444444444,\"#bd3786\"],[0.5555555555555556,\"#d8576b\"],[0.6666666666666666,\"#ed7953\"],[0.7777777777777778,\"#fb9f3a\"],[0.8888888888888888,\"#fdca26\"],[1.0,\"#f0f921\"]],\"diverging\":[[0,\"#8e0152\"],[0.1,\"#c51b7d\"],[0.2,\"#de77ae\"],[0.3,\"#f1b6da\"],[0.4,\"#fde0ef\"],[0.5,\"#f7f7f7\"],[0.6,\"#e6f5d0\"],[0.7,\"#b8e186\"],[0.8,\"#7fbc41\"],[0.9,\"#4d9221\"],[1,\"#276419\"]]},\"xaxis\":{\"gridcolor\":\"white\",\"linecolor\":\"white\",\"ticks\":\"\",\"title\":{\"standoff\":15},\"zerolinecolor\":\"white\",\"automargin\":true,\"zerolinewidth\":2},\"yaxis\":{\"gridcolor\":\"white\",\"linecolor\":\"white\",\"ticks\":\"\",\"title\":{\"standoff\":15},\"zerolinecolor\":\"white\",\"automargin\":true,\"zerolinewidth\":2},\"scene\":{\"xaxis\":{\"backgroundcolor\":\"#E5ECF6\",\"gridcolor\":\"white\",\"linecolor\":\"white\",\"showbackground\":true,\"ticks\":\"\",\"zerolinecolor\":\"white\",\"gridwidth\":2},\"yaxis\":{\"backgroundcolor\":\"#E5ECF6\",\"gridcolor\":\"white\",\"linecolor\":\"white\",\"showbackground\":true,\"ticks\":\"\",\"zerolinecolor\":\"white\",\"gridwidth\":2},\"zaxis\":{\"backgroundcolor\":\"#E5ECF6\",\"gridcolor\":\"white\",\"linecolor\":\"white\",\"showbackground\":true,\"ticks\":\"\",\"zerolinecolor\":\"white\",\"gridwidth\":2}},\"shapedefaults\":{\"line\":{\"color\":\"#2a3f5f\"}},\"annotationdefaults\":{\"arrowcolor\":\"#2a3f5f\",\"arrowhead\":0,\"arrowwidth\":1},\"geo\":{\"bgcolor\":\"white\",\"landcolor\":\"#E5ECF6\",\"subunitcolor\":\"white\",\"showland\":true,\"showlakes\":true,\"lakecolor\":\"white\"},\"title\":{\"x\":0.05},\"mapbox\":{\"style\":\"light\"}}},\"legend\":{\"tracegroupgap\":0},\"title\":{\"text\":\"Sunburst Chart: Top 5 Countries and Their Top 5 Categories\"}},                        {\"responsive\": true}                    ).then(function(){\n",
       "                            \n",
       "var gd = document.getElementById('76293e67-301d-4031-85d2-ee3047ae558e');\n",
       "var x = new MutationObserver(function (mutations, observer) {{\n",
       "        var display = window.getComputedStyle(gd).display;\n",
       "        if (!display || display === 'none') {{\n",
       "            console.log([gd, 'removed!']);\n",
       "            Plotly.purge(gd);\n",
       "            observer.disconnect();\n",
       "        }}\n",
       "}});\n",
       "\n",
       "// Listen for the removal of the full notebook cells\n",
       "var notebookContainer = gd.closest('#notebook-container');\n",
       "if (notebookContainer) {{\n",
       "    x.observe(notebookContainer, {childList: true});\n",
       "}}\n",
       "\n",
       "// Listen for the clearing of the current output cell\n",
       "var outputEl = gd.closest('.output');\n",
       "if (outputEl) {{\n",
       "    x.observe(outputEl, {childList: true});\n",
       "}}\n",
       "\n",
       "                        })                };                });            </script>        </div>"
      ]
     },
     "metadata": {},
     "output_type": "display_data"
    }
   ],
   "source": [
    "# Create the sunburst chart\n",
    "fig4 = px.sunburst(top_5_countries_categories_df, path=['Country', 'category'],\n",
    "                  values='video views',\n",
    "                  hover_name='category',\n",
    "                  hover_data={'video views', 'subscribers'},\n",
    "                  title='Sunburst Chart: Top 5 Countries and Their Top 5 Categories')\n",
    "\n",
    "# Show the chart\n",
    "fig4.show()"
   ]
  },
  {
   "cell_type": "markdown",
   "id": "800ab5cf",
   "metadata": {},
   "source": [
    "# YouTube Subscribers Growth Over the Years"
   ]
  },
  {
   "cell_type": "code",
   "execution_count": 58,
   "id": "abe2bc34",
   "metadata": {},
   "outputs": [],
   "source": [
    "# Group the data by 'created_year' and sum the 'subscribers' for each year\n",
    "subscribers_growth = df1.groupby('created_year')['subscribers'].sum().reset_index()"
   ]
  },
  {
   "cell_type": "code",
   "execution_count": 59,
   "id": "8520961b",
   "metadata": {},
   "outputs": [
    {
     "data": {
      "application/vnd.plotly.v1+json": {
       "config": {
        "plotlyServerURL": "https://plot.ly"
       },
       "data": [
        {
         "hovertemplate": "Year=%{x}<br>Total Subscribers=%{y}<extra></extra>",
         "legendgroup": "",
         "line": {
          "color": "#636efa",
          "dash": "solid"
         },
         "marker": {
          "symbol": "circle"
         },
         "mode": "lines",
         "name": "",
         "orientation": "v",
         "showlegend": false,
         "type": "scatter",
         "x": [
          2005,
          2006,
          2007,
          2008,
          2009,
          2010,
          2011,
          2012,
          2013,
          2014,
          2015,
          2016,
          2017,
          2018,
          2019,
          2020,
          2021,
          2022
         ],
         "xaxis": "x",
         "y": [
          487000000,
          2525600000,
          1063100000,
          1045000000,
          1135000000,
          883000000,
          1671300000,
          1545300000,
          1511900000,
          1927100000,
          1445000000,
          1439700000,
          1056100000,
          853500000,
          445200000,
          468900000,
          293200000,
          51500000
         ],
         "yaxis": "y"
        }
       ],
       "layout": {
        "legend": {
         "tracegroupgap": 0
        },
        "template": {
         "data": {
          "bar": [
           {
            "error_x": {
             "color": "#2a3f5f"
            },
            "error_y": {
             "color": "#2a3f5f"
            },
            "marker": {
             "line": {
              "color": "#E5ECF6",
              "width": 0.5
             },
             "pattern": {
              "fillmode": "overlay",
              "size": 10,
              "solidity": 0.2
             }
            },
            "type": "bar"
           }
          ],
          "barpolar": [
           {
            "marker": {
             "line": {
              "color": "#E5ECF6",
              "width": 0.5
             },
             "pattern": {
              "fillmode": "overlay",
              "size": 10,
              "solidity": 0.2
             }
            },
            "type": "barpolar"
           }
          ],
          "carpet": [
           {
            "aaxis": {
             "endlinecolor": "#2a3f5f",
             "gridcolor": "white",
             "linecolor": "white",
             "minorgridcolor": "white",
             "startlinecolor": "#2a3f5f"
            },
            "baxis": {
             "endlinecolor": "#2a3f5f",
             "gridcolor": "white",
             "linecolor": "white",
             "minorgridcolor": "white",
             "startlinecolor": "#2a3f5f"
            },
            "type": "carpet"
           }
          ],
          "choropleth": [
           {
            "colorbar": {
             "outlinewidth": 0,
             "ticks": ""
            },
            "type": "choropleth"
           }
          ],
          "contour": [
           {
            "colorbar": {
             "outlinewidth": 0,
             "ticks": ""
            },
            "colorscale": [
             [
              0,
              "#0d0887"
             ],
             [
              0.1111111111111111,
              "#46039f"
             ],
             [
              0.2222222222222222,
              "#7201a8"
             ],
             [
              0.3333333333333333,
              "#9c179e"
             ],
             [
              0.4444444444444444,
              "#bd3786"
             ],
             [
              0.5555555555555556,
              "#d8576b"
             ],
             [
              0.6666666666666666,
              "#ed7953"
             ],
             [
              0.7777777777777778,
              "#fb9f3a"
             ],
             [
              0.8888888888888888,
              "#fdca26"
             ],
             [
              1,
              "#f0f921"
             ]
            ],
            "type": "contour"
           }
          ],
          "contourcarpet": [
           {
            "colorbar": {
             "outlinewidth": 0,
             "ticks": ""
            },
            "type": "contourcarpet"
           }
          ],
          "heatmap": [
           {
            "colorbar": {
             "outlinewidth": 0,
             "ticks": ""
            },
            "colorscale": [
             [
              0,
              "#0d0887"
             ],
             [
              0.1111111111111111,
              "#46039f"
             ],
             [
              0.2222222222222222,
              "#7201a8"
             ],
             [
              0.3333333333333333,
              "#9c179e"
             ],
             [
              0.4444444444444444,
              "#bd3786"
             ],
             [
              0.5555555555555556,
              "#d8576b"
             ],
             [
              0.6666666666666666,
              "#ed7953"
             ],
             [
              0.7777777777777778,
              "#fb9f3a"
             ],
             [
              0.8888888888888888,
              "#fdca26"
             ],
             [
              1,
              "#f0f921"
             ]
            ],
            "type": "heatmap"
           }
          ],
          "heatmapgl": [
           {
            "colorbar": {
             "outlinewidth": 0,
             "ticks": ""
            },
            "colorscale": [
             [
              0,
              "#0d0887"
             ],
             [
              0.1111111111111111,
              "#46039f"
             ],
             [
              0.2222222222222222,
              "#7201a8"
             ],
             [
              0.3333333333333333,
              "#9c179e"
             ],
             [
              0.4444444444444444,
              "#bd3786"
             ],
             [
              0.5555555555555556,
              "#d8576b"
             ],
             [
              0.6666666666666666,
              "#ed7953"
             ],
             [
              0.7777777777777778,
              "#fb9f3a"
             ],
             [
              0.8888888888888888,
              "#fdca26"
             ],
             [
              1,
              "#f0f921"
             ]
            ],
            "type": "heatmapgl"
           }
          ],
          "histogram": [
           {
            "marker": {
             "pattern": {
              "fillmode": "overlay",
              "size": 10,
              "solidity": 0.2
             }
            },
            "type": "histogram"
           }
          ],
          "histogram2d": [
           {
            "colorbar": {
             "outlinewidth": 0,
             "ticks": ""
            },
            "colorscale": [
             [
              0,
              "#0d0887"
             ],
             [
              0.1111111111111111,
              "#46039f"
             ],
             [
              0.2222222222222222,
              "#7201a8"
             ],
             [
              0.3333333333333333,
              "#9c179e"
             ],
             [
              0.4444444444444444,
              "#bd3786"
             ],
             [
              0.5555555555555556,
              "#d8576b"
             ],
             [
              0.6666666666666666,
              "#ed7953"
             ],
             [
              0.7777777777777778,
              "#fb9f3a"
             ],
             [
              0.8888888888888888,
              "#fdca26"
             ],
             [
              1,
              "#f0f921"
             ]
            ],
            "type": "histogram2d"
           }
          ],
          "histogram2dcontour": [
           {
            "colorbar": {
             "outlinewidth": 0,
             "ticks": ""
            },
            "colorscale": [
             [
              0,
              "#0d0887"
             ],
             [
              0.1111111111111111,
              "#46039f"
             ],
             [
              0.2222222222222222,
              "#7201a8"
             ],
             [
              0.3333333333333333,
              "#9c179e"
             ],
             [
              0.4444444444444444,
              "#bd3786"
             ],
             [
              0.5555555555555556,
              "#d8576b"
             ],
             [
              0.6666666666666666,
              "#ed7953"
             ],
             [
              0.7777777777777778,
              "#fb9f3a"
             ],
             [
              0.8888888888888888,
              "#fdca26"
             ],
             [
              1,
              "#f0f921"
             ]
            ],
            "type": "histogram2dcontour"
           }
          ],
          "mesh3d": [
           {
            "colorbar": {
             "outlinewidth": 0,
             "ticks": ""
            },
            "type": "mesh3d"
           }
          ],
          "parcoords": [
           {
            "line": {
             "colorbar": {
              "outlinewidth": 0,
              "ticks": ""
             }
            },
            "type": "parcoords"
           }
          ],
          "pie": [
           {
            "automargin": true,
            "type": "pie"
           }
          ],
          "scatter": [
           {
            "fillpattern": {
             "fillmode": "overlay",
             "size": 10,
             "solidity": 0.2
            },
            "type": "scatter"
           }
          ],
          "scatter3d": [
           {
            "line": {
             "colorbar": {
              "outlinewidth": 0,
              "ticks": ""
             }
            },
            "marker": {
             "colorbar": {
              "outlinewidth": 0,
              "ticks": ""
             }
            },
            "type": "scatter3d"
           }
          ],
          "scattercarpet": [
           {
            "marker": {
             "colorbar": {
              "outlinewidth": 0,
              "ticks": ""
             }
            },
            "type": "scattercarpet"
           }
          ],
          "scattergeo": [
           {
            "marker": {
             "colorbar": {
              "outlinewidth": 0,
              "ticks": ""
             }
            },
            "type": "scattergeo"
           }
          ],
          "scattergl": [
           {
            "marker": {
             "colorbar": {
              "outlinewidth": 0,
              "ticks": ""
             }
            },
            "type": "scattergl"
           }
          ],
          "scattermapbox": [
           {
            "marker": {
             "colorbar": {
              "outlinewidth": 0,
              "ticks": ""
             }
            },
            "type": "scattermapbox"
           }
          ],
          "scatterpolar": [
           {
            "marker": {
             "colorbar": {
              "outlinewidth": 0,
              "ticks": ""
             }
            },
            "type": "scatterpolar"
           }
          ],
          "scatterpolargl": [
           {
            "marker": {
             "colorbar": {
              "outlinewidth": 0,
              "ticks": ""
             }
            },
            "type": "scatterpolargl"
           }
          ],
          "scatterternary": [
           {
            "marker": {
             "colorbar": {
              "outlinewidth": 0,
              "ticks": ""
             }
            },
            "type": "scatterternary"
           }
          ],
          "surface": [
           {
            "colorbar": {
             "outlinewidth": 0,
             "ticks": ""
            },
            "colorscale": [
             [
              0,
              "#0d0887"
             ],
             [
              0.1111111111111111,
              "#46039f"
             ],
             [
              0.2222222222222222,
              "#7201a8"
             ],
             [
              0.3333333333333333,
              "#9c179e"
             ],
             [
              0.4444444444444444,
              "#bd3786"
             ],
             [
              0.5555555555555556,
              "#d8576b"
             ],
             [
              0.6666666666666666,
              "#ed7953"
             ],
             [
              0.7777777777777778,
              "#fb9f3a"
             ],
             [
              0.8888888888888888,
              "#fdca26"
             ],
             [
              1,
              "#f0f921"
             ]
            ],
            "type": "surface"
           }
          ],
          "table": [
           {
            "cells": {
             "fill": {
              "color": "#EBF0F8"
             },
             "line": {
              "color": "white"
             }
            },
            "header": {
             "fill": {
              "color": "#C8D4E3"
             },
             "line": {
              "color": "white"
             }
            },
            "type": "table"
           }
          ]
         },
         "layout": {
          "annotationdefaults": {
           "arrowcolor": "#2a3f5f",
           "arrowhead": 0,
           "arrowwidth": 1
          },
          "autotypenumbers": "strict",
          "coloraxis": {
           "colorbar": {
            "outlinewidth": 0,
            "ticks": ""
           }
          },
          "colorscale": {
           "diverging": [
            [
             0,
             "#8e0152"
            ],
            [
             0.1,
             "#c51b7d"
            ],
            [
             0.2,
             "#de77ae"
            ],
            [
             0.3,
             "#f1b6da"
            ],
            [
             0.4,
             "#fde0ef"
            ],
            [
             0.5,
             "#f7f7f7"
            ],
            [
             0.6,
             "#e6f5d0"
            ],
            [
             0.7,
             "#b8e186"
            ],
            [
             0.8,
             "#7fbc41"
            ],
            [
             0.9,
             "#4d9221"
            ],
            [
             1,
             "#276419"
            ]
           ],
           "sequential": [
            [
             0,
             "#0d0887"
            ],
            [
             0.1111111111111111,
             "#46039f"
            ],
            [
             0.2222222222222222,
             "#7201a8"
            ],
            [
             0.3333333333333333,
             "#9c179e"
            ],
            [
             0.4444444444444444,
             "#bd3786"
            ],
            [
             0.5555555555555556,
             "#d8576b"
            ],
            [
             0.6666666666666666,
             "#ed7953"
            ],
            [
             0.7777777777777778,
             "#fb9f3a"
            ],
            [
             0.8888888888888888,
             "#fdca26"
            ],
            [
             1,
             "#f0f921"
            ]
           ],
           "sequentialminus": [
            [
             0,
             "#0d0887"
            ],
            [
             0.1111111111111111,
             "#46039f"
            ],
            [
             0.2222222222222222,
             "#7201a8"
            ],
            [
             0.3333333333333333,
             "#9c179e"
            ],
            [
             0.4444444444444444,
             "#bd3786"
            ],
            [
             0.5555555555555556,
             "#d8576b"
            ],
            [
             0.6666666666666666,
             "#ed7953"
            ],
            [
             0.7777777777777778,
             "#fb9f3a"
            ],
            [
             0.8888888888888888,
             "#fdca26"
            ],
            [
             1,
             "#f0f921"
            ]
           ]
          },
          "colorway": [
           "#636efa",
           "#EF553B",
           "#00cc96",
           "#ab63fa",
           "#FFA15A",
           "#19d3f3",
           "#FF6692",
           "#B6E880",
           "#FF97FF",
           "#FECB52"
          ],
          "font": {
           "color": "#2a3f5f"
          },
          "geo": {
           "bgcolor": "white",
           "lakecolor": "white",
           "landcolor": "#E5ECF6",
           "showlakes": true,
           "showland": true,
           "subunitcolor": "white"
          },
          "hoverlabel": {
           "align": "left"
          },
          "hovermode": "closest",
          "mapbox": {
           "style": "light"
          },
          "paper_bgcolor": "white",
          "plot_bgcolor": "#E5ECF6",
          "polar": {
           "angularaxis": {
            "gridcolor": "white",
            "linecolor": "white",
            "ticks": ""
           },
           "bgcolor": "#E5ECF6",
           "radialaxis": {
            "gridcolor": "white",
            "linecolor": "white",
            "ticks": ""
           }
          },
          "scene": {
           "xaxis": {
            "backgroundcolor": "#E5ECF6",
            "gridcolor": "white",
            "gridwidth": 2,
            "linecolor": "white",
            "showbackground": true,
            "ticks": "",
            "zerolinecolor": "white"
           },
           "yaxis": {
            "backgroundcolor": "#E5ECF6",
            "gridcolor": "white",
            "gridwidth": 2,
            "linecolor": "white",
            "showbackground": true,
            "ticks": "",
            "zerolinecolor": "white"
           },
           "zaxis": {
            "backgroundcolor": "#E5ECF6",
            "gridcolor": "white",
            "gridwidth": 2,
            "linecolor": "white",
            "showbackground": true,
            "ticks": "",
            "zerolinecolor": "white"
           }
          },
          "shapedefaults": {
           "line": {
            "color": "#2a3f5f"
           }
          },
          "ternary": {
           "aaxis": {
            "gridcolor": "white",
            "linecolor": "white",
            "ticks": ""
           },
           "baxis": {
            "gridcolor": "white",
            "linecolor": "white",
            "ticks": ""
           },
           "bgcolor": "#E5ECF6",
           "caxis": {
            "gridcolor": "white",
            "linecolor": "white",
            "ticks": ""
           }
          },
          "title": {
           "x": 0.05
          },
          "xaxis": {
           "automargin": true,
           "gridcolor": "white",
           "linecolor": "white",
           "ticks": "",
           "title": {
            "standoff": 15
           },
           "zerolinecolor": "white",
           "zerolinewidth": 2
          },
          "yaxis": {
           "automargin": true,
           "gridcolor": "white",
           "linecolor": "white",
           "ticks": "",
           "title": {
            "standoff": 15
           },
           "zerolinecolor": "white",
           "zerolinewidth": 2
          }
         }
        },
        "title": {
         "text": "YouTube Subscribers Growth Over the Years"
        },
        "xaxis": {
         "anchor": "y",
         "domain": [
          0,
          1
         ],
         "title": {
          "text": "Year"
         }
        },
        "yaxis": {
         "anchor": "x",
         "domain": [
          0,
          1
         ],
         "title": {
          "text": "Total Subscribers"
         }
        }
       }
      },
      "text/html": [
       "<div>                            <div id=\"dfabb0ee-da38-4f44-a2f1-b22f4d7e8878\" class=\"plotly-graph-div\" style=\"height:525px; width:100%;\"></div>            <script type=\"text/javascript\">                require([\"plotly\"], function(Plotly) {                    window.PLOTLYENV=window.PLOTLYENV || {};                                    if (document.getElementById(\"dfabb0ee-da38-4f44-a2f1-b22f4d7e8878\")) {                    Plotly.newPlot(                        \"dfabb0ee-da38-4f44-a2f1-b22f4d7e8878\",                        [{\"hovertemplate\":\"Year=%{x}<br>Total Subscribers=%{y}<extra></extra>\",\"legendgroup\":\"\",\"line\":{\"color\":\"#636efa\",\"dash\":\"solid\"},\"marker\":{\"symbol\":\"circle\"},\"mode\":\"lines\",\"name\":\"\",\"orientation\":\"v\",\"showlegend\":false,\"x\":[2005,2006,2007,2008,2009,2010,2011,2012,2013,2014,2015,2016,2017,2018,2019,2020,2021,2022],\"xaxis\":\"x\",\"y\":[487000000,2525600000,1063100000,1045000000,1135000000,883000000,1671300000,1545300000,1511900000,1927100000,1445000000,1439700000,1056100000,853500000,445200000,468900000,293200000,51500000],\"yaxis\":\"y\",\"type\":\"scatter\"}],                        {\"template\":{\"data\":{\"histogram2dcontour\":[{\"type\":\"histogram2dcontour\",\"colorbar\":{\"outlinewidth\":0,\"ticks\":\"\"},\"colorscale\":[[0.0,\"#0d0887\"],[0.1111111111111111,\"#46039f\"],[0.2222222222222222,\"#7201a8\"],[0.3333333333333333,\"#9c179e\"],[0.4444444444444444,\"#bd3786\"],[0.5555555555555556,\"#d8576b\"],[0.6666666666666666,\"#ed7953\"],[0.7777777777777778,\"#fb9f3a\"],[0.8888888888888888,\"#fdca26\"],[1.0,\"#f0f921\"]]}],\"choropleth\":[{\"type\":\"choropleth\",\"colorbar\":{\"outlinewidth\":0,\"ticks\":\"\"}}],\"histogram2d\":[{\"type\":\"histogram2d\",\"colorbar\":{\"outlinewidth\":0,\"ticks\":\"\"},\"colorscale\":[[0.0,\"#0d0887\"],[0.1111111111111111,\"#46039f\"],[0.2222222222222222,\"#7201a8\"],[0.3333333333333333,\"#9c179e\"],[0.4444444444444444,\"#bd3786\"],[0.5555555555555556,\"#d8576b\"],[0.6666666666666666,\"#ed7953\"],[0.7777777777777778,\"#fb9f3a\"],[0.8888888888888888,\"#fdca26\"],[1.0,\"#f0f921\"]]}],\"heatmap\":[{\"type\":\"heatmap\",\"colorbar\":{\"outlinewidth\":0,\"ticks\":\"\"},\"colorscale\":[[0.0,\"#0d0887\"],[0.1111111111111111,\"#46039f\"],[0.2222222222222222,\"#7201a8\"],[0.3333333333333333,\"#9c179e\"],[0.4444444444444444,\"#bd3786\"],[0.5555555555555556,\"#d8576b\"],[0.6666666666666666,\"#ed7953\"],[0.7777777777777778,\"#fb9f3a\"],[0.8888888888888888,\"#fdca26\"],[1.0,\"#f0f921\"]]}],\"heatmapgl\":[{\"type\":\"heatmapgl\",\"colorbar\":{\"outlinewidth\":0,\"ticks\":\"\"},\"colorscale\":[[0.0,\"#0d0887\"],[0.1111111111111111,\"#46039f\"],[0.2222222222222222,\"#7201a8\"],[0.3333333333333333,\"#9c179e\"],[0.4444444444444444,\"#bd3786\"],[0.5555555555555556,\"#d8576b\"],[0.6666666666666666,\"#ed7953\"],[0.7777777777777778,\"#fb9f3a\"],[0.8888888888888888,\"#fdca26\"],[1.0,\"#f0f921\"]]}],\"contourcarpet\":[{\"type\":\"contourcarpet\",\"colorbar\":{\"outlinewidth\":0,\"ticks\":\"\"}}],\"contour\":[{\"type\":\"contour\",\"colorbar\":{\"outlinewidth\":0,\"ticks\":\"\"},\"colorscale\":[[0.0,\"#0d0887\"],[0.1111111111111111,\"#46039f\"],[0.2222222222222222,\"#7201a8\"],[0.3333333333333333,\"#9c179e\"],[0.4444444444444444,\"#bd3786\"],[0.5555555555555556,\"#d8576b\"],[0.6666666666666666,\"#ed7953\"],[0.7777777777777778,\"#fb9f3a\"],[0.8888888888888888,\"#fdca26\"],[1.0,\"#f0f921\"]]}],\"surface\":[{\"type\":\"surface\",\"colorbar\":{\"outlinewidth\":0,\"ticks\":\"\"},\"colorscale\":[[0.0,\"#0d0887\"],[0.1111111111111111,\"#46039f\"],[0.2222222222222222,\"#7201a8\"],[0.3333333333333333,\"#9c179e\"],[0.4444444444444444,\"#bd3786\"],[0.5555555555555556,\"#d8576b\"],[0.6666666666666666,\"#ed7953\"],[0.7777777777777778,\"#fb9f3a\"],[0.8888888888888888,\"#fdca26\"],[1.0,\"#f0f921\"]]}],\"mesh3d\":[{\"type\":\"mesh3d\",\"colorbar\":{\"outlinewidth\":0,\"ticks\":\"\"}}],\"scatter\":[{\"fillpattern\":{\"fillmode\":\"overlay\",\"size\":10,\"solidity\":0.2},\"type\":\"scatter\"}],\"parcoords\":[{\"type\":\"parcoords\",\"line\":{\"colorbar\":{\"outlinewidth\":0,\"ticks\":\"\"}}}],\"scatterpolargl\":[{\"type\":\"scatterpolargl\",\"marker\":{\"colorbar\":{\"outlinewidth\":0,\"ticks\":\"\"}}}],\"bar\":[{\"error_x\":{\"color\":\"#2a3f5f\"},\"error_y\":{\"color\":\"#2a3f5f\"},\"marker\":{\"line\":{\"color\":\"#E5ECF6\",\"width\":0.5},\"pattern\":{\"fillmode\":\"overlay\",\"size\":10,\"solidity\":0.2}},\"type\":\"bar\"}],\"scattergeo\":[{\"type\":\"scattergeo\",\"marker\":{\"colorbar\":{\"outlinewidth\":0,\"ticks\":\"\"}}}],\"scatterpolar\":[{\"type\":\"scatterpolar\",\"marker\":{\"colorbar\":{\"outlinewidth\":0,\"ticks\":\"\"}}}],\"histogram\":[{\"marker\":{\"pattern\":{\"fillmode\":\"overlay\",\"size\":10,\"solidity\":0.2}},\"type\":\"histogram\"}],\"scattergl\":[{\"type\":\"scattergl\",\"marker\":{\"colorbar\":{\"outlinewidth\":0,\"ticks\":\"\"}}}],\"scatter3d\":[{\"type\":\"scatter3d\",\"line\":{\"colorbar\":{\"outlinewidth\":0,\"ticks\":\"\"}},\"marker\":{\"colorbar\":{\"outlinewidth\":0,\"ticks\":\"\"}}}],\"scattermapbox\":[{\"type\":\"scattermapbox\",\"marker\":{\"colorbar\":{\"outlinewidth\":0,\"ticks\":\"\"}}}],\"scatterternary\":[{\"type\":\"scatterternary\",\"marker\":{\"colorbar\":{\"outlinewidth\":0,\"ticks\":\"\"}}}],\"scattercarpet\":[{\"type\":\"scattercarpet\",\"marker\":{\"colorbar\":{\"outlinewidth\":0,\"ticks\":\"\"}}}],\"carpet\":[{\"aaxis\":{\"endlinecolor\":\"#2a3f5f\",\"gridcolor\":\"white\",\"linecolor\":\"white\",\"minorgridcolor\":\"white\",\"startlinecolor\":\"#2a3f5f\"},\"baxis\":{\"endlinecolor\":\"#2a3f5f\",\"gridcolor\":\"white\",\"linecolor\":\"white\",\"minorgridcolor\":\"white\",\"startlinecolor\":\"#2a3f5f\"},\"type\":\"carpet\"}],\"table\":[{\"cells\":{\"fill\":{\"color\":\"#EBF0F8\"},\"line\":{\"color\":\"white\"}},\"header\":{\"fill\":{\"color\":\"#C8D4E3\"},\"line\":{\"color\":\"white\"}},\"type\":\"table\"}],\"barpolar\":[{\"marker\":{\"line\":{\"color\":\"#E5ECF6\",\"width\":0.5},\"pattern\":{\"fillmode\":\"overlay\",\"size\":10,\"solidity\":0.2}},\"type\":\"barpolar\"}],\"pie\":[{\"automargin\":true,\"type\":\"pie\"}]},\"layout\":{\"autotypenumbers\":\"strict\",\"colorway\":[\"#636efa\",\"#EF553B\",\"#00cc96\",\"#ab63fa\",\"#FFA15A\",\"#19d3f3\",\"#FF6692\",\"#B6E880\",\"#FF97FF\",\"#FECB52\"],\"font\":{\"color\":\"#2a3f5f\"},\"hovermode\":\"closest\",\"hoverlabel\":{\"align\":\"left\"},\"paper_bgcolor\":\"white\",\"plot_bgcolor\":\"#E5ECF6\",\"polar\":{\"bgcolor\":\"#E5ECF6\",\"angularaxis\":{\"gridcolor\":\"white\",\"linecolor\":\"white\",\"ticks\":\"\"},\"radialaxis\":{\"gridcolor\":\"white\",\"linecolor\":\"white\",\"ticks\":\"\"}},\"ternary\":{\"bgcolor\":\"#E5ECF6\",\"aaxis\":{\"gridcolor\":\"white\",\"linecolor\":\"white\",\"ticks\":\"\"},\"baxis\":{\"gridcolor\":\"white\",\"linecolor\":\"white\",\"ticks\":\"\"},\"caxis\":{\"gridcolor\":\"white\",\"linecolor\":\"white\",\"ticks\":\"\"}},\"coloraxis\":{\"colorbar\":{\"outlinewidth\":0,\"ticks\":\"\"}},\"colorscale\":{\"sequential\":[[0.0,\"#0d0887\"],[0.1111111111111111,\"#46039f\"],[0.2222222222222222,\"#7201a8\"],[0.3333333333333333,\"#9c179e\"],[0.4444444444444444,\"#bd3786\"],[0.5555555555555556,\"#d8576b\"],[0.6666666666666666,\"#ed7953\"],[0.7777777777777778,\"#fb9f3a\"],[0.8888888888888888,\"#fdca26\"],[1.0,\"#f0f921\"]],\"sequentialminus\":[[0.0,\"#0d0887\"],[0.1111111111111111,\"#46039f\"],[0.2222222222222222,\"#7201a8\"],[0.3333333333333333,\"#9c179e\"],[0.4444444444444444,\"#bd3786\"],[0.5555555555555556,\"#d8576b\"],[0.6666666666666666,\"#ed7953\"],[0.7777777777777778,\"#fb9f3a\"],[0.8888888888888888,\"#fdca26\"],[1.0,\"#f0f921\"]],\"diverging\":[[0,\"#8e0152\"],[0.1,\"#c51b7d\"],[0.2,\"#de77ae\"],[0.3,\"#f1b6da\"],[0.4,\"#fde0ef\"],[0.5,\"#f7f7f7\"],[0.6,\"#e6f5d0\"],[0.7,\"#b8e186\"],[0.8,\"#7fbc41\"],[0.9,\"#4d9221\"],[1,\"#276419\"]]},\"xaxis\":{\"gridcolor\":\"white\",\"linecolor\":\"white\",\"ticks\":\"\",\"title\":{\"standoff\":15},\"zerolinecolor\":\"white\",\"automargin\":true,\"zerolinewidth\":2},\"yaxis\":{\"gridcolor\":\"white\",\"linecolor\":\"white\",\"ticks\":\"\",\"title\":{\"standoff\":15},\"zerolinecolor\":\"white\",\"automargin\":true,\"zerolinewidth\":2},\"scene\":{\"xaxis\":{\"backgroundcolor\":\"#E5ECF6\",\"gridcolor\":\"white\",\"linecolor\":\"white\",\"showbackground\":true,\"ticks\":\"\",\"zerolinecolor\":\"white\",\"gridwidth\":2},\"yaxis\":{\"backgroundcolor\":\"#E5ECF6\",\"gridcolor\":\"white\",\"linecolor\":\"white\",\"showbackground\":true,\"ticks\":\"\",\"zerolinecolor\":\"white\",\"gridwidth\":2},\"zaxis\":{\"backgroundcolor\":\"#E5ECF6\",\"gridcolor\":\"white\",\"linecolor\":\"white\",\"showbackground\":true,\"ticks\":\"\",\"zerolinecolor\":\"white\",\"gridwidth\":2}},\"shapedefaults\":{\"line\":{\"color\":\"#2a3f5f\"}},\"annotationdefaults\":{\"arrowcolor\":\"#2a3f5f\",\"arrowhead\":0,\"arrowwidth\":1},\"geo\":{\"bgcolor\":\"white\",\"landcolor\":\"#E5ECF6\",\"subunitcolor\":\"white\",\"showland\":true,\"showlakes\":true,\"lakecolor\":\"white\"},\"title\":{\"x\":0.05},\"mapbox\":{\"style\":\"light\"}}},\"xaxis\":{\"anchor\":\"y\",\"domain\":[0.0,1.0],\"title\":{\"text\":\"Year\"}},\"yaxis\":{\"anchor\":\"x\",\"domain\":[0.0,1.0],\"title\":{\"text\":\"Total Subscribers\"}},\"legend\":{\"tracegroupgap\":0},\"title\":{\"text\":\"YouTube Subscribers Growth Over the Years\"}},                        {\"responsive\": true}                    ).then(function(){\n",
       "                            \n",
       "var gd = document.getElementById('dfabb0ee-da38-4f44-a2f1-b22f4d7e8878');\n",
       "var x = new MutationObserver(function (mutations, observer) {{\n",
       "        var display = window.getComputedStyle(gd).display;\n",
       "        if (!display || display === 'none') {{\n",
       "            console.log([gd, 'removed!']);\n",
       "            Plotly.purge(gd);\n",
       "            observer.disconnect();\n",
       "        }}\n",
       "}});\n",
       "\n",
       "// Listen for the removal of the full notebook cells\n",
       "var notebookContainer = gd.closest('#notebook-container');\n",
       "if (notebookContainer) {{\n",
       "    x.observe(notebookContainer, {childList: true});\n",
       "}}\n",
       "\n",
       "// Listen for the clearing of the current output cell\n",
       "var outputEl = gd.closest('.output');\n",
       "if (outputEl) {{\n",
       "    x.observe(outputEl, {childList: true});\n",
       "}}\n",
       "\n",
       "                        })                };                });            </script>        </div>"
      ]
     },
     "metadata": {},
     "output_type": "display_data"
    }
   ],
   "source": [
    "# Create a line chart\n",
    "fig5 = px.line(subscribers_growth, x='created_year', y='subscribers',\n",
    "              title='YouTube Subscribers Growth Over the Years',\n",
    "              labels={'created_year': 'Year', 'subscribers': 'Total Subscribers'})\n",
    "\n",
    "# Show the chart\n",
    "fig5.show()"
   ]
  },
  {
   "cell_type": "markdown",
   "id": "368a02e8",
   "metadata": {},
   "source": [
    "# Creating Dashboard"
   ]
  },
  {
   "cell_type": "code",
   "execution_count": 67,
   "id": "33ad762e",
   "metadata": {},
   "outputs": [
    {
     "data": {
      "text/html": [
       "\n",
       "        <iframe\n",
       "            width=\"100%\"\n",
       "            height=\"650\"\n",
       "            src=\"http://127.0.0.1:8061/\"\n",
       "            frameborder=\"0\"\n",
       "            allowfullscreen\n",
       "            \n",
       "        ></iframe>\n",
       "        "
      ],
      "text/plain": [
       "<IPython.lib.display.IFrame at 0x23671950850>"
      ]
     },
     "metadata": {},
     "output_type": "display_data"
    }
   ],
   "source": [
    "# Initialize the Dash app\n",
    "app = dash.Dash(__name__)\n",
    "\n",
    "# Define the layout of the dashboard\n",
    "app.layout = html.Div([\n",
    "    html.H1(\"Global YouTube Statistics Dashboard\"),\n",
    "\n",
    "    # Dropdown to select a chart\n",
    "    dcc.Dropdown(\n",
    "        id='chart-dropdown',\n",
    "        options=[\n",
    "            {'label': 'Top 10 YouTubers', 'value': 'top-10-youtubers'},\n",
    "            {'label': 'Geographic Distribution of Viewers', 'value': 'geo-plot'},\n",
    "            {'label': 'Top 5 Years of Channel Creation', 'value': 'Total Uploads by Year'},\n",
    "            {'label': 'Sunburst Chart', 'value': 'sunburst-chart'},\n",
    "            {'label': \"YouTube Subscribers Growth Over the Years\", 'value': 'top-5-growing-channels'},\n",
    "        ],\n",
    "        value='top-10-youtubers'  # Default chart\n",
    "    ),\n",
    "\n",
    "    # Chart container\n",
    "    dcc.Graph(id='selected-chart'),\n",
    "])\n",
    "\n",
    "# Callback to update the displayed chart based on the selected value\n",
    "@app.callback(\n",
    "    Output('selected-chart', 'figure'),\n",
    "    Input('chart-dropdown', 'value')\n",
    ")\n",
    "def update_selected_chart(selected_chart):\n",
    "    # Replace these placeholders with your actual chart logic\n",
    "    # You can use Plotly Express or Plotly.graph_objects to create the charts\n",
    "\n",
    "    if selected_chart == 'top-10-youtubers':\n",
    "        fig = fig1\n",
    "    elif selected_chart == 'geo-plot':\n",
    "        fig = fig2   \n",
    "    elif selected_chart == 'Total Uploads by Year':\n",
    "        fig = fig3   \n",
    "    elif selected_chart == 'sunburst-chart':\n",
    "        fig = fig4\n",
    "    elif selected_chart == 'top-5-growing-channels':\n",
    "        fig = fig5\n",
    "    else:\n",
    "        fig = None  # Default to None if an invalid chart is selected\n",
    "\n",
    "    return fig\n",
    "\n",
    "\n",
    "if __name__ == '__main__':\n",
    "    app.run_server(debug=True, port=8061)\n"
   ]
  },
  {
   "cell_type": "code",
   "execution_count": null,
   "id": "3071a258",
   "metadata": {},
   "outputs": [],
   "source": []
  }
 ],
 "metadata": {
  "kernelspec": {
   "display_name": "Python 3 (ipykernel)",
   "language": "python",
   "name": "python3"
  },
  "language_info": {
   "codemirror_mode": {
    "name": "ipython",
    "version": 3
   },
   "file_extension": ".py",
   "mimetype": "text/x-python",
   "name": "python",
   "nbconvert_exporter": "python",
   "pygments_lexer": "ipython3",
   "version": "3.10.9"
  }
 },
 "nbformat": 4,
 "nbformat_minor": 5
}
